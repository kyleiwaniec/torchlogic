{
 "cells": [
  {
   "cell_type": "code",
   "execution_count": 1,
   "id": "dc1cf98b",
   "metadata": {},
   "outputs": [],
   "source": [
    "# ! pip uninstall /Path/to/the/whl/file/torchlogic-0.0.1-py3-none-any.whl -y"
   ]
  },
  {
   "cell_type": "code",
   "execution_count": 2,
   "id": "99bde8c2",
   "metadata": {},
   "outputs": [],
   "source": [
    "# ! pip install /Path/to/the/whl/file/torchlogic-0.0.1-py3-none-any.whl"
   ]
  },
  {
   "cell_type": "code",
   "execution_count": 3,
   "id": "8bd57348",
   "metadata": {},
   "outputs": [],
   "source": [
    "# ! pip install optuna"
   ]
  },
  {
   "cell_type": "code",
   "execution_count": 40,
   "id": "c3b584d3",
   "metadata": {},
   "outputs": [],
   "source": [
    "import warnings\n",
    "warnings.filterwarnings(\"ignore\", message=\"Choices for a categorical distribution should be a tuple\")\n",
    "warnings.filterwarnings(\"ignore\", message=\"To copy construct from a tensor, it is recommended\")\n",
    "warnings.filterwarnings(\"ignore\", message=\"IProgress not found\")\n",
    "\n",
    "import copy\n",
    "\n",
    "import torch\n",
    "from torch import nn\n",
    "from torch import optim\n",
    "from torch.utils.data import Dataset\n",
    "from torch.utils.data import DataLoader, SubsetRandomSampler\n",
    "\n",
    "import optuna\n",
    "import numpy as np\n",
    "import pandas as pd\n",
    "from scipy.special import softmax, expit\n",
    "\n",
    "import matplotlib.pyplot as plt\n",
    "\n",
    "from sklearn.datasets import load_breast_cancer\n",
    "from sklearn.preprocessing import MinMaxScaler\n",
    "from sklearn.model_selection import train_test_split\n",
    "from sklearn.metrics import precision_score, roc_auc_score, f1_score\n",
    "from sklearn.linear_model import LogisticRegression\n",
    "from sklearn.isotonic import IsotonicRegression\n",
    "from sklearn.model_selection import RandomizedSearchCV\n",
    "from sklearn.calibration import calibration_curve, CalibrationDisplay\n",
    "\n",
    "\n",
    "\n",
    "import sys\n",
    "# caution: path[0] is reserved for script path (or '' in REPL)\n",
    "sys.path.insert(1, '../../')\n",
    "from torchlogic.models import BanditNRNClassifier\n",
    "from torchlogic.utils.trainers import BanditNRNTrainer"
   ]
  },
  {
   "cell_type": "code",
   "execution_count": 2,
   "id": "d5ad2d7c-9309-4851-86f8-25279ba75a2f",
   "metadata": {
    "collapsed": true,
    "jupyter": {
     "outputs_hidden": true
    },
    "tags": []
   },
   "outputs": [
    {
     "name": "stdout",
     "output_type": "stream",
     "text": [
      "Collecting pytorch_optimizer\n",
      "  Downloading pytorch_optimizer-3.8.0-py3-none-any.whl (263 kB)\n",
      "\u001b[K     |████████████████████████████████| 263 kB 13.8 MB/s eta 0:00:01\n",
      "\u001b[?25hRequirement already satisfied: torch>=1.10 in /home/khamilton/anaconda3/envs/tl/lib/python3.9/site-packages (from pytorch_optimizer) (2.8.0)\n",
      "Requirement already satisfied: numpy>1.24.4 in /home/khamilton/anaconda3/envs/tl/lib/python3.9/site-packages (from pytorch_optimizer) (1.26.4)\n",
      "Requirement already satisfied: nvidia-cublas-cu12==12.8.4.1 in /home/khamilton/anaconda3/envs/tl/lib/python3.9/site-packages (from torch>=1.10->pytorch_optimizer) (12.8.4.1)\n",
      "Requirement already satisfied: jinja2 in /home/khamilton/anaconda3/envs/tl/lib/python3.9/site-packages (from torch>=1.10->pytorch_optimizer) (2.11.3)\n",
      "Requirement already satisfied: nvidia-cudnn-cu12==9.10.2.21 in /home/khamilton/anaconda3/envs/tl/lib/python3.9/site-packages (from torch>=1.10->pytorch_optimizer) (9.10.2.21)\n",
      "Requirement already satisfied: triton==3.4.0 in /home/khamilton/anaconda3/envs/tl/lib/python3.9/site-packages (from torch>=1.10->pytorch_optimizer) (3.4.0)\n",
      "Requirement already satisfied: networkx in /home/khamilton/anaconda3/envs/tl/lib/python3.9/site-packages (from torch>=1.10->pytorch_optimizer) (2.6.3)\n",
      "Requirement already satisfied: nvidia-nvjitlink-cu12==12.8.93 in /home/khamilton/anaconda3/envs/tl/lib/python3.9/site-packages (from torch>=1.10->pytorch_optimizer) (12.8.93)\n",
      "Requirement already satisfied: nvidia-cuda-nvrtc-cu12==12.8.93 in /home/khamilton/anaconda3/envs/tl/lib/python3.9/site-packages (from torch>=1.10->pytorch_optimizer) (12.8.93)\n",
      "Requirement already satisfied: nvidia-nvtx-cu12==12.8.90 in /home/khamilton/anaconda3/envs/tl/lib/python3.9/site-packages (from torch>=1.10->pytorch_optimizer) (12.8.90)\n",
      "Requirement already satisfied: sympy>=1.13.3 in /home/khamilton/anaconda3/envs/tl/lib/python3.9/site-packages (from torch>=1.10->pytorch_optimizer) (1.14.0)\n",
      "Requirement already satisfied: nvidia-cusparselt-cu12==0.7.1 in /home/khamilton/anaconda3/envs/tl/lib/python3.9/site-packages (from torch>=1.10->pytorch_optimizer) (0.7.1)\n",
      "Requirement already satisfied: nvidia-cufile-cu12==1.13.1.3 in /home/khamilton/anaconda3/envs/tl/lib/python3.9/site-packages (from torch>=1.10->pytorch_optimizer) (1.13.1.3)\n",
      "Requirement already satisfied: nvidia-cuda-runtime-cu12==12.8.90 in /home/khamilton/anaconda3/envs/tl/lib/python3.9/site-packages (from torch>=1.10->pytorch_optimizer) (12.8.90)\n",
      "Requirement already satisfied: nvidia-cufft-cu12==11.3.3.83 in /home/khamilton/anaconda3/envs/tl/lib/python3.9/site-packages (from torch>=1.10->pytorch_optimizer) (11.3.3.83)\n",
      "Requirement already satisfied: filelock in /home/khamilton/anaconda3/envs/tl/lib/python3.9/site-packages (from torch>=1.10->pytorch_optimizer) (3.7.1)\n",
      "Requirement already satisfied: nvidia-cusparse-cu12==12.5.8.93 in /home/khamilton/anaconda3/envs/tl/lib/python3.9/site-packages (from torch>=1.10->pytorch_optimizer) (12.5.8.93)\n",
      "Requirement already satisfied: nvidia-curand-cu12==10.3.9.90 in /home/khamilton/anaconda3/envs/tl/lib/python3.9/site-packages (from torch>=1.10->pytorch_optimizer) (10.3.9.90)\n",
      "Requirement already satisfied: nvidia-nccl-cu12==2.27.3 in /home/khamilton/anaconda3/envs/tl/lib/python3.9/site-packages (from torch>=1.10->pytorch_optimizer) (2.27.3)\n",
      "Requirement already satisfied: nvidia-cuda-cupti-cu12==12.8.90 in /home/khamilton/anaconda3/envs/tl/lib/python3.9/site-packages (from torch>=1.10->pytorch_optimizer) (12.8.90)\n",
      "Requirement already satisfied: nvidia-cusolver-cu12==11.7.3.90 in /home/khamilton/anaconda3/envs/tl/lib/python3.9/site-packages (from torch>=1.10->pytorch_optimizer) (11.7.3.90)\n",
      "Requirement already satisfied: fsspec in /home/khamilton/anaconda3/envs/tl/lib/python3.9/site-packages (from torch>=1.10->pytorch_optimizer) (2021.8.1)\n",
      "Requirement already satisfied: typing-extensions>=4.10.0 in /home/khamilton/anaconda3/envs/tl/lib/python3.9/site-packages (from torch>=1.10->pytorch_optimizer) (4.14.1)\n",
      "Requirement already satisfied: setuptools>=40.8.0 in /home/khamilton/anaconda3/envs/tl/lib/python3.9/site-packages (from triton==3.4.0->torch>=1.10->pytorch_optimizer) (58.0.4)\n",
      "Requirement already satisfied: importlib-metadata in /home/khamilton/anaconda3/envs/tl/lib/python3.9/site-packages (from triton==3.4.0->torch>=1.10->pytorch_optimizer) (4.8.1)\n",
      "Requirement already satisfied: mpmath<1.4,>=1.1.0 in /home/khamilton/anaconda3/envs/tl/lib/python3.9/site-packages (from sympy>=1.13.3->torch>=1.10->pytorch_optimizer) (1.2.1)\n",
      "Requirement already satisfied: zipp>=0.5 in /home/khamilton/anaconda3/envs/tl/lib/python3.9/site-packages (from importlib-metadata->triton==3.4.0->torch>=1.10->pytorch_optimizer) (3.6.0)\n",
      "Requirement already satisfied: MarkupSafe>=0.23 in /home/khamilton/anaconda3/envs/tl/lib/python3.9/site-packages (from jinja2->torch>=1.10->pytorch_optimizer) (1.1.1)\n",
      "Installing collected packages: pytorch-optimizer\n",
      "Successfully installed pytorch-optimizer-3.8.0\n",
      "Note: you may need to restart the kernel to use updated packages.\n"
     ]
    }
   ],
   "source": [
    "pip install pytorch_optimizer"
   ]
  },
  {
   "cell_type": "code",
   "execution_count": 4,
   "id": "d82bffc7-b250-4fb0-b163-d8934221fc39",
   "metadata": {
    "collapsed": true,
    "jupyter": {
     "outputs_hidden": true
    },
    "tags": []
   },
   "outputs": [
    {
     "name": "stdout",
     "output_type": "stream",
     "text": [
      "Collecting xgboost\n",
      "  Downloading xgboost-2.1.4-py3-none-manylinux_2_28_x86_64.whl (223.6 MB)\n",
      "\u001b[K     |████████████████████████████████| 223.6 MB 86.4 MB/s eta 0:00:01\n",
      "\u001b[?25hCollecting nvidia-nccl-cu12\n",
      "  Downloading nvidia_nccl_cu12-2.27.7-py3-none-manylinux2014_x86_64.manylinux_2_17_x86_64.whl (322.5 MB)\n",
      "\u001b[K     |████████████████████████████████| 322.5 MB 23.6 MB/s eta 0:00:01\n",
      "\u001b[?25hRequirement already satisfied: scipy in /home/khamilton/anaconda3/envs/tl/lib/python3.9/site-packages (from xgboost) (1.7.1)\n",
      "Requirement already satisfied: numpy in /home/khamilton/anaconda3/envs/tl/lib/python3.9/site-packages (from xgboost) (1.26.4)\n",
      "Collecting numpy\n",
      "  Downloading numpy-1.22.4-cp39-cp39-manylinux_2_17_x86_64.manylinux2014_x86_64.whl (16.8 MB)\n",
      "\u001b[K     |████████████████████████████████| 16.8 MB 25.9 MB/s eta 0:00:01\n",
      "\u001b[?25hInstalling collected packages: numpy, nvidia-nccl-cu12, xgboost\n",
      "  Attempting uninstall: numpy\n",
      "    Found existing installation: numpy 1.26.4\n",
      "    Uninstalling numpy-1.26.4:\n",
      "      Successfully uninstalled numpy-1.26.4\n",
      "\u001b[31mERROR: pip's dependency resolver does not currently take into account all the packages that are installed. This behaviour is the source of the following dependency conflicts.\n",
      "daal4py 2021.3.0 requires daal==2021.2.3, which is not installed.\n",
      "torchvision 0.12.0 requires torch==1.11.0, but you have torch 1.13.0 which is incompatible.\n",
      "numba 0.54.1 requires numpy<1.21,>=1.17, but you have numpy 1.22.4 which is incompatible.\u001b[0m\n",
      "Successfully installed numpy-1.22.4 nvidia-nccl-cu12-2.27.7 xgboost-2.1.4\n",
      "Note: you may need to restart the kernel to use updated packages.\n"
     ]
    }
   ],
   "source": [
    "pip install xgboost"
   ]
  },
  {
   "cell_type": "code",
   "execution_count": 4,
   "id": "8da79a47-5085-41a4-a948-7d58ae706317",
   "metadata": {
    "collapsed": true,
    "jupyter": {
     "outputs_hidden": true
    },
    "tags": []
   },
   "outputs": [
    {
     "name": "stdout",
     "output_type": "stream",
     "text": [
      "Found existing installation: torchvision 0.12.0\n",
      "Uninstalling torchvision-0.12.0:\n",
      "  Successfully uninstalled torchvision-0.12.0\n",
      "Note: you may need to restart the kernel to use updated packages.\n"
     ]
    }
   ],
   "source": [
    "pip uninstall torchvision -y"
   ]
  },
  {
   "cell_type": "code",
   "execution_count": 4,
   "id": "b21e5df0-d786-4289-bd32-161285425d20",
   "metadata": {
    "collapsed": true,
    "jupyter": {
     "outputs_hidden": true
    },
    "tags": []
   },
   "outputs": [
    {
     "name": "stdout",
     "output_type": "stream",
     "text": [
      "Collecting torchvision==0.23\n",
      "  Downloading torchvision-0.23.0-cp39-cp39-manylinux_2_28_x86_64.whl (8.6 MB)\n",
      "\u001b[K     |████████████████████████████████| 8.6 MB 15.7 MB/s eta 0:00:01\n",
      "\u001b[?25hCollecting torch==2.8.0\n",
      "  Downloading torch-2.8.0-cp39-cp39-manylinux_2_28_x86_64.whl (888.0 MB)\n",
      "\u001b[K     |████████████████████████████████| 888.0 MB 11 kB/s s eta 0:00:01     |████████████████████████████▍   | 789.1 MB 3.4 MB/s eta 0:00:29\n",
      "\u001b[?25hRequirement already satisfied: pillow!=8.3.*,>=5.3.0 in /home/khamilton/anaconda3/envs/tl/lib/python3.9/site-packages (from torchvision==0.23) (8.4.0)\n",
      "Requirement already satisfied: numpy in /home/khamilton/anaconda3/envs/tl/lib/python3.9/site-packages (from torchvision==0.23) (2.0.2)\n",
      "Requirement already satisfied: filelock in /home/khamilton/anaconda3/envs/tl/lib/python3.9/site-packages (from torch==2.8.0->torchvision==0.23) (3.7.1)\n",
      "Collecting nvidia-cublas-cu12==12.8.4.1\n",
      "  Downloading nvidia_cublas_cu12-12.8.4.1-py3-none-manylinux_2_27_x86_64.whl (594.3 MB)\n",
      "\u001b[K     |████████████████████████████████| 594.3 MB 89 kB/s s eta 0:00:01��███▉                      | 183.2 MB 59.1 MB/s eta 0:00:07\n",
      "\u001b[?25hCollecting nvidia-nvjitlink-cu12==12.8.93\n",
      "  Downloading nvidia_nvjitlink_cu12-12.8.93-py3-none-manylinux2010_x86_64.manylinux_2_12_x86_64.whl (39.3 MB)\n",
      "\u001b[K     |████████████████████████████████| 39.3 MB 35.2 MB/s eta 0:00:01\n",
      "\u001b[?25hRequirement already satisfied: jinja2 in /home/khamilton/anaconda3/envs/tl/lib/python3.9/site-packages (from torch==2.8.0->torchvision==0.23) (2.11.3)\n",
      "Collecting nvidia-cusparse-cu12==12.5.8.93\n",
      "  Downloading nvidia_cusparse_cu12-12.5.8.93-py3-none-manylinux2014_x86_64.manylinux_2_17_x86_64.whl (288.2 MB)\n",
      "\u001b[K     |████████████████████████████████| 288.2 MB 41.5 MB/s eta 0:00:01\n",
      "\u001b[?25hCollecting nvidia-cuda-cupti-cu12==12.8.90\n",
      "  Downloading nvidia_cuda_cupti_cu12-12.8.90-py3-none-manylinux2014_x86_64.manylinux_2_17_x86_64.whl (10.2 MB)\n",
      "\u001b[K     |████████████████████████████████| 10.2 MB 25.3 MB/s eta 0:00:01\n",
      "\u001b[?25hCollecting nvidia-cuda-runtime-cu12==12.8.90\n",
      "  Downloading nvidia_cuda_runtime_cu12-12.8.90-py3-none-manylinux2014_x86_64.manylinux_2_17_x86_64.whl (954 kB)\n",
      "\u001b[K     |████████████████████████████████| 954 kB 28.1 MB/s eta 0:00:01\n",
      "\u001b[?25hCollecting nvidia-curand-cu12==10.3.9.90\n",
      "  Downloading nvidia_curand_cu12-10.3.9.90-py3-none-manylinux_2_27_x86_64.whl (63.6 MB)\n",
      "\u001b[K     |████████████████████████████████| 63.6 MB 29.4 MB/s eta 0:00:01\n",
      "\u001b[?25hRequirement already satisfied: networkx in /home/khamilton/anaconda3/envs/tl/lib/python3.9/site-packages (from torch==2.8.0->torchvision==0.23) (2.6.3)\n",
      "Collecting typing-extensions>=4.10.0\n",
      "  Downloading typing_extensions-4.14.1-py3-none-any.whl (43 kB)\n",
      "\u001b[K     |████████████████████████████████| 43 kB 5.3 MB/s  eta 0:00:01\n",
      "\u001b[?25hCollecting nvidia-cusparselt-cu12==0.7.1\n",
      "  Downloading nvidia_cusparselt_cu12-0.7.1-py3-none-manylinux2014_x86_64.whl (287.2 MB)\n",
      "\u001b[K     |████████████████████████████████| 287.2 MB 72.6 MB/s eta 0:00:01\n",
      "\u001b[?25hCollecting nvidia-nccl-cu12==2.27.3\n",
      "  Downloading nvidia_nccl_cu12-2.27.3-py3-none-manylinux2014_x86_64.manylinux_2_17_x86_64.whl (322.4 MB)\n",
      "\u001b[K     |████████████████████████████████| 322.4 MB 39.0 MB/s eta 0:00:011    |██████████████████▌             | 186.0 MB 75.7 MB/s eta 0:00:02\n",
      "\u001b[?25hRequirement already satisfied: fsspec in /home/khamilton/anaconda3/envs/tl/lib/python3.9/site-packages (from torch==2.8.0->torchvision==0.23) (2021.8.1)\n",
      "Collecting sympy>=1.13.3\n",
      "  Downloading sympy-1.14.0-py3-none-any.whl (6.3 MB)\n",
      "\u001b[K     |████████████████████████████████| 6.3 MB 21.9 MB/s eta 0:00:01\n",
      "\u001b[?25hCollecting triton==3.4.0\n",
      "  Downloading triton-3.4.0-cp39-cp39-manylinux_2_27_x86_64.manylinux_2_28_x86_64.whl (155.4 MB)\n",
      "\u001b[K     |████████████████████████████████| 155.4 MB 7.0 MB/s eta 0:00:011\n",
      "\u001b[?25hCollecting nvidia-cufile-cu12==1.13.1.3\n",
      "  Downloading nvidia_cufile_cu12-1.13.1.3-py3-none-manylinux2014_x86_64.manylinux_2_17_x86_64.whl (1.2 MB)\n",
      "\u001b[K     |████████████████████████████████| 1.2 MB 17.0 MB/s eta 0:00:01\n",
      "\u001b[?25hCollecting nvidia-cuda-nvrtc-cu12==12.8.93\n",
      "  Downloading nvidia_cuda_nvrtc_cu12-12.8.93-py3-none-manylinux2010_x86_64.manylinux_2_12_x86_64.whl (88.0 MB)\n",
      "\u001b[K     |████████████████████████████████| 88.0 MB 40.8 MB/s eta 0:00:01\n",
      "\u001b[?25hCollecting nvidia-cufft-cu12==11.3.3.83\n",
      "  Downloading nvidia_cufft_cu12-11.3.3.83-py3-none-manylinux2014_x86_64.manylinux_2_17_x86_64.whl (193.1 MB)\n",
      "\u001b[K     |████████████████████████████████| 193.1 MB 49.1 MB/s eta 0:00:01\n",
      "\u001b[?25hCollecting nvidia-cusolver-cu12==11.7.3.90\n",
      "  Downloading nvidia_cusolver_cu12-11.7.3.90-py3-none-manylinux_2_27_x86_64.whl (267.5 MB)\n",
      "\u001b[K     |████████████████████████████████| 267.5 MB 192 kB/s  eta 0:00:01\n",
      "\u001b[?25hCollecting nvidia-cudnn-cu12==9.10.2.21\n",
      "  Downloading nvidia_cudnn_cu12-9.10.2.21-py3-none-manylinux_2_27_x86_64.whl (706.8 MB)\n",
      "\u001b[K     |███████████████████████████████▉| 702.1 MB 209.1 MB/s eta 0:00:01"
     ]
    },
    {
     "name": "stderr",
     "output_type": "stream",
     "text": [
      "IOPub data rate exceeded.\n",
      "The Jupyter server will temporarily stop sending output\n",
      "to the client in order to avoid crashing it.\n",
      "To change this limit, set the config variable\n",
      "`--ServerApp.iopub_data_rate_limit`.\n",
      "\n",
      "Current values:\n",
      "ServerApp.iopub_data_rate_limit=1000000.0 (bytes/sec)\n",
      "ServerApp.rate_limit_window=3.0 (secs)\n",
      "\n"
     ]
    },
    {
     "name": "stdout",
     "output_type": "stream",
     "text": [
      "\u001b[K     |████████████████████████████████| 706.8 MB 38 kB/s \n",
      "\u001b[?25hCollecting nvidia-nvtx-cu12==12.8.90\n",
      "  Downloading nvidia_nvtx_cu12-12.8.90-py3-none-manylinux2014_x86_64.manylinux_2_17_x86_64.whl (89 kB)\n",
      "\u001b[K     |████████████████████████████████| 89 kB 20.3 MB/s eta 0:00:01\n",
      "\u001b[?25hRequirement already satisfied: setuptools>=40.8.0 in /home/khamilton/anaconda3/envs/tl/lib/python3.9/site-packages (from triton==3.4.0->torch==2.8.0->torchvision==0.23) (58.0.4)\n",
      "Requirement already satisfied: importlib-metadata in /home/khamilton/anaconda3/envs/tl/lib/python3.9/site-packages (from triton==3.4.0->torch==2.8.0->torchvision==0.23) (4.8.1)\n",
      "Requirement already satisfied: mpmath<1.4,>=1.1.0 in /home/khamilton/anaconda3/envs/tl/lib/python3.9/site-packages (from sympy>=1.13.3->torch==2.8.0->torchvision==0.23) (1.2.1)\n",
      "Requirement already satisfied: zipp>=0.5 in /home/khamilton/anaconda3/envs/tl/lib/python3.9/site-packages (from importlib-metadata->triton==3.4.0->torch==2.8.0->torchvision==0.23) (3.6.0)\n",
      "Requirement already satisfied: MarkupSafe>=0.23 in /home/khamilton/anaconda3/envs/tl/lib/python3.9/site-packages (from jinja2->torch==2.8.0->torchvision==0.23) (1.1.1)\n",
      "Installing collected packages: nvidia-nvjitlink-cu12, nvidia-cusparse-cu12, nvidia-cublas-cu12, typing-extensions, triton, sympy, nvidia-nvtx-cu12, nvidia-nccl-cu12, nvidia-cusparselt-cu12, nvidia-cusolver-cu12, nvidia-curand-cu12, nvidia-cufile-cu12, nvidia-cufft-cu12, nvidia-cudnn-cu12, nvidia-cuda-runtime-cu12, nvidia-cuda-nvrtc-cu12, nvidia-cuda-cupti-cu12, torch, torchvision\n",
      "  Attempting uninstall: typing-extensions\n",
      "    Found existing installation: typing-extensions 3.10.0.2\n",
      "    Uninstalling typing-extensions-3.10.0.2:\n",
      "      Successfully uninstalled typing-extensions-3.10.0.2\n",
      "  Attempting uninstall: sympy\n",
      "    Found existing installation: sympy 1.9\n",
      "    Uninstalling sympy-1.9:\n",
      "      Successfully uninstalled sympy-1.9\n",
      "  Attempting uninstall: nvidia-nccl-cu12\n",
      "    Found existing installation: nvidia-nccl-cu12 2.27.7\n",
      "    Uninstalling nvidia-nccl-cu12-2.27.7:\n",
      "      Successfully uninstalled nvidia-nccl-cu12-2.27.7\n",
      "  Attempting uninstall: torch\n",
      "    Found existing installation: torch 1.13.1\n",
      "    Uninstalling torch-1.13.1:\n",
      "      Successfully uninstalled torch-1.13.1\n",
      "  Attempting uninstall: torchvision\n",
      "    Found existing installation: torchvision 0.14.1\n",
      "    Uninstalling torchvision-0.14.1:\n",
      "      Successfully uninstalled torchvision-0.14.1\n",
      "Successfully installed nvidia-cublas-cu12-12.8.4.1 nvidia-cuda-cupti-cu12-12.8.90 nvidia-cuda-nvrtc-cu12-12.8.93 nvidia-cuda-runtime-cu12-12.8.90 nvidia-cudnn-cu12-9.10.2.21 nvidia-cufft-cu12-11.3.3.83 nvidia-cufile-cu12-1.13.1.3 nvidia-curand-cu12-10.3.9.90 nvidia-cusolver-cu12-11.7.3.90 nvidia-cusparse-cu12-12.5.8.93 nvidia-cusparselt-cu12-0.7.1 nvidia-nccl-cu12-2.27.3 nvidia-nvjitlink-cu12-12.8.93 nvidia-nvtx-cu12-12.8.90 sympy-1.14.0 torch-2.8.0 torchvision-0.23.0 triton-3.4.0 typing-extensions-4.14.1\n",
      "Note: you may need to restart the kernel to use updated packages.\n"
     ]
    }
   ],
   "source": [
    "pip install torchvision==0.23"
   ]
  },
  {
   "cell_type": "code",
   "execution_count": 4,
   "id": "69ee5fc7-77af-49e0-9af4-4faf726962cc",
   "metadata": {
    "collapsed": true,
    "jupyter": {
     "outputs_hidden": true
    },
    "tags": []
   },
   "outputs": [
    {
     "name": "stdout",
     "output_type": "stream",
     "text": [
      "Found existing installation: pandas 2.3.1\n",
      "Uninstalling pandas-2.3.1:\n",
      "  Successfully uninstalled pandas-2.3.1\n",
      "Note: you may need to restart the kernel to use updated packages.\n"
     ]
    }
   ],
   "source": [
    "pip uninstall pandas -y"
   ]
  },
  {
   "cell_type": "code",
   "execution_count": 2,
   "id": "0d192837-c4d5-4667-8329-8fade734666b",
   "metadata": {
    "collapsed": true,
    "jupyter": {
     "outputs_hidden": true
    },
    "tags": []
   },
   "outputs": [
    {
     "name": "stdout",
     "output_type": "stream",
     "text": [
      "Requirement already satisfied: pandas in /home/khamilton/anaconda3/envs/tl/lib/python3.9/site-packages (2.3.1)\n",
      "Requirement already satisfied: tzdata>=2022.7 in /home/khamilton/anaconda3/envs/tl/lib/python3.9/site-packages (from pandas) (2025.2)\n",
      "Requirement already satisfied: pytz>=2020.1 in /home/khamilton/anaconda3/envs/tl/lib/python3.9/site-packages (from pandas) (2021.3)\n",
      "Requirement already satisfied: numpy>=1.22.4 in /home/khamilton/anaconda3/envs/tl/lib/python3.9/site-packages (from pandas) (1.22.4)\n",
      "Requirement already satisfied: python-dateutil>=2.8.2 in /home/khamilton/anaconda3/envs/tl/lib/python3.9/site-packages (from pandas) (2.8.2)\n",
      "Requirement already satisfied: six>=1.5 in /home/khamilton/anaconda3/envs/tl/lib/python3.9/site-packages (from python-dateutil>=2.8.2->pandas) (1.16.0)\n",
      "Note: you may need to restart the kernel to use updated packages.\n"
     ]
    }
   ],
   "source": [
    "pip install -U pandas"
   ]
  },
  {
   "cell_type": "code",
   "execution_count": 3,
   "id": "1ff15b80-4012-4e34-927b-47c2d46619ea",
   "metadata": {
    "collapsed": true,
    "jupyter": {
     "outputs_hidden": true
    },
    "tags": []
   },
   "outputs": [
    {
     "name": "stdout",
     "output_type": "stream",
     "text": [
      "Requirement already satisfied: numexpr in /home/khamilton/anaconda3/envs/tl/lib/python3.9/site-packages (2.7.3)\n",
      "Collecting numexpr\n",
      "  Downloading numexpr-2.10.2-cp39-cp39-manylinux_2_27_x86_64.manylinux_2_28_x86_64.whl (396 kB)\n",
      "\u001b[K     |████████████████████████████████| 396 kB 9.4 MB/s eta 0:00:01\n",
      "\u001b[?25hCollecting numpy>=1.23.0\n",
      "  Using cached numpy-2.0.2-cp39-cp39-manylinux_2_17_x86_64.manylinux2014_x86_64.whl (19.5 MB)\n",
      "Installing collected packages: numpy, numexpr\n",
      "  Attempting uninstall: numpy\n",
      "    Found existing installation: numpy 1.22.4\n",
      "    Uninstalling numpy-1.22.4:\n",
      "      Successfully uninstalled numpy-1.22.4\n",
      "  Attempting uninstall: numexpr\n",
      "    Found existing installation: numexpr 2.7.3\n",
      "    Uninstalling numexpr-2.7.3:\n",
      "      Successfully uninstalled numexpr-2.7.3\n",
      "\u001b[31mERROR: pip's dependency resolver does not currently take into account all the packages that are installed. This behaviour is the source of the following dependency conflicts.\n",
      "daal4py 2021.3.0 requires daal==2021.2.3, which is not installed.\n",
      "scipy 1.7.1 requires numpy<1.23.0,>=1.16.5, but you have numpy 2.0.2 which is incompatible.\n",
      "numba 0.54.1 requires numpy<1.21,>=1.17, but you have numpy 2.0.2 which is incompatible.\u001b[0m\n",
      "Successfully installed numexpr-2.10.2 numpy-2.0.2\n",
      "Note: you may need to restart the kernel to use updated packages.\n"
     ]
    }
   ],
   "source": [
    "pip install -U numexpr"
   ]
  },
  {
   "cell_type": "code",
   "execution_count": 2,
   "id": "8b846628-08ef-417e-bb84-f24d92186851",
   "metadata": {
    "collapsed": true,
    "jupyter": {
     "outputs_hidden": true
    },
    "tags": []
   },
   "outputs": [
    {
     "name": "stdout",
     "output_type": "stream",
     "text": [
      "Collecting numpy==1.26.4\n",
      "  Using cached numpy-1.26.4-cp39-cp39-manylinux_2_17_x86_64.manylinux2014_x86_64.whl (18.2 MB)\n",
      "Installing collected packages: numpy\n",
      "  Attempting uninstall: numpy\n",
      "    Found existing installation: numpy 2.0.2\n",
      "    Uninstalling numpy-2.0.2:\n",
      "      Successfully uninstalled numpy-2.0.2\n",
      "\u001b[31mERROR: pip's dependency resolver does not currently take into account all the packages that are installed. This behaviour is the source of the following dependency conflicts.\n",
      "daal4py 2021.3.0 requires daal==2021.2.3, which is not installed.\n",
      "scipy 1.7.1 requires numpy<1.23.0,>=1.16.5, but you have numpy 1.26.4 which is incompatible.\n",
      "numba 0.54.1 requires numpy<1.21,>=1.17, but you have numpy 1.26.4 which is incompatible.\u001b[0m\n",
      "Successfully installed numpy-1.26.4\n"
     ]
    }
   ],
   "source": [
    "!pip install numpy==1.26.4"
   ]
  },
  {
   "cell_type": "code",
   "execution_count": 2,
   "id": "c0f5ade3-4f0a-4ba5-8ebd-935798f36bc8",
   "metadata": {},
   "outputs": [
    {
     "name": "stdout",
     "output_type": "stream",
     "text": [
      "# conda environments:\n",
      "#\n",
      "base                     /home/khamilton/anaconda3\n",
      "domains                  /home/khamilton/anaconda3/envs/domains\n",
      "tl                    *  /home/khamilton/anaconda3/envs/tl\n",
      "transformers             /home/khamilton/anaconda3/envs/transformers\n",
      "\n"
     ]
    }
   ],
   "source": [
    "!conda env list"
   ]
  },
  {
   "cell_type": "code",
   "execution_count": 2,
   "id": "ac7bc466-81af-4466-b7ca-21bb8e3933b0",
   "metadata": {},
   "outputs": [
    {
     "name": "stdout",
     "output_type": "stream",
     "text": [
      "1.26.4\n",
      "2.3.1\n"
     ]
    }
   ],
   "source": [
    "import numpy as np\n",
    "import pandas as pd\n",
    "print(np.__version__)\n",
    "print(pd.__version__)"
   ]
  },
  {
   "cell_type": "code",
   "execution_count": 3,
   "id": "a5146847-9737-479a-b521-ed81ba74fb7c",
   "metadata": {},
   "outputs": [],
   "source": [
    "# !python -c \"import sklearn; sklearn.show_versions()\""
   ]
  },
  {
   "cell_type": "code",
   "execution_count": 5,
   "id": "037ee335-84f8-45b6-8e5a-6c8317af40e8",
   "metadata": {},
   "outputs": [],
   "source": [
    "# # If we want the logs from Bandit-RRN training\n",
    "\n",
    "# from carrot.logger import Logger\n",
    "\n",
    "# log_config = 'configs/logging.yaml'\n",
    "# log_dir = 'logs'\n",
    "# logger = Logger.get(log_config, log_dir)"
   ]
  },
  {
   "cell_type": "markdown",
   "id": "e32cc9de",
   "metadata": {},
   "source": [
    "# Load Data"
   ]
  },
  {
   "cell_type": "code",
   "execution_count": 3,
   "id": "79426bc9",
   "metadata": {},
   "outputs": [
    {
     "data": {
      "text/plain": [
       "array(['malignant', 'benign'], dtype='<U9')"
      ]
     },
     "execution_count": 3,
     "metadata": {},
     "output_type": "execute_result"
    }
   ],
   "source": [
    "data = load_breast_cancer()\n",
    "data.target_names"
   ]
  },
  {
   "cell_type": "markdown",
   "id": "a5378c6d",
   "metadata": {},
   "source": [
    "# Prepare Bandit-RRN Data"
   ]
  },
  {
   "cell_type": "markdown",
   "id": "2a00c989",
   "metadata": {},
   "source": [
    "A dataset for the Bandit-RRN algorithm in torchlogic must return a dictionary of the following form:\n",
    "\n",
    "```python\n",
    "{\n",
    "    'features': [N_FEATURES], 'target': [N_TARGETS], 'sample_idx': [1]\n",
    "}\n",
    "```\n",
    "\n",
    "- The `features` key contains a tensor of the features used for prediction.  Feature must be numeric and scaled between 0 and 1.\n",
    "\n",
    "- The `target` key must contain a tensor of the targets, with the values of 0 or 1 for each target.\n",
    "\n",
    "- The `sample_idx` key must contain a tensor of the row number in the data corresponding to that sample."
   ]
  },
  {
   "cell_type": "markdown",
   "id": "855fbe56",
   "metadata": {},
   "source": [
    "## Preprocess Data"
   ]
  },
  {
   "cell_type": "code",
   "execution_count": 4,
   "id": "9863924f",
   "metadata": {},
   "outputs": [],
   "source": [
    "mms = MinMaxScaler()\n",
    "X = mms.fit_transform(data.data)"
   ]
  },
  {
   "cell_type": "code",
   "execution_count": 5,
   "id": "63d35d23",
   "metadata": {},
   "outputs": [],
   "source": [
    "y = data.target.reshape(-1, 1)"
   ]
  },
  {
   "cell_type": "code",
   "execution_count": 6,
   "id": "aa07eed6-9a45-4f2a-b886-8997ac612eba",
   "metadata": {},
   "outputs": [],
   "source": [
    "X_train, X_test, y_train, y_test = train_test_split(X, y, test_size=0.1, random_state=42)\n",
    "X_train, X_val, y_train, y_val = train_test_split(X_train, y_train, test_size=0.22, random_state=42)"
   ]
  },
  {
   "cell_type": "code",
   "execution_count": 32,
   "id": "38742d1b-6946-42ce-80ef-55086582fc5e",
   "metadata": {},
   "outputs": [
    {
     "data": {
      "text/plain": [
       "array([[0.26499124, 0.29387893, 0.24904982, ..., 0.03014433, 0.1852947 ,\n",
       "        0.06080283],\n",
       "       [0.28723555, 0.13966858, 0.2689517 , ..., 0.12137457, 0.10684013,\n",
       "        0.07057589],\n",
       "       [0.22144919, 0.24890091, 0.20668924, ..., 0.14646048, 0.22984427,\n",
       "        0.08664568],\n",
       "       ...,\n",
       "       [0.18547967, 0.10990869, 0.17206827, ..., 0.13584192, 0.23122413,\n",
       "        0.14305392],\n",
       "       [0.22286904, 0.49814001, 0.22513994, ..., 0.44948454, 0.24403706,\n",
       "        0.29292929],\n",
       "       [0.19636519, 0.23368279, 0.18436874, ..., 0.13896907, 0.16124581,\n",
       "        0.10356815]])"
      ]
     },
     "execution_count": 32,
     "metadata": {},
     "output_type": "execute_result"
    }
   ],
   "source": [
    "X_train"
   ]
  },
  {
   "cell_type": "markdown",
   "id": "ba908ac4",
   "metadata": {},
   "source": [
    "## Define PyTorch Dataset"
   ]
  },
  {
   "cell_type": "code",
   "execution_count": 7,
   "id": "51d41c0b",
   "metadata": {},
   "outputs": [],
   "source": [
    "class BanditNRNDataset(Dataset):\n",
    "    def __init__(\n",
    "            self,\n",
    "            X: np.array,\n",
    "            y: np.array\n",
    "    ):\n",
    "        \"\"\"\n",
    "        Dataset suitable for BanditRRN model from torchlogic\n",
    "\n",
    "        Args:\n",
    "            X (np.array): features data scaled to [0, 1]\n",
    "            y (np.array): target data of classes 0, 1\n",
    "        \"\"\"\n",
    "        super(BanditNRNDataset, self).__init__()\n",
    "        self.X = X\n",
    "        self.y = y\n",
    "        self.sample_idx = np.arange(X.shape[0])  # index of samples\n",
    "\n",
    "    def __len__(self):\n",
    "        return self.X.shape[0]\n",
    "\n",
    "    def __getitem__(self, idx):\n",
    "        features = torch.from_numpy(self.X[idx, :]).float()\n",
    "        target = torch.from_numpy(self.y[idx, :])\n",
    "        return {'features': features, 'target': target, 'sample_idx': idx}"
   ]
  },
  {
   "cell_type": "markdown",
   "id": "dd5651ce",
   "metadata": {},
   "source": [
    "## Instantiate Datasets and Data Loaders"
   ]
  },
  {
   "cell_type": "code",
   "execution_count": 8,
   "id": "27037fbe-ae68-4329-8cf0-cf35b0f1e843",
   "metadata": {},
   "outputs": [],
   "source": [
    "train_dataset = BanditNRNDataset(X=X_train, y=y_train)\n",
    "val_dataset = BanditNRNDataset(X=X_val, y=y_val)\n",
    "test_dataset = BanditNRNDataset(X=X_test, y=y_test)"
   ]
  },
  {
   "cell_type": "code",
   "execution_count": 34,
   "id": "53feb1df-f360-4410-ad91-e48a495567aa",
   "metadata": {},
   "outputs": [
    {
     "data": {
      "text/plain": [
       "{'features': tensor([0.2650, 0.2939, 0.2490, 0.1466, 0.2826, 0.0699, 0.0044, 0.0145, 0.3217,\n",
       "         0.1809, 0.0581, 0.2188, 0.0454, 0.0292, 0.1588, 0.0432, 0.0047, 0.0554,\n",
       "         0.2509, 0.0387, 0.1982, 0.2948, 0.1751, 0.0931, 0.2155, 0.0378, 0.0045,\n",
       "         0.0301, 0.1853, 0.0608]),\n",
       " 'target': tensor([1]),\n",
       " 'sample_idx': 0}"
      ]
     },
     "execution_count": 34,
     "metadata": {},
     "output_type": "execute_result"
    }
   ],
   "source": [
    "train_dataset.__getitem__(0)"
   ]
  },
  {
   "cell_type": "code",
   "execution_count": 9,
   "id": "8b8c779a",
   "metadata": {},
   "outputs": [],
   "source": [
    "g = torch.Generator()\n",
    "g.manual_seed(0)\n",
    "\n",
    "def create_holdout_samplers(train_dataset, pct=0.2):\n",
    "    train_size = len(train_dataset)\n",
    "    indices = list(range(train_size))\n",
    "    np.random.seed(0)\n",
    "    np.random.shuffle(indices)\n",
    "    \n",
    "    train_holdout_split_index = int(np.floor(pct * train_size))\n",
    "    train_idx, train_holdout_idx = indices[train_holdout_split_index:], indices[:train_holdout_split_index]\n",
    "    \n",
    "    train_sampler = SubsetRandomSampler(train_idx)\n",
    "    train_holdout_sampler = SubsetRandomSampler(train_holdout_idx)\n",
    "    \n",
    "    return train_sampler, train_holdout_sampler\n",
    "\n",
    "train_sampler, train_holdout_sampler = create_holdout_samplers(train_dataset)\n",
    "\n",
    "train_dl = DataLoader(\n",
    "    train_dataset, batch_size=32, generator=g, sampler=train_sampler,\n",
    "    pin_memory=False, persistent_workers=False, num_workers=0  # very important to optimize these settings in production\n",
    ")\n",
    "train_holdout_dl = DataLoader(\n",
    "    train_dataset, batch_size=32, generator=g, sampler=train_holdout_sampler,\n",
    "    pin_memory=False, persistent_workers=False, num_workers=0  # very important to optimize these settings in production\n",
    ")\n",
    "val_dl = DataLoader(\n",
    "    val_dataset, batch_size=32, generator=g, \n",
    "    pin_memory=False, persistent_workers=False, num_workers=0  # very important to optimize these settings in production\n",
    ")\n",
    "test_dl = DataLoader(\n",
    "    test_dataset, batch_size=32, generator=g, \n",
    "    pin_memory=False, persistent_workers=False, num_workers=0  # very important to optimize these settings in production\n",
    ")"
   ]
  },
  {
   "cell_type": "markdown",
   "id": "170ca75e",
   "metadata": {},
   "source": [
    "# Train Bandit-RRN Model"
   ]
  },
  {
   "cell_type": "markdown",
   "id": "1f4c15b9-a9e0-4276-8e9d-030e5eb3d32a",
   "metadata": {},
   "source": [
    "## Prepare the Feature Names"
   ]
  },
  {
   "cell_type": "markdown",
   "id": "1fe726ef-8d07-4147-baa6-aace2a8cc1e6",
   "metadata": {},
   "source": [
    "To aid in the explantions of our model, we can set our feature names to natural language that represents the values of the feature.\n",
    "In the current data, each feature represents a measurement in centimeters and is scaled between 0 to 1, so represents a percentile.\n",
    "We rename each feature to describe this represenation of our data, which is then used when extracting explanations from the model."
   ]
  },
  {
   "cell_type": "code",
   "execution_count": 46,
   "id": "aa3ae3f8-7905-46a2-8ef6-03fa6c83cc5b",
   "metadata": {},
   "outputs": [
    {
     "data": {
      "text/plain": [
       "Counter({0: 212, 1: 357})"
      ]
     },
     "execution_count": 46,
     "metadata": {},
     "output_type": "execute_result"
    }
   ],
   "source": [
    "from collections import Counter\n",
    "Counter(data['target'])"
   ]
  },
  {
   "cell_type": "code",
   "execution_count": 47,
   "id": "8c1a887f-91b6-4782-b954-91020befda81",
   "metadata": {},
   "outputs": [
    {
     "data": {
      "text/plain": [
       "{'data': array([[1.799e+01, 1.038e+01, 1.228e+02, ..., 2.654e-01, 4.601e-01,\n",
       "         1.189e-01],\n",
       "        [2.057e+01, 1.777e+01, 1.329e+02, ..., 1.860e-01, 2.750e-01,\n",
       "         8.902e-02],\n",
       "        [1.969e+01, 2.125e+01, 1.300e+02, ..., 2.430e-01, 3.613e-01,\n",
       "         8.758e-02],\n",
       "        ...,\n",
       "        [1.660e+01, 2.808e+01, 1.083e+02, ..., 1.418e-01, 2.218e-01,\n",
       "         7.820e-02],\n",
       "        [2.060e+01, 2.933e+01, 1.401e+02, ..., 2.650e-01, 4.087e-01,\n",
       "         1.240e-01],\n",
       "        [7.760e+00, 2.454e+01, 4.792e+01, ..., 0.000e+00, 2.871e-01,\n",
       "         7.039e-02]]),\n",
       " 'target': array([0, 0, 0, 0, 0, 0, 0, 0, 0, 0, 0, 0, 0, 0, 0, 0, 0, 0, 0, 1, 1, 1,\n",
       "        0, 0, 0, 0, 0, 0, 0, 0, 0, 0, 0, 0, 0, 0, 0, 1, 0, 0, 0, 0, 0, 0,\n",
       "        0, 0, 1, 0, 1, 1, 1, 1, 1, 0, 0, 1, 0, 0, 1, 1, 1, 1, 0, 1, 0, 0,\n",
       "        1, 1, 1, 1, 0, 1, 0, 0, 1, 0, 1, 0, 0, 1, 1, 1, 0, 0, 1, 0, 0, 0,\n",
       "        1, 1, 1, 0, 1, 1, 0, 0, 1, 1, 1, 0, 0, 1, 1, 1, 1, 0, 1, 1, 0, 1,\n",
       "        1, 1, 1, 1, 1, 1, 1, 0, 0, 0, 1, 0, 0, 1, 1, 1, 0, 0, 1, 0, 1, 0,\n",
       "        0, 1, 0, 0, 1, 1, 0, 1, 1, 0, 1, 1, 1, 1, 0, 1, 1, 1, 1, 1, 1, 1,\n",
       "        1, 1, 0, 1, 1, 1, 1, 0, 0, 1, 0, 1, 1, 0, 0, 1, 1, 0, 0, 1, 1, 1,\n",
       "        1, 0, 1, 1, 0, 0, 0, 1, 0, 1, 0, 1, 1, 1, 0, 1, 1, 0, 0, 1, 0, 0,\n",
       "        0, 0, 1, 0, 0, 0, 1, 0, 1, 0, 1, 1, 0, 1, 0, 0, 0, 0, 1, 1, 0, 0,\n",
       "        1, 1, 1, 0, 1, 1, 1, 1, 1, 0, 0, 1, 1, 0, 1, 1, 0, 0, 1, 0, 1, 1,\n",
       "        1, 1, 0, 1, 1, 1, 1, 1, 0, 1, 0, 0, 0, 0, 0, 0, 0, 0, 0, 0, 0, 0,\n",
       "        0, 0, 1, 1, 1, 1, 1, 1, 0, 1, 0, 1, 1, 0, 1, 1, 0, 1, 0, 0, 1, 1,\n",
       "        1, 1, 1, 1, 1, 1, 1, 1, 1, 1, 1, 0, 1, 1, 0, 1, 0, 1, 1, 1, 1, 1,\n",
       "        1, 1, 1, 1, 1, 1, 1, 1, 1, 0, 1, 1, 1, 0, 1, 0, 1, 1, 1, 1, 0, 0,\n",
       "        0, 1, 1, 1, 1, 0, 1, 0, 1, 0, 1, 1, 1, 0, 1, 1, 1, 1, 1, 1, 1, 0,\n",
       "        0, 0, 1, 1, 1, 1, 1, 1, 1, 1, 1, 1, 1, 0, 0, 1, 0, 0, 0, 1, 0, 0,\n",
       "        1, 1, 1, 1, 1, 0, 1, 1, 1, 1, 1, 0, 1, 1, 1, 0, 1, 1, 0, 0, 1, 1,\n",
       "        1, 1, 1, 1, 0, 1, 1, 1, 1, 1, 1, 1, 0, 1, 1, 1, 1, 1, 0, 1, 1, 0,\n",
       "        1, 1, 1, 1, 1, 1, 1, 1, 1, 1, 1, 1, 0, 1, 0, 0, 1, 0, 1, 1, 1, 1,\n",
       "        1, 0, 1, 1, 0, 1, 0, 1, 1, 0, 1, 0, 1, 1, 1, 1, 1, 1, 1, 1, 0, 0,\n",
       "        1, 1, 1, 1, 1, 1, 0, 1, 1, 1, 1, 1, 1, 1, 1, 1, 1, 0, 1, 1, 1, 1,\n",
       "        1, 1, 1, 0, 1, 0, 1, 1, 0, 1, 1, 1, 1, 1, 0, 0, 1, 0, 1, 0, 1, 1,\n",
       "        1, 1, 1, 0, 1, 1, 0, 1, 0, 1, 0, 0, 1, 1, 1, 0, 1, 1, 1, 1, 1, 1,\n",
       "        1, 1, 1, 1, 1, 0, 1, 0, 0, 1, 1, 1, 1, 1, 1, 1, 1, 1, 1, 1, 1, 1,\n",
       "        1, 1, 1, 1, 1, 1, 1, 1, 1, 1, 1, 1, 0, 0, 0, 0, 0, 0, 1]),\n",
       " 'frame': None,\n",
       " 'target_names': array(['malignant', 'benign'], dtype='<U9'),\n",
       " 'DESCR': '.. _breast_cancer_dataset:\\n\\nBreast cancer wisconsin (diagnostic) dataset\\n--------------------------------------------\\n\\n**Data Set Characteristics:**\\n\\n:Number of Instances: 569\\n\\n:Number of Attributes: 30 numeric, predictive attributes and the class\\n\\n:Attribute Information:\\n    - radius (mean of distances from center to points on the perimeter)\\n    - texture (standard deviation of gray-scale values)\\n    - perimeter\\n    - area\\n    - smoothness (local variation in radius lengths)\\n    - compactness (perimeter^2 / area - 1.0)\\n    - concavity (severity of concave portions of the contour)\\n    - concave points (number of concave portions of the contour)\\n    - symmetry\\n    - fractal dimension (\"coastline approximation\" - 1)\\n\\n    The mean, standard error, and \"worst\" or largest (mean of the three\\n    worst/largest values) of these features were computed for each image,\\n    resulting in 30 features.  For instance, field 0 is Mean Radius, field\\n    10 is Radius SE, field 20 is Worst Radius.\\n\\n    - class:\\n            - WDBC-Malignant\\n            - WDBC-Benign\\n\\n:Summary Statistics:\\n\\n===================================== ====== ======\\n                                        Min    Max\\n===================================== ====== ======\\nradius (mean):                        6.981  28.11\\ntexture (mean):                       9.71   39.28\\nperimeter (mean):                     43.79  188.5\\narea (mean):                          143.5  2501.0\\nsmoothness (mean):                    0.053  0.163\\ncompactness (mean):                   0.019  0.345\\nconcavity (mean):                     0.0    0.427\\nconcave points (mean):                0.0    0.201\\nsymmetry (mean):                      0.106  0.304\\nfractal dimension (mean):             0.05   0.097\\nradius (standard error):              0.112  2.873\\ntexture (standard error):             0.36   4.885\\nperimeter (standard error):           0.757  21.98\\narea (standard error):                6.802  542.2\\nsmoothness (standard error):          0.002  0.031\\ncompactness (standard error):         0.002  0.135\\nconcavity (standard error):           0.0    0.396\\nconcave points (standard error):      0.0    0.053\\nsymmetry (standard error):            0.008  0.079\\nfractal dimension (standard error):   0.001  0.03\\nradius (worst):                       7.93   36.04\\ntexture (worst):                      12.02  49.54\\nperimeter (worst):                    50.41  251.2\\narea (worst):                         185.2  4254.0\\nsmoothness (worst):                   0.071  0.223\\ncompactness (worst):                  0.027  1.058\\nconcavity (worst):                    0.0    1.252\\nconcave points (worst):               0.0    0.291\\nsymmetry (worst):                     0.156  0.664\\nfractal dimension (worst):            0.055  0.208\\n===================================== ====== ======\\n\\n:Missing Attribute Values: None\\n\\n:Class Distribution: 212 - Malignant, 357 - Benign\\n\\n:Creator:  Dr. William H. Wolberg, W. Nick Street, Olvi L. Mangasarian\\n\\n:Donor: Nick Street\\n\\n:Date: November, 1995\\n\\nThis is a copy of UCI ML Breast Cancer Wisconsin (Diagnostic) datasets.\\nhttps://goo.gl/U2Uwz2\\n\\nFeatures are computed from a digitized image of a fine needle\\naspirate (FNA) of a breast mass.  They describe\\ncharacteristics of the cell nuclei present in the image.\\n\\nSeparating plane described above was obtained using\\nMultisurface Method-Tree (MSM-T) [K. P. Bennett, \"Decision Tree\\nConstruction Via Linear Programming.\" Proceedings of the 4th\\nMidwest Artificial Intelligence and Cognitive Science Society,\\npp. 97-101, 1992], a classification method which uses linear\\nprogramming to construct a decision tree.  Relevant features\\nwere selected using an exhaustive search in the space of 1-4\\nfeatures and 1-3 separating planes.\\n\\nThe actual linear program used to obtain the separating plane\\nin the 3-dimensional space is that described in:\\n[K. P. Bennett and O. L. Mangasarian: \"Robust Linear\\nProgramming Discrimination of Two Linearly Inseparable Sets\",\\nOptimization Methods and Software 1, 1992, 23-34].\\n\\nThis database is also available through the UW CS ftp server:\\n\\nftp ftp.cs.wisc.edu\\ncd math-prog/cpo-dataset/machine-learn/WDBC/\\n\\n.. dropdown:: References\\n\\n  - W.N. Street, W.H. Wolberg and O.L. Mangasarian. Nuclear feature extraction\\n    for breast tumor diagnosis. IS&T/SPIE 1993 International Symposium on\\n    Electronic Imaging: Science and Technology, volume 1905, pages 861-870,\\n    San Jose, CA, 1993.\\n  - O.L. Mangasarian, W.N. Street and W.H. Wolberg. Breast cancer diagnosis and\\n    prognosis via linear programming. Operations Research, 43(4), pages 570-577,\\n    July-August 1995.\\n  - W.H. Wolberg, W.N. Street, and O.L. Mangasarian. Machine learning techniques\\n    to diagnose breast cancer from fine-needle aspirates. Cancer Letters 77 (1994)\\n    163-171.\\n',\n",
       " 'feature_names': ['the mean radius was',\n",
       "  'the mean texture was',\n",
       "  'the mean perimeter was',\n",
       "  'the mean area was',\n",
       "  'the mean smoothness was',\n",
       "  'the mean compactness was',\n",
       "  'the mean concavity was',\n",
       "  'the mean concave points was',\n",
       "  'the mean symmetry was',\n",
       "  'the mean fractal dimension was',\n",
       "  'the radius error was',\n",
       "  'the texture error was',\n",
       "  'the perimeter error was',\n",
       "  'the area error was',\n",
       "  'the smoothness error was',\n",
       "  'the compactness error was',\n",
       "  'the concavity error was',\n",
       "  'the concave points error was',\n",
       "  'the symmetry error was',\n",
       "  'the fractal dimension error was',\n",
       "  'the worst radius was',\n",
       "  'the worst texture was',\n",
       "  'the worst perimeter was',\n",
       "  'the worst area was',\n",
       "  'the worst smoothness was',\n",
       "  'the worst compactness was',\n",
       "  'the worst concavity was',\n",
       "  'the worst concave points was',\n",
       "  'the worst symmetry was',\n",
       "  'the worst fractal dimension was'],\n",
       " 'filename': 'breast_cancer.csv',\n",
       " 'data_module': 'sklearn.datasets.data'}"
      ]
     },
     "execution_count": 47,
     "metadata": {},
     "output_type": "execute_result"
    }
   ],
   "source": [
    "data"
   ]
  },
  {
   "cell_type": "code",
   "execution_count": 10,
   "id": "7f0497ad-135b-42e0-b5dc-69922181e643",
   "metadata": {},
   "outputs": [
    {
     "data": {
      "text/plain": [
       "array(['mean radius', 'mean texture', 'mean perimeter', 'mean area',\n",
       "       'mean smoothness', 'mean compactness', 'mean concavity',\n",
       "       'mean concave points', 'mean symmetry', 'mean fractal dimension',\n",
       "       'radius error', 'texture error', 'perimeter error', 'area error',\n",
       "       'smoothness error', 'compactness error', 'concavity error',\n",
       "       'concave points error', 'symmetry error',\n",
       "       'fractal dimension error', 'worst radius', 'worst texture',\n",
       "       'worst perimeter', 'worst area', 'worst smoothness',\n",
       "       'worst compactness', 'worst concavity', 'worst concave points',\n",
       "       'worst symmetry', 'worst fractal dimension'], dtype='<U23')"
      ]
     },
     "execution_count": 10,
     "metadata": {},
     "output_type": "execute_result"
    }
   ],
   "source": [
    "data.feature_names"
   ]
  },
  {
   "cell_type": "code",
   "execution_count": 11,
   "id": "e8382f72-174e-43f3-a2e3-375fe78dcf5f",
   "metadata": {},
   "outputs": [],
   "source": [
    "data.feature_names = [f\"the {x} was\" for x in data.feature_names]"
   ]
  },
  {
   "cell_type": "code",
   "execution_count": 12,
   "id": "2a29441d-b77b-4491-ae59-4845efd3940f",
   "metadata": {},
   "outputs": [
    {
     "data": {
      "text/plain": [
       "['the mean radius was',\n",
       " 'the mean texture was',\n",
       " 'the mean perimeter was',\n",
       " 'the mean area was',\n",
       " 'the mean smoothness was']"
      ]
     },
     "execution_count": 12,
     "metadata": {},
     "output_type": "execute_result"
    }
   ],
   "source": [
    "data.feature_names[:5]"
   ]
  },
  {
   "cell_type": "markdown",
   "id": "2e623836",
   "metadata": {},
   "source": [
    "## Tune Hyper-parameters"
   ]
  },
  {
   "cell_type": "code",
   "execution_count": 13,
   "id": "b8425fa6",
   "metadata": {},
   "outputs": [],
   "source": [
    "torch.random.manual_seed(0)\n",
    "np.random.seed(0)\n",
    "\n",
    "class TuneParameters:\n",
    "    \n",
    "    def __init__(self, n_trials=10):\n",
    "        self.best_model = None\n",
    "        self.best_rn_val_performance = 0.0\n",
    "        self.n_trials = n_trials\n",
    "\n",
    "    def _objective(self, trial):\n",
    "\n",
    "        ########################################################################################################################\n",
    "        # NOTE: These hyper-parameter settings are specific to the breast cancer dataset.  For information on generally useful\n",
    "        # ranges of hyper-parameters and their descriptions see our documentation: \n",
    "        ########################################################################################################################\n",
    "\n",
    "        # Set Parameters\n",
    "        \n",
    "        ## Reinforced Reasoning Network Parameters\n",
    "        layer_sizes = trial.suggest_categorical('layer_sizes', [(2, ), (3, ), (5, ), (10, ), \n",
    "                                                                (2, 2), (3, 3), (5, 5), (10, 10)])\n",
    "        n_selected_features_input = trial.suggest_int('n_selected_features_input', low=2, high=3)\n",
    "        n_selected_features_internal = trial.suggest_int('n_selected_features_internal', low=2, high=min(3, min(layer_sizes)))\n",
    "        n_selected_features_output = trial.suggest_int('n_selected_features_output', low=2, high=min(3, layer_sizes[-1]))\n",
    "        perform_prune_plateau_count = trial.suggest_int('perform_prune_plateau_count', low=1, high=1)\n",
    "        perform_prune_quantile = trial.suggest_float('perform_prune_quantile', low=0.1, high=0.9)\n",
    "        increase_prune_plateau_count = trial.suggest_int('increase_prune_plateau_count', low=0, high=20)\n",
    "        increase_prune_plateau_count_plateau_count = trial.suggest_int('increase_prune_plateau_count_plateau_count', low=10, high=30)\n",
    "        ucb_scale = trial.suggest_float('ucb_scale', low=1.0, high=2.0)\n",
    "        normal_form = trial.suggest_categorical('normal_form', ['dnf', 'cnf'])\n",
    "        prune_strategy = trial.suggest_categorical('prune_strategy', ['logic'])\n",
    "        delta = trial.suggest_float('delta', low=2.0, high=2.0)\n",
    "        bootstrap = trial.suggest_categorical('bootstrap', [True, False])\n",
    "        swa = trial.suggest_categorical('swa', [True, False])\n",
    "        add_negations = trial.suggest_categorical('add_negations', [True, False])\n",
    "        weight_init = trial.suggest_float('weight_init', low=0.01, high=1.0)\n",
    "\n",
    "        ## Optimizer Parameters\n",
    "\n",
    "        ### Learning Rate\n",
    "        learning_rate = trial.suggest_float('learning_rate', low=0.01, high=0.2)\n",
    "\n",
    "        ### L1 Regularization\n",
    "        use_l1 = trial.suggest_categorical('use_l1', [True, False])\n",
    "        if use_l1:\n",
    "            l1_lambda = trial.suggest_float('l1_lambda', low=0.00001, high=0.1)\n",
    "        else:\n",
    "            l1_lambda = 0\n",
    "\n",
    "        ### Weight Decay Regularization\n",
    "        use_weight_decay = trial.suggest_categorical('use_weight_decay', [True, False])\n",
    "        if use_weight_decay:\n",
    "            weight_decay = trial.suggest_float('weight_decay', low=0.00001, high=0.1)\n",
    "        else:\n",
    "            weight_decay = 0\n",
    "\n",
    "        ### Lookahead Optimization\n",
    "        use_lookahead = trial.suggest_categorical('use_lookahead', [True, False])\n",
    "        if use_lookahead:\n",
    "            lookahead_steps = trial.suggest_int('lookahead_steps', low=5, high=10, step=1)\n",
    "            lookahead_steps_size = trial.suggest_float('lookahead_steps_size', low=0.5, high=0.8)\n",
    "        else:\n",
    "            lookahead_steps = 0\n",
    "            lookahead_steps_size = 0\n",
    "\n",
    "        ### Data Augmentation\n",
    "        # augment = trial.suggest_categorical('augment', ['CM', 'MU', 'AT', None])\n",
    "        augment = trial.suggest_categorical('augment', ['CM', 'MU', None])  # excluding Adversarial Learning because it fails on Jupyter Notebooks\n",
    "        if augment is not None:\n",
    "            augment_alpha = trial.suggest_float('augment_alpha', low=0.0, high=1.0)\n",
    "        else:\n",
    "            augment_alpha = 0\n",
    "\n",
    "        ### Early Stopping\n",
    "        early_stopping_plateau_count = trial.suggest_int('early_stopping_plateau_count', low=20, high=50, step=1)\n",
    "        \n",
    "        ## Scheulder parameters\n",
    "        t_0 = trial.suggest_int('T_0', low=2, high=10, step=1)\n",
    "        t_mult = trial.suggest_int('T_mult', low=1, high=3, step=1)\n",
    "\n",
    "        # init model\n",
    "        model = BanditNRNClassifier(\n",
    "            target_names=['benign_label'],\n",
    "            feature_names=list(data.feature_names),\n",
    "            input_size=len(data.feature_names),\n",
    "            output_size=1,\n",
    "            layer_sizes=layer_sizes,\n",
    "            n_selected_features_input=n_selected_features_input,\n",
    "            n_selected_features_internal=n_selected_features_internal,\n",
    "            n_selected_features_output=n_selected_features_output,\n",
    "            perform_prune_quantile=perform_prune_quantile,\n",
    "            ucb_scale=ucb_scale,\n",
    "            prune_strategy=prune_strategy,\n",
    "            normal_form=normal_form,\n",
    "            delta=delta,\n",
    "            bootstrap=bootstrap,\n",
    "            swa=swa,\n",
    "            add_negations=add_negations,\n",
    "            weight_init=weight_init,\n",
    "            logits=True\n",
    "        )\n",
    "\n",
    "        epochs = 200\n",
    "        accumulation_steps = 1\n",
    "        optimizer = optim.AdamW(model.rn.parameters(), lr=learning_rate, weight_decay=weight_decay)\n",
    "        scheduler = optim.lr_scheduler.CosineAnnealingWarmRestarts(optimizer, T_0=t_0, T_mult=t_mult)\n",
    "        trainer = BanditNRNTrainer(\n",
    "            model=model,\n",
    "            loss_func=nn.BCEWithLogitsLoss(),\n",
    "            optimizer=optimizer,\n",
    "            scheduler=scheduler,\n",
    "            epochs=epochs,\n",
    "            accumulation_steps=accumulation_steps,\n",
    "            l1_lambda=l1_lambda,\n",
    "            early_stopping_plateau_count=early_stopping_plateau_count,\n",
    "            perform_prune_plateau_count=perform_prune_plateau_count,\n",
    "            increase_prune_plateau_count=increase_prune_plateau_count,\n",
    "            increase_prune_plateau_count_plateau_count=increase_prune_plateau_count_plateau_count,\n",
    "            lookahead_steps=lookahead_steps,\n",
    "            lookahead_steps_size=lookahead_steps_size,\n",
    "            augment=augment,\n",
    "            augment_alpha=augment_alpha\n",
    "        )\n",
    "\n",
    "        # train model\n",
    "        # The trainer defaults to optimizing the validation roc_auc_score.  To optimize against a different metric pass the sklearn metric to the 'evaluation_metric' parameter\n",
    "        trainer.train(train_dl, train_holdout_dl, evaluation_metric=roc_auc_score, multi_class=False)\n",
    "        trainer.set_best_state()\n",
    "\n",
    "        # evaluate model\n",
    "        predictions, targets = trainer.model.predict(val_dl)\n",
    "        rn_val_performance = trainer.model.evaluate(\n",
    "            predictions=predictions,\n",
    "            labels=targets\n",
    "        )\n",
    "\n",
    "        if rn_val_performance > self.best_rn_val_performance:\n",
    "            self.best_rn_val_performance = rn_val_performance\n",
    "            self.best_model = copy.copy(trainer.model)\n",
    "            self.best_model.rn = copy.deepcopy(trainer.model.rn)\n",
    "\n",
    "        return rn_val_performance\n",
    "    \n",
    "    def tune(self):\n",
    "        # 3. Create a study object and optimize the objective function.\n",
    "        sampler = optuna.samplers.TPESampler(multivariate=True, group=True, seed=42)\n",
    "        study = optuna.create_study(direction='maximize', sampler=sampler)\n",
    "        study.optimize(self._objective, n_trials=self.n_trials)\n",
    "        return self.best_model"
   ]
  },
  {
   "cell_type": "code",
   "execution_count": 14,
   "id": "41831d70",
   "metadata": {
    "collapsed": true,
    "jupyter": {
     "outputs_hidden": true
    },
    "tags": []
   },
   "outputs": [
    {
     "name": "stderr",
     "output_type": "stream",
     "text": [
      "/home/khamilton/anaconda3/envs/tl/lib/python3.9/site-packages/optuna/samplers/_tpe/sampler.py:263: ExperimentalWarning: ``multivariate`` option is an experimental feature. The interface can change in the future.\n",
      "  warnings.warn(\n",
      "/home/khamilton/anaconda3/envs/tl/lib/python3.9/site-packages/optuna/samplers/_tpe/sampler.py:274: ExperimentalWarning: ``group`` option is an experimental feature. The interface can change in the future.\n",
      "  warnings.warn(\n",
      "\u001b[32m[I 2025-08-20 11:46:18,010]\u001b[0m A new study created in memory with name: no-name-0439447f-12d9-44bf-b6ae-0276a312c9b0\u001b[0m\n",
      "/home/khamilton/anaconda3/envs/tl/lib/python3.9/site-packages/torch/cuda/__init__.py:182: UserWarning: CUDA initialization: The NVIDIA driver on your system is too old (found version 11040). Please update your GPU driver by downloading and installing a new version from the URL: http://www.nvidia.com/Download/index.aspx Alternatively, go to: https://pytorch.org to install a PyTorch version that has been compiled with your version of the CUDA driver. (Triggered internally at /pytorch/c10/cuda/CUDAFunctions.cpp:109.)\n",
      "  return torch._C._cuda_getDeviceCount() > 0\n",
      "/home/khamilton/anaconda3/envs/tl/lib/python3.9/site-packages/torch/cuda/__init__.py:829: UserWarning: Can't initialize NVML\n",
      "  warnings.warn(\"Can't initialize NVML\")\n",
      "/home/khamilton/anaconda3/envs/tl/lib/python3.9/site-packages/pandas/core/arrays/masked.py:61: UserWarning: Pandas requires version '1.3.6' or newer of 'bottleneck' (version '1.3.2' currently installed).\n",
      "  from pandas.core import (\n",
      "/home/khamilton/anaconda3/envs/tl/lib/python3.9/site-packages/scipy/__init__.py:146: UserWarning: A NumPy version >=1.16.5 and <1.23.0 is required for this version of SciPy (detected version 1.26.4\n",
      "  warnings.warn(f\"A NumPy version >={np_minversion} and <{np_maxversion}\"\n",
      "/home/khamilton/anaconda3/envs/tl/lib/python3.9/site-packages/pandas/core/arrays/masked.py:61: UserWarning: Pandas requires version '1.3.6' or newer of 'bottleneck' (version '1.3.2' currently installed).\n",
      "  from pandas.core import (\n",
      "/home/khamilton/anaconda3/envs/tl/lib/python3.9/site-packages/scipy/__init__.py:146: UserWarning: A NumPy version >=1.16.5 and <1.23.0 is required for this version of SciPy (detected version 1.26.4\n",
      "  warnings.warn(f\"A NumPy version >={np_minversion} and <{np_maxversion}\"\n",
      "/home/khamilton/anaconda3/envs/tl/lib/python3.9/site-packages/pandas/core/arrays/masked.py:61: UserWarning: Pandas requires version '1.3.6' or newer of 'bottleneck' (version '1.3.2' currently installed).\n",
      "  from pandas.core import (\n",
      "/home/khamilton/anaconda3/envs/tl/lib/python3.9/site-packages/scipy/__init__.py:146: UserWarning: A NumPy version >=1.16.5 and <1.23.0 is required for this version of SciPy (detected version 1.26.4\n",
      "  warnings.warn(f\"A NumPy version >={np_minversion} and <{np_maxversion}\"\n",
      "/home/khamilton/anaconda3/envs/tl/lib/python3.9/site-packages/pandas/core/arrays/masked.py:61: UserWarning: Pandas requires version '1.3.6' or newer of 'bottleneck' (version '1.3.2' currently installed).\n",
      "  from pandas.core import (\n",
      "/home/khamilton/anaconda3/envs/tl/lib/python3.9/site-packages/scipy/__init__.py:146: UserWarning: A NumPy version >=1.16.5 and <1.23.0 is required for this version of SciPy (detected version 1.26.4\n",
      "  warnings.warn(f\"A NumPy version >={np_minversion} and <{np_maxversion}\"\n",
      "/home/khamilton/anaconda3/envs/tl/lib/python3.9/site-packages/pandas/core/arrays/masked.py:61: UserWarning: Pandas requires version '1.3.6' or newer of 'bottleneck' (version '1.3.2' currently installed).\n",
      "  from pandas.core import (\n",
      "/home/khamilton/anaconda3/envs/tl/lib/python3.9/site-packages/scipy/__init__.py:146: UserWarning: A NumPy version >=1.16.5 and <1.23.0 is required for this version of SciPy (detected version 1.26.4\n",
      "  warnings.warn(f\"A NumPy version >={np_minversion} and <{np_maxversion}\"\n",
      "/home/khamilton/anaconda3/envs/tl/lib/python3.9/site-packages/pandas/core/arrays/masked.py:61: UserWarning: Pandas requires version '1.3.6' or newer of 'bottleneck' (version '1.3.2' currently installed).\n",
      "  from pandas.core import (\n",
      "/home/khamilton/anaconda3/envs/tl/lib/python3.9/site-packages/scipy/__init__.py:146: UserWarning: A NumPy version >=1.16.5 and <1.23.0 is required for this version of SciPy (detected version 1.26.4\n",
      "  warnings.warn(f\"A NumPy version >={np_minversion} and <{np_maxversion}\"\n",
      "/home/khamilton/anaconda3/envs/tl/lib/python3.9/site-packages/pandas/core/arrays/masked.py:61: UserWarning: Pandas requires version '1.3.6' or newer of 'bottleneck' (version '1.3.2' currently installed).\n",
      "  from pandas.core import (\n",
      "/home/khamilton/anaconda3/envs/tl/lib/python3.9/site-packages/scipy/__init__.py:146: UserWarning: A NumPy version >=1.16.5 and <1.23.0 is required for this version of SciPy (detected version 1.26.4\n",
      "  warnings.warn(f\"A NumPy version >={np_minversion} and <{np_maxversion}\"\n",
      "/home/khamilton/anaconda3/envs/tl/lib/python3.9/site-packages/pandas/core/arrays/masked.py:61: UserWarning: Pandas requires version '1.3.6' or newer of 'bottleneck' (version '1.3.2' currently installed).\n",
      "  from pandas.core import (\n",
      "/home/khamilton/anaconda3/envs/tl/lib/python3.9/site-packages/scipy/__init__.py:146: UserWarning: A NumPy version >=1.16.5 and <1.23.0 is required for this version of SciPy (detected version 1.26.4\n",
      "  warnings.warn(f\"A NumPy version >={np_minversion} and <{np_maxversion}\"\n",
      "/home/khamilton/anaconda3/envs/tl/lib/python3.9/site-packages/pandas/core/arrays/masked.py:61: UserWarning: Pandas requires version '1.3.6' or newer of 'bottleneck' (version '1.3.2' currently installed).\n",
      "  from pandas.core import (\n",
      "/home/khamilton/anaconda3/envs/tl/lib/python3.9/site-packages/scipy/__init__.py:146: UserWarning: A NumPy version >=1.16.5 and <1.23.0 is required for this version of SciPy (detected version 1.26.4\n",
      "  warnings.warn(f\"A NumPy version >={np_minversion} and <{np_maxversion}\"\n",
      "/home/khamilton/anaconda3/envs/tl/lib/python3.9/site-packages/pandas/core/arrays/masked.py:61: UserWarning: Pandas requires version '1.3.6' or newer of 'bottleneck' (version '1.3.2' currently installed).\n",
      "  from pandas.core import (\n",
      "/home/khamilton/anaconda3/envs/tl/lib/python3.9/site-packages/scipy/__init__.py:146: UserWarning: A NumPy version >=1.16.5 and <1.23.0 is required for this version of SciPy (detected version 1.26.4\n",
      "  warnings.warn(f\"A NumPy version >={np_minversion} and <{np_maxversion}\"\n",
      "/home/khamilton/anaconda3/envs/tl/lib/python3.9/site-packages/pandas/core/arrays/masked.py:61: UserWarning: Pandas requires version '1.3.6' or newer of 'bottleneck' (version '1.3.2' currently installed).\n",
      "  from pandas.core import (\n",
      "/home/khamilton/anaconda3/envs/tl/lib/python3.9/site-packages/scipy/__init__.py:146: UserWarning: A NumPy version >=1.16.5 and <1.23.0 is required for this version of SciPy (detected version 1.26.4\n",
      "  warnings.warn(f\"A NumPy version >={np_minversion} and <{np_maxversion}\"\n",
      "\u001b[32m[I 2025-08-20 11:46:37,326]\u001b[0m Trial 0 finished with value: 0.9817275747508306 and parameters: {'layer_sizes': (3,), 'n_selected_features_input': 3, 'n_selected_features_internal': 3, 'n_selected_features_output': 2, 'perform_prune_plateau_count': 1, 'perform_prune_quantile': 0.8759278817295955, 'increase_prune_plateau_count': 17, 'increase_prune_plateau_count_plateau_count': 14, 'ucb_scale': 1.1818249672071006, 'normal_form': 'cnf', 'prune_strategy': 'logic', 'delta': 2.0, 'bootstrap': True, 'swa': False, 'add_negations': False, 'weight_init': 0.37269822486075477, 'learning_rate': 0.09665329700123683, 'use_l1': True, 'l1_lambda': 0.05142830149697703, 'use_weight_decay': True, 'weight_decay': 0.06075840974162483, 'use_lookahead': True, 'lookahead_steps': 10, 'lookahead_steps_size': 0.7896896099223678, 'augment': 'CM', 'augment_alpha': 0.6842330265121569, 'early_stopping_plateau_count': 33, 'T_0': 3, 'T_mult': 2}. Best is trial 0 with value: 0.9817275747508306.\u001b[0m\n"
     ]
    }
   ],
   "source": [
    "best_model = TuneParameters(1).tune()"
   ]
  },
  {
   "cell_type": "markdown",
   "id": "e2dc5323-a975-4738-93dc-9d49a4962d8d",
   "metadata": {
    "tags": []
   },
   "source": [
    "# Calibrated Model"
   ]
  },
  {
   "cell_type": "markdown",
   "id": "ba136507-dc77-4436-ade0-6cb85799d1c1",
   "metadata": {},
   "source": [
    "RRN's are a fuzzy logic based method.  This means that they operate with confidence scores rather than probabilities.  In some tasks we may want a probability as the output of our system and in that case we can train a calibration model to transform our RRN confidence scores to a probability."
   ]
  },
  {
   "cell_type": "code",
   "execution_count": 15,
   "id": "a3c54e1f-ae58-4e35-88ce-11912a0419be",
   "metadata": {},
   "outputs": [
    {
     "data": {
      "text/html": [
       "<style>#sk-container-id-1 {\n",
       "  /* Definition of color scheme common for light and dark mode */\n",
       "  --sklearn-color-text: #000;\n",
       "  --sklearn-color-text-muted: #666;\n",
       "  --sklearn-color-line: gray;\n",
       "  /* Definition of color scheme for unfitted estimators */\n",
       "  --sklearn-color-unfitted-level-0: #fff5e6;\n",
       "  --sklearn-color-unfitted-level-1: #f6e4d2;\n",
       "  --sklearn-color-unfitted-level-2: #ffe0b3;\n",
       "  --sklearn-color-unfitted-level-3: chocolate;\n",
       "  /* Definition of color scheme for fitted estimators */\n",
       "  --sklearn-color-fitted-level-0: #f0f8ff;\n",
       "  --sklearn-color-fitted-level-1: #d4ebff;\n",
       "  --sklearn-color-fitted-level-2: #b3dbfd;\n",
       "  --sklearn-color-fitted-level-3: cornflowerblue;\n",
       "\n",
       "  /* Specific color for light theme */\n",
       "  --sklearn-color-text-on-default-background: var(--sg-text-color, var(--theme-code-foreground, var(--jp-content-font-color1, black)));\n",
       "  --sklearn-color-background: var(--sg-background-color, var(--theme-background, var(--jp-layout-color0, white)));\n",
       "  --sklearn-color-border-box: var(--sg-text-color, var(--theme-code-foreground, var(--jp-content-font-color1, black)));\n",
       "  --sklearn-color-icon: #696969;\n",
       "\n",
       "  @media (prefers-color-scheme: dark) {\n",
       "    /* Redefinition of color scheme for dark theme */\n",
       "    --sklearn-color-text-on-default-background: var(--sg-text-color, var(--theme-code-foreground, var(--jp-content-font-color1, white)));\n",
       "    --sklearn-color-background: var(--sg-background-color, var(--theme-background, var(--jp-layout-color0, #111)));\n",
       "    --sklearn-color-border-box: var(--sg-text-color, var(--theme-code-foreground, var(--jp-content-font-color1, white)));\n",
       "    --sklearn-color-icon: #878787;\n",
       "  }\n",
       "}\n",
       "\n",
       "#sk-container-id-1 {\n",
       "  color: var(--sklearn-color-text);\n",
       "}\n",
       "\n",
       "#sk-container-id-1 pre {\n",
       "  padding: 0;\n",
       "}\n",
       "\n",
       "#sk-container-id-1 input.sk-hidden--visually {\n",
       "  border: 0;\n",
       "  clip: rect(1px 1px 1px 1px);\n",
       "  clip: rect(1px, 1px, 1px, 1px);\n",
       "  height: 1px;\n",
       "  margin: -1px;\n",
       "  overflow: hidden;\n",
       "  padding: 0;\n",
       "  position: absolute;\n",
       "  width: 1px;\n",
       "}\n",
       "\n",
       "#sk-container-id-1 div.sk-dashed-wrapped {\n",
       "  border: 1px dashed var(--sklearn-color-line);\n",
       "  margin: 0 0.4em 0.5em 0.4em;\n",
       "  box-sizing: border-box;\n",
       "  padding-bottom: 0.4em;\n",
       "  background-color: var(--sklearn-color-background);\n",
       "}\n",
       "\n",
       "#sk-container-id-1 div.sk-container {\n",
       "  /* jupyter's `normalize.less` sets `[hidden] { display: none; }`\n",
       "     but bootstrap.min.css set `[hidden] { display: none !important; }`\n",
       "     so we also need the `!important` here to be able to override the\n",
       "     default hidden behavior on the sphinx rendered scikit-learn.org.\n",
       "     See: https://github.com/scikit-learn/scikit-learn/issues/21755 */\n",
       "  display: inline-block !important;\n",
       "  position: relative;\n",
       "}\n",
       "\n",
       "#sk-container-id-1 div.sk-text-repr-fallback {\n",
       "  display: none;\n",
       "}\n",
       "\n",
       "div.sk-parallel-item,\n",
       "div.sk-serial,\n",
       "div.sk-item {\n",
       "  /* draw centered vertical line to link estimators */\n",
       "  background-image: linear-gradient(var(--sklearn-color-text-on-default-background), var(--sklearn-color-text-on-default-background));\n",
       "  background-size: 2px 100%;\n",
       "  background-repeat: no-repeat;\n",
       "  background-position: center center;\n",
       "}\n",
       "\n",
       "/* Parallel-specific style estimator block */\n",
       "\n",
       "#sk-container-id-1 div.sk-parallel-item::after {\n",
       "  content: \"\";\n",
       "  width: 100%;\n",
       "  border-bottom: 2px solid var(--sklearn-color-text-on-default-background);\n",
       "  flex-grow: 1;\n",
       "}\n",
       "\n",
       "#sk-container-id-1 div.sk-parallel {\n",
       "  display: flex;\n",
       "  align-items: stretch;\n",
       "  justify-content: center;\n",
       "  background-color: var(--sklearn-color-background);\n",
       "  position: relative;\n",
       "}\n",
       "\n",
       "#sk-container-id-1 div.sk-parallel-item {\n",
       "  display: flex;\n",
       "  flex-direction: column;\n",
       "}\n",
       "\n",
       "#sk-container-id-1 div.sk-parallel-item:first-child::after {\n",
       "  align-self: flex-end;\n",
       "  width: 50%;\n",
       "}\n",
       "\n",
       "#sk-container-id-1 div.sk-parallel-item:last-child::after {\n",
       "  align-self: flex-start;\n",
       "  width: 50%;\n",
       "}\n",
       "\n",
       "#sk-container-id-1 div.sk-parallel-item:only-child::after {\n",
       "  width: 0;\n",
       "}\n",
       "\n",
       "/* Serial-specific style estimator block */\n",
       "\n",
       "#sk-container-id-1 div.sk-serial {\n",
       "  display: flex;\n",
       "  flex-direction: column;\n",
       "  align-items: center;\n",
       "  background-color: var(--sklearn-color-background);\n",
       "  padding-right: 1em;\n",
       "  padding-left: 1em;\n",
       "}\n",
       "\n",
       "\n",
       "/* Toggleable style: style used for estimator/Pipeline/ColumnTransformer box that is\n",
       "clickable and can be expanded/collapsed.\n",
       "- Pipeline and ColumnTransformer use this feature and define the default style\n",
       "- Estimators will overwrite some part of the style using the `sk-estimator` class\n",
       "*/\n",
       "\n",
       "/* Pipeline and ColumnTransformer style (default) */\n",
       "\n",
       "#sk-container-id-1 div.sk-toggleable {\n",
       "  /* Default theme specific background. It is overwritten whether we have a\n",
       "  specific estimator or a Pipeline/ColumnTransformer */\n",
       "  background-color: var(--sklearn-color-background);\n",
       "}\n",
       "\n",
       "/* Toggleable label */\n",
       "#sk-container-id-1 label.sk-toggleable__label {\n",
       "  cursor: pointer;\n",
       "  display: flex;\n",
       "  width: 100%;\n",
       "  margin-bottom: 0;\n",
       "  padding: 0.5em;\n",
       "  box-sizing: border-box;\n",
       "  text-align: center;\n",
       "  align-items: start;\n",
       "  justify-content: space-between;\n",
       "  gap: 0.5em;\n",
       "}\n",
       "\n",
       "#sk-container-id-1 label.sk-toggleable__label .caption {\n",
       "  font-size: 0.6rem;\n",
       "  font-weight: lighter;\n",
       "  color: var(--sklearn-color-text-muted);\n",
       "}\n",
       "\n",
       "#sk-container-id-1 label.sk-toggleable__label-arrow:before {\n",
       "  /* Arrow on the left of the label */\n",
       "  content: \"▸\";\n",
       "  float: left;\n",
       "  margin-right: 0.25em;\n",
       "  color: var(--sklearn-color-icon);\n",
       "}\n",
       "\n",
       "#sk-container-id-1 label.sk-toggleable__label-arrow:hover:before {\n",
       "  color: var(--sklearn-color-text);\n",
       "}\n",
       "\n",
       "/* Toggleable content - dropdown */\n",
       "\n",
       "#sk-container-id-1 div.sk-toggleable__content {\n",
       "  max-height: 0;\n",
       "  max-width: 0;\n",
       "  overflow: hidden;\n",
       "  text-align: left;\n",
       "  /* unfitted */\n",
       "  background-color: var(--sklearn-color-unfitted-level-0);\n",
       "}\n",
       "\n",
       "#sk-container-id-1 div.sk-toggleable__content.fitted {\n",
       "  /* fitted */\n",
       "  background-color: var(--sklearn-color-fitted-level-0);\n",
       "}\n",
       "\n",
       "#sk-container-id-1 div.sk-toggleable__content pre {\n",
       "  margin: 0.2em;\n",
       "  border-radius: 0.25em;\n",
       "  color: var(--sklearn-color-text);\n",
       "  /* unfitted */\n",
       "  background-color: var(--sklearn-color-unfitted-level-0);\n",
       "}\n",
       "\n",
       "#sk-container-id-1 div.sk-toggleable__content.fitted pre {\n",
       "  /* unfitted */\n",
       "  background-color: var(--sklearn-color-fitted-level-0);\n",
       "}\n",
       "\n",
       "#sk-container-id-1 input.sk-toggleable__control:checked~div.sk-toggleable__content {\n",
       "  /* Expand drop-down */\n",
       "  max-height: 200px;\n",
       "  max-width: 100%;\n",
       "  overflow: auto;\n",
       "}\n",
       "\n",
       "#sk-container-id-1 input.sk-toggleable__control:checked~label.sk-toggleable__label-arrow:before {\n",
       "  content: \"▾\";\n",
       "}\n",
       "\n",
       "/* Pipeline/ColumnTransformer-specific style */\n",
       "\n",
       "#sk-container-id-1 div.sk-label input.sk-toggleable__control:checked~label.sk-toggleable__label {\n",
       "  color: var(--sklearn-color-text);\n",
       "  background-color: var(--sklearn-color-unfitted-level-2);\n",
       "}\n",
       "\n",
       "#sk-container-id-1 div.sk-label.fitted input.sk-toggleable__control:checked~label.sk-toggleable__label {\n",
       "  background-color: var(--sklearn-color-fitted-level-2);\n",
       "}\n",
       "\n",
       "/* Estimator-specific style */\n",
       "\n",
       "/* Colorize estimator box */\n",
       "#sk-container-id-1 div.sk-estimator input.sk-toggleable__control:checked~label.sk-toggleable__label {\n",
       "  /* unfitted */\n",
       "  background-color: var(--sklearn-color-unfitted-level-2);\n",
       "}\n",
       "\n",
       "#sk-container-id-1 div.sk-estimator.fitted input.sk-toggleable__control:checked~label.sk-toggleable__label {\n",
       "  /* fitted */\n",
       "  background-color: var(--sklearn-color-fitted-level-2);\n",
       "}\n",
       "\n",
       "#sk-container-id-1 div.sk-label label.sk-toggleable__label,\n",
       "#sk-container-id-1 div.sk-label label {\n",
       "  /* The background is the default theme color */\n",
       "  color: var(--sklearn-color-text-on-default-background);\n",
       "}\n",
       "\n",
       "/* On hover, darken the color of the background */\n",
       "#sk-container-id-1 div.sk-label:hover label.sk-toggleable__label {\n",
       "  color: var(--sklearn-color-text);\n",
       "  background-color: var(--sklearn-color-unfitted-level-2);\n",
       "}\n",
       "\n",
       "/* Label box, darken color on hover, fitted */\n",
       "#sk-container-id-1 div.sk-label.fitted:hover label.sk-toggleable__label.fitted {\n",
       "  color: var(--sklearn-color-text);\n",
       "  background-color: var(--sklearn-color-fitted-level-2);\n",
       "}\n",
       "\n",
       "/* Estimator label */\n",
       "\n",
       "#sk-container-id-1 div.sk-label label {\n",
       "  font-family: monospace;\n",
       "  font-weight: bold;\n",
       "  display: inline-block;\n",
       "  line-height: 1.2em;\n",
       "}\n",
       "\n",
       "#sk-container-id-1 div.sk-label-container {\n",
       "  text-align: center;\n",
       "}\n",
       "\n",
       "/* Estimator-specific */\n",
       "#sk-container-id-1 div.sk-estimator {\n",
       "  font-family: monospace;\n",
       "  border: 1px dotted var(--sklearn-color-border-box);\n",
       "  border-radius: 0.25em;\n",
       "  box-sizing: border-box;\n",
       "  margin-bottom: 0.5em;\n",
       "  /* unfitted */\n",
       "  background-color: var(--sklearn-color-unfitted-level-0);\n",
       "}\n",
       "\n",
       "#sk-container-id-1 div.sk-estimator.fitted {\n",
       "  /* fitted */\n",
       "  background-color: var(--sklearn-color-fitted-level-0);\n",
       "}\n",
       "\n",
       "/* on hover */\n",
       "#sk-container-id-1 div.sk-estimator:hover {\n",
       "  /* unfitted */\n",
       "  background-color: var(--sklearn-color-unfitted-level-2);\n",
       "}\n",
       "\n",
       "#sk-container-id-1 div.sk-estimator.fitted:hover {\n",
       "  /* fitted */\n",
       "  background-color: var(--sklearn-color-fitted-level-2);\n",
       "}\n",
       "\n",
       "/* Specification for estimator info (e.g. \"i\" and \"?\") */\n",
       "\n",
       "/* Common style for \"i\" and \"?\" */\n",
       "\n",
       ".sk-estimator-doc-link,\n",
       "a:link.sk-estimator-doc-link,\n",
       "a:visited.sk-estimator-doc-link {\n",
       "  float: right;\n",
       "  font-size: smaller;\n",
       "  line-height: 1em;\n",
       "  font-family: monospace;\n",
       "  background-color: var(--sklearn-color-background);\n",
       "  border-radius: 1em;\n",
       "  height: 1em;\n",
       "  width: 1em;\n",
       "  text-decoration: none !important;\n",
       "  margin-left: 0.5em;\n",
       "  text-align: center;\n",
       "  /* unfitted */\n",
       "  border: var(--sklearn-color-unfitted-level-1) 1pt solid;\n",
       "  color: var(--sklearn-color-unfitted-level-1);\n",
       "}\n",
       "\n",
       ".sk-estimator-doc-link.fitted,\n",
       "a:link.sk-estimator-doc-link.fitted,\n",
       "a:visited.sk-estimator-doc-link.fitted {\n",
       "  /* fitted */\n",
       "  border: var(--sklearn-color-fitted-level-1) 1pt solid;\n",
       "  color: var(--sklearn-color-fitted-level-1);\n",
       "}\n",
       "\n",
       "/* On hover */\n",
       "div.sk-estimator:hover .sk-estimator-doc-link:hover,\n",
       ".sk-estimator-doc-link:hover,\n",
       "div.sk-label-container:hover .sk-estimator-doc-link:hover,\n",
       ".sk-estimator-doc-link:hover {\n",
       "  /* unfitted */\n",
       "  background-color: var(--sklearn-color-unfitted-level-3);\n",
       "  color: var(--sklearn-color-background);\n",
       "  text-decoration: none;\n",
       "}\n",
       "\n",
       "div.sk-estimator.fitted:hover .sk-estimator-doc-link.fitted:hover,\n",
       ".sk-estimator-doc-link.fitted:hover,\n",
       "div.sk-label-container:hover .sk-estimator-doc-link.fitted:hover,\n",
       ".sk-estimator-doc-link.fitted:hover {\n",
       "  /* fitted */\n",
       "  background-color: var(--sklearn-color-fitted-level-3);\n",
       "  color: var(--sklearn-color-background);\n",
       "  text-decoration: none;\n",
       "}\n",
       "\n",
       "/* Span, style for the box shown on hovering the info icon */\n",
       ".sk-estimator-doc-link span {\n",
       "  display: none;\n",
       "  z-index: 9999;\n",
       "  position: relative;\n",
       "  font-weight: normal;\n",
       "  right: .2ex;\n",
       "  padding: .5ex;\n",
       "  margin: .5ex;\n",
       "  width: min-content;\n",
       "  min-width: 20ex;\n",
       "  max-width: 50ex;\n",
       "  color: var(--sklearn-color-text);\n",
       "  box-shadow: 2pt 2pt 4pt #999;\n",
       "  /* unfitted */\n",
       "  background: var(--sklearn-color-unfitted-level-0);\n",
       "  border: .5pt solid var(--sklearn-color-unfitted-level-3);\n",
       "}\n",
       "\n",
       ".sk-estimator-doc-link.fitted span {\n",
       "  /* fitted */\n",
       "  background: var(--sklearn-color-fitted-level-0);\n",
       "  border: var(--sklearn-color-fitted-level-3);\n",
       "}\n",
       "\n",
       ".sk-estimator-doc-link:hover span {\n",
       "  display: block;\n",
       "}\n",
       "\n",
       "/* \"?\"-specific style due to the `<a>` HTML tag */\n",
       "\n",
       "#sk-container-id-1 a.estimator_doc_link {\n",
       "  float: right;\n",
       "  font-size: 1rem;\n",
       "  line-height: 1em;\n",
       "  font-family: monospace;\n",
       "  background-color: var(--sklearn-color-background);\n",
       "  border-radius: 1rem;\n",
       "  height: 1rem;\n",
       "  width: 1rem;\n",
       "  text-decoration: none;\n",
       "  /* unfitted */\n",
       "  color: var(--sklearn-color-unfitted-level-1);\n",
       "  border: var(--sklearn-color-unfitted-level-1) 1pt solid;\n",
       "}\n",
       "\n",
       "#sk-container-id-1 a.estimator_doc_link.fitted {\n",
       "  /* fitted */\n",
       "  border: var(--sklearn-color-fitted-level-1) 1pt solid;\n",
       "  color: var(--sklearn-color-fitted-level-1);\n",
       "}\n",
       "\n",
       "/* On hover */\n",
       "#sk-container-id-1 a.estimator_doc_link:hover {\n",
       "  /* unfitted */\n",
       "  background-color: var(--sklearn-color-unfitted-level-3);\n",
       "  color: var(--sklearn-color-background);\n",
       "  text-decoration: none;\n",
       "}\n",
       "\n",
       "#sk-container-id-1 a.estimator_doc_link.fitted:hover {\n",
       "  /* fitted */\n",
       "  background-color: var(--sklearn-color-fitted-level-3);\n",
       "}\n",
       "</style><div id=\"sk-container-id-1\" class=\"sk-top-container\"><div class=\"sk-text-repr-fallback\"><pre>IsotonicRegression(out_of_bounds=&#x27;clip&#x27;, y_max=1, y_min=0)</pre><b>In a Jupyter environment, please rerun this cell to show the HTML representation or trust the notebook. <br />On GitHub, the HTML representation is unable to render, please try loading this page with nbviewer.org.</b></div><div class=\"sk-container\" hidden><div class=\"sk-item\"><div class=\"sk-estimator fitted sk-toggleable\"><input class=\"sk-toggleable__control sk-hidden--visually\" id=\"sk-estimator-id-1\" type=\"checkbox\" checked><label for=\"sk-estimator-id-1\" class=\"sk-toggleable__label fitted sk-toggleable__label-arrow\"><div><div>IsotonicRegression</div></div><div><a class=\"sk-estimator-doc-link fitted\" rel=\"noreferrer\" target=\"_blank\" href=\"https://scikit-learn.org/1.6/modules/generated/sklearn.isotonic.IsotonicRegression.html\">?<span>Documentation for IsotonicRegression</span></a><span class=\"sk-estimator-doc-link fitted\">i<span>Fitted</span></span></div></label><div class=\"sk-toggleable__content fitted\"><pre>IsotonicRegression(out_of_bounds=&#x27;clip&#x27;, y_max=1, y_min=0)</pre></div> </div></div></div></div>"
      ],
      "text/plain": [
       "IsotonicRegression(out_of_bounds='clip', y_max=1, y_min=0)"
      ]
     },
     "execution_count": 15,
     "metadata": {},
     "output_type": "execute_result"
    }
   ],
   "source": [
    "predictions, targets = best_model.predict(train_dl)\n",
    "calibrator = LogisticRegression()\n",
    "calibrator.fit(predictions, targets.values.ravel())\n",
    "calibrator2 = IsotonicRegression(y_min=0, y_max=1, out_of_bounds=\"clip\")\n",
    "calibrator2.fit(predictions, targets.values.ravel())"
   ]
  },
  {
   "cell_type": "code",
   "execution_count": 48,
   "id": "6cd5a061",
   "metadata": {},
   "outputs": [
    {
     "name": "stderr",
     "output_type": "stream",
     "text": [
      "/home/khamilton/anaconda3/envs/tl/lib/python3.9/site-packages/pandas/core/arrays/masked.py:61: UserWarning: Pandas requires version '1.3.6' or newer of 'bottleneck' (version '1.3.2' currently installed).\n",
      "  from pandas.core import (\n",
      "/home/khamilton/anaconda3/envs/tl/lib/python3.9/site-packages/scipy/__init__.py:146: UserWarning: A NumPy version >=1.16.5 and <1.23.0 is required for this version of SciPy (detected version 1.26.4\n",
      "  warnings.warn(f\"A NumPy version >={np_minversion} and <{np_maxversion}\"\n"
     ]
    },
    {
     "name": "stdout",
     "output_type": "stream",
     "text": [
      "predictions:      probs_benign\n",
      "0        0.489443\n",
      "1       -0.064795\n",
      "2        0.825286\n",
      "3        0.960199\n",
      "4        0.863508\n",
      "..            ...\n",
      "108     -0.036320\n",
      "109      0.100337\n",
      "110      0.205351\n",
      "111      0.829617\n",
      "112      0.540839\n",
      "\n",
      "[113 rows x 1 columns]      benign_label\n",
      "0               1\n",
      "1               0\n",
      "2               1\n",
      "3               1\n",
      "4               1\n",
      "..            ...\n",
      "108             0\n",
      "109             0\n",
      "110             0\n",
      "111             1\n",
      "112             1\n",
      "\n",
      "[113 rows x 1 columns]\n",
      "Validation AUC:\n",
      "\n",
      " 0.9817275747508306\n"
     ]
    },
    {
     "name": "stderr",
     "output_type": "stream",
     "text": [
      "/home/khamilton/anaconda3/envs/tl/lib/python3.9/site-packages/pandas/core/arrays/masked.py:61: UserWarning: Pandas requires version '1.3.6' or newer of 'bottleneck' (version '1.3.2' currently installed).\n",
      "  from pandas.core import (\n",
      "/home/khamilton/anaconda3/envs/tl/lib/python3.9/site-packages/scipy/__init__.py:146: UserWarning: A NumPy version >=1.16.5 and <1.23.0 is required for this version of SciPy (detected version 1.26.4\n",
      "  warnings.warn(f\"A NumPy version >={np_minversion} and <{np_maxversion}\"\n"
     ]
    },
    {
     "name": "stdout",
     "output_type": "stream",
     "text": [
      "\n",
      "\n",
      "Validation Precision Score:\n",
      "\n",
      " 0.9444444444444444\n"
     ]
    },
    {
     "name": "stderr",
     "output_type": "stream",
     "text": [
      "/home/khamilton/anaconda3/envs/tl/lib/python3.9/site-packages/pandas/core/arrays/masked.py:61: UserWarning: Pandas requires version '1.3.6' or newer of 'bottleneck' (version '1.3.2' currently installed).\n",
      "  from pandas.core import (\n",
      "/home/khamilton/anaconda3/envs/tl/lib/python3.9/site-packages/scipy/__init__.py:146: UserWarning: A NumPy version >=1.16.5 and <1.23.0 is required for this version of SciPy (detected version 1.26.4\n",
      "  warnings.warn(f\"A NumPy version >={np_minversion} and <{np_maxversion}\"\n"
     ]
    },
    {
     "name": "stdout",
     "output_type": "stream",
     "text": [
      "\n",
      "\n",
      "Validation F1 Score:\n",
      "\n",
      " 0.9577464788732394\n",
      "\n",
      "\n",
      "LR Calibrated Validation AUC:\n",
      "\n",
      " 0.9817275747508306\n",
      "\n",
      "\n",
      "LR Calibrated Validation Precision Score:\n",
      "\n",
      " 0.9577464788732394\n",
      "\n",
      "\n",
      "LR Calibrated Validation F1 Score:\n",
      "\n",
      " 0.9645390070921985\n",
      "\n",
      "\n",
      "IR Calibrated Validation AUC:\n",
      "\n",
      " 0.9843853820598006\n",
      "\n",
      "\n",
      "IR Calibrated Validation Precision Score:\n",
      "\n",
      " 0.9848484848484849\n",
      "\n",
      "\n",
      "IR Calibrated Validation F1 Score:\n",
      "\n",
      " 0.9558823529411765\n"
     ]
    }
   ],
   "source": [
    "predictions, targets = best_model.predict(val_dl)\n",
    "# Evaluate defaults to compute AUC\n",
    "rn_val_performance = best_model.evaluate(\n",
    "    predictions=predictions,\n",
    "    labels=targets,\n",
    "    multi_class=False\n",
    ")\n",
    "\n",
    "class_predictions = (predictions > 0.5).astype(int)\n",
    "\n",
    "print('predictions:',predictions,targets)\n",
    "\n",
    "print(\"Validation AUC:\\n\\n\", rn_val_performance)\n",
    "\n",
    "# Evaluate with a different metric\n",
    "rn_val_performance = best_model.evaluate(\n",
    "    predictions=predictions,\n",
    "    labels=targets,\n",
    "    output_metric=precision_score,\n",
    "    multi_class=False\n",
    ")\n",
    "print(\"\\n\\nValidation Precision Score:\\n\\n\", rn_val_performance)\n",
    "\n",
    "# Evaluate with a different metric\n",
    "rn_val_performance = best_model.evaluate(\n",
    "    predictions=predictions,\n",
    "    labels=targets,\n",
    "    output_metric=f1_score,\n",
    "    multi_class=False\n",
    ")\n",
    "print(\"\\n\\nValidation F1 Score:\\n\\n\", rn_val_performance)\n",
    "\n",
    "\n",
    "# Apply calibration transformation\n",
    "predictions_probs = calibrator.predict_proba(predictions)[:, 1]\n",
    "calibrated_predictions = calibrator.predict(predictions)\n",
    "\n",
    "print(\"\\n\\nLR Calibrated Validation AUC:\\n\\n\", roc_auc_score(targets, predictions_probs))\n",
    "print(\"\\n\\nLR Calibrated Validation Precision Score:\\n\\n\", precision_score(targets, calibrated_predictions))\n",
    "print(\"\\n\\nLR Calibrated Validation F1 Score:\\n\\n\", f1_score(targets, calibrated_predictions))\n",
    "\n",
    "# Apply calibration transformation\n",
    "predictions_probs = calibrator2.predict(predictions)\n",
    "calibrated_predictions = (predictions_probs > 0.5).astype(int)\n",
    "\n",
    "print(\"\\n\\nIR Calibrated Validation AUC:\\n\\n\", roc_auc_score(targets, predictions_probs))\n",
    "print(\"\\n\\nIR Calibrated Validation Precision Score:\\n\\n\", precision_score(targets, calibrated_predictions))\n",
    "print(\"\\n\\nIR Calibrated Validation F1 Score:\\n\\n\", f1_score(targets, calibrated_predictions))"
   ]
  },
  {
   "cell_type": "code",
   "execution_count": 17,
   "id": "7529fb59-44be-41be-9507-18472cf78702",
   "metadata": {},
   "outputs": [
    {
     "name": "stdout",
     "output_type": "stream",
     "text": [
      "Test AUC:\n",
      "\n",
      " 0.9955882352941177\n",
      "\n",
      "\n",
      "Test Precision Score:\n",
      "\n",
      " 0.7547169811320755\n",
      "\n",
      "\n",
      "Calibrated Test AUC:\n",
      "\n",
      " 0.9955882352941177\n",
      "\n",
      "\n",
      "Calibrated Test Precision Score:\n",
      "\n",
      " 0.7547169811320755\n",
      "\n",
      "\n",
      "IR Calibrated Validation AUC:\n",
      "\n",
      " 0.9588235294117647\n",
      "\n",
      "\n",
      "IR Calibrated Validation Precision Score:\n",
      "\n",
      " 0.851063829787234\n"
     ]
    }
   ],
   "source": [
    "predictions, targets = best_model.predict(test_dl)\n",
    "# Evaluate defaults to compute AUC\n",
    "rn_test_performance = best_model.evaluate(\n",
    "    predictions=predictions,\n",
    "    labels=targets,\n",
    "    multi_class=False\n",
    ")\n",
    "predictions = expit(predictions)\n",
    "class_predictions = (predictions > 0.5).astype(int)\n",
    "print(\"Test AUC:\\n\\n\", rn_test_performance)\n",
    "\n",
    "# Evaluate with a different metric\n",
    "rn_val_performance = best_model.evaluate(\n",
    "    predictions=predictions,\n",
    "    labels=targets,\n",
    "    output_metric=precision_score,\n",
    "    multi_class=False\n",
    ")\n",
    "print(\"\\n\\nTest Precision Score:\\n\\n\", rn_val_performance)\n",
    "\n",
    "# Apply calibration transformation\n",
    "predictions_probs = calibrator.predict_proba(predictions)[:, 1]\n",
    "calibrated_predictions = calibrator.predict(predictions)\n",
    "\n",
    "print(\"\\n\\nCalibrated Test AUC:\\n\\n\", roc_auc_score(targets, predictions_probs))\n",
    "print(\"\\n\\nCalibrated Test Precision Score:\\n\\n\", precision_score(targets, calibrated_predictions))\n",
    "\n",
    "# Apply calibration transformation\n",
    "predictions_probs = calibrator2.predict(predictions)\n",
    "calibrated_predictions = (predictions_probs > 0.5).astype(int)\n",
    "\n",
    "print(\"\\n\\nIR Calibrated Validation AUC:\\n\\n\", roc_auc_score(targets, predictions_probs))\n",
    "print(\"\\n\\nIR Calibrated Validation Precision Score:\\n\\n\", precision_score(targets, calibrated_predictions))"
   ]
  },
  {
   "cell_type": "code",
   "execution_count": 18,
   "id": "af3a4c0d",
   "metadata": {},
   "outputs": [
    {
     "data": {
      "text/plain": [
       "array([[<AxesSubplot:title={'center':'probs_benign'}>]], dtype=object)"
      ]
     },
     "execution_count": 18,
     "metadata": {},
     "output_type": "execute_result"
    },
    {
     "data": {
      "image/png": "[encoded data removed]",
      "text/plain": [
       "<Figure size 432x288 with 1 Axes>"
      ]
     },
     "metadata": {
      "needs_background": "light"
     },
     "output_type": "display_data"
    }
   ],
   "source": [
    "predictions.hist()"
   ]
  },
  {
   "cell_type": "code",
   "execution_count": 19,
   "id": "6f33a231-9bf6-410a-87dc-99c624a84797",
   "metadata": {},
   "outputs": [
    {
     "data": {
      "text/plain": [
       "array([[<AxesSubplot:title={'center':'calibrated_predictions'}>]],\n",
       "      dtype=object)"
      ]
     },
     "execution_count": 19,
     "metadata": {},
     "output_type": "execute_result"
    },
    {
     "data": {
      "image/png": "[encoded data removed]",
      "text/plain": [
       "<Figure size 432x288 with 1 Axes>"
      ]
     },
     "metadata": {
      "needs_background": "light"
     },
     "output_type": "display_data"
    }
   ],
   "source": [
    "pd.DataFrame(predictions_probs, columns=['calibrated_predictions']).hist()"
   ]
  },
  {
   "cell_type": "code",
   "execution_count": 20,
   "id": "47511e9f-0d81-4d82-a656-7a32fd71deb7",
   "metadata": {},
   "outputs": [
    {
     "data": {
      "text/plain": [
       "array([[<AxesSubplot:title={'center':'benign_label'}>]], dtype=object)"
      ]
     },
     "execution_count": 20,
     "metadata": {},
     "output_type": "execute_result"
    },
    {
     "data": {
      "image/png": "[encoded data removed]",
      "text/plain": [
       "<Figure size 432x288 with 1 Axes>"
      ]
     },
     "metadata": {
      "needs_background": "light"
     },
     "output_type": "display_data"
    }
   ],
   "source": [
    "targets.hist()"
   ]
  },
  {
   "cell_type": "markdown",
   "id": "9f691841-5a3f-4d83-8c58-b2753f6af9cf",
   "metadata": {},
   "source": [
    "### Check calibration of test data"
   ]
  },
  {
   "cell_type": "code",
   "execution_count": 21,
   "id": "b712fb51-391d-4098-a652-12bc398077f6",
   "metadata": {},
   "outputs": [
    {
     "data": {
      "image/png": "[encoded data removed]",
      "text/plain": [
       "<Figure size 432x288 with 1 Axes>"
      ]
     },
     "metadata": {
      "needs_background": "light"
     },
     "output_type": "display_data"
    }
   ],
   "source": [
    "disp = CalibrationDisplay.from_estimator(calibrator, predictions, targets)\n",
    "disp = CalibrationDisplay.from_predictions(targets, predictions_probs, ax=disp.ax_, name=\"IsotonicRegression\")\n",
    "disp = CalibrationDisplay.from_predictions(targets, predictions, ax=disp.ax_, name=\"Bandit-RRN\")\n",
    "plt.show()"
   ]
  },
  {
   "cell_type": "markdown",
   "id": "84b127fa",
   "metadata": {},
   "source": [
    "# Inspecting the Model"
   ]
  },
  {
   "cell_type": "markdown",
   "id": "b16c882a",
   "metadata": {},
   "source": [
    "### Global Explain"
   ]
  },
  {
   "cell_type": "markdown",
   "id": "9d9292d6",
   "metadata": {},
   "source": [
    "A global explanation prints the logic learned for each class.  The `quantile` parameter is the percent of the model you would like to be explained.\n",
    "\n",
    "We represent our features as values scaled between 0 and 1.  Therefore, we intepret the explanations to mean that large values for a particular feature represent `truthiness` of a predicate, while small values represent `falseness` of a predicate.\n",
    "\n",
    "For example, the following logic for the class `setosa`:\n",
    "\n",
    "```\n",
    "A flower is in the setosa class because: \n",
    "AND(\n",
    "    NOT(AND(\n",
    "            sepal width (cm) >= 0.77405,\n",
    "            petal length (cm) >= 0.4397)),\n",
    "    NOT(OR(\n",
    "            AND(\n",
    "            sepal width (cm) >= 0.67788,\n",
    "            petal length (cm) >= 0.20122),\n",
    "            NOT(sepal width (cm) >= 0.48579))))\n",
    "```\n",
    "\n",
    "The `logic` from above is intepreted as:\n",
    "\n",
    "```\n",
    "When BOTH of the following are true the class is \"setosa\":\n",
    "    1. The flower has a sepal width below the 77th percentile, and has a petal length below the 44th percentile.\n",
    "    2. The flower has a sepal width below the 68th percentile and a petal length below the 20th percentile; OR the flower has a sepal width above the 49th percentile.\n",
    "```"
   ]
  },
  {
   "cell_type": "markdown",
   "id": "0f263f21-e2e9-4cd1-8b9c-5e652b1af4ce",
   "metadata": {},
   "source": [
    "#### Print Types\n",
    "\n",
    "The explanation and printing methods can all be set to use different `print_type` parameters.  Each will produce a different style of explanation that may be used for different end-users.\n",
    "\n",
    "`logical`: produces a logic statement format such as:\n",
    "\n",
    "    AND(x1, x2)\n",
    "    \n",
    "`logical-natural`: produces a natural language formatted nested tree format, such as:\n",
    "\n",
    "    the following are TRUE:\n",
    "        - x1\n",
    "        - x2\n",
    "        \n",
    "`natural`: produces a natural lanugage paragraph indicating the most important logics, to the least important logics, such as:\n",
    "\n",
    "    Each one of the following must be met.  x1, and x2.\n"
   ]
  },
  {
   "cell_type": "code",
   "execution_count": 35,
   "id": "8c71c191-3961-4ce6-9027-7f66e5c3b904",
   "metadata": {},
   "outputs": [
    {
     "name": "stdout",
     "output_type": "stream",
     "text": [
      "The patient is in the benign because: \n",
      "\n",
      "OR \n"
     ]
    }
   ],
   "source": [
    "print(best_model.explain(\n",
    "    quantile=1.0,\n",
    "    required_output_thresholds=np.array(0.75),\n",
    "    explain_type='both',\n",
    "    print_type='logical', \n",
    "    explanation_prefix=\"The patient is in the\",\n",
    "    target_names=['benign'],\n",
    "    ignore_uninformative=True,\n",
    "    rounding_precision=4,\n",
    "    decision_boundary=0.65,\n",
    "    inverse_transform=mms.inverse_transform\n",
    "))"
   ]
  },
  {
   "cell_type": "code",
   "execution_count": 36,
   "id": "1d0d0a4a",
   "metadata": {},
   "outputs": [
    {
     "name": "stdout",
     "output_type": "stream",
     "text": [
      "The patient is in the not benign because: \n",
      "\n",
      "Any of the following are true: \n"
     ]
    }
   ],
   "source": [
    "print(best_model.explain(\n",
    "    quantile=1.0,\n",
    "    required_output_thresholds=np.array(0.6),\n",
    "    explain_type='both',\n",
    "    print_type='logical-natural', \n",
    "    explanation_prefix=\"The patient is in the\",\n",
    "    target_names=['benign'],\n",
    "    ignore_uninformative=True,\n",
    "    rounding_precision=3,\n",
    "    decision_boundary=0.65,\n",
    "    inverse_transform=mms.inverse_transform\n",
    "))"
   ]
  },
  {
   "cell_type": "markdown",
   "id": "c18a8229",
   "metadata": {},
   "source": [
    "### Sample Explain"
   ]
  },
  {
   "cell_type": "markdown",
   "id": "a5e9d6fa",
   "metadata": {},
   "source": [
    "A sample explanation prints the logic that was used for a particular sample's predition. The `quantile` parameter is the percent of the model you would like to be explained."
   ]
  },
  {
   "cell_type": "code",
   "execution_count": 49,
   "id": "42067905-865f-4720-b7ec-429465df6476",
   "metadata": {},
   "outputs": [
    {
     "data": {
      "text/plain": [
       "{'features': tensor([[0.3445, 0.3362, 0.3734, 0.2063, 0.2324, 0.6255, 0.7036, 0.3876, 0.3253,\n",
       "          0.5840, 0.0910, 0.2497, 0.1245, 0.0419, 0.1219, 0.5423, 0.3624, 0.4342,\n",
       "          0.2502, 0.4175, 0.2622, 0.3121, 0.2818, 0.1287, 0.1210, 0.3803, 0.5418,\n",
       "          0.5172, 0.1642, 0.3487],\n",
       "         [0.6010, 0.4048, 0.5951, 0.4456, 0.4093, 0.3513, 0.4365, 0.5482, 0.5162,\n",
       "          0.1514, 0.1851, 0.4252, 0.2081, 0.1137, 0.1034, 0.2360, 0.1097, 0.3421,\n",
       "          0.4176, 0.0827, 0.5272, 0.6034, 0.5338, 0.3330, 0.3343, 0.3090, 0.3781,\n",
       "          0.7749, 0.4889, 0.1583],\n",
       "         [0.3029, 0.7105, 0.2940, 0.1755, 0.3595, 0.1683, 0.0660, 0.1622, 0.1591,\n",
       "          0.2148, 0.0830, 0.3456, 0.0721, 0.0413, 0.1403, 0.0767, 0.0200, 0.1729,\n",
       "          0.1092, 0.0722, 0.2533, 0.7886, 0.2305, 0.1279, 0.3040, 0.1114, 0.0559,\n",
       "          0.2668, 0.1244, 0.1424],\n",
       "         [0.1552, 0.2323, 0.1524, 0.0752, 0.3263, 0.1880, 0.1021, 0.1212, 0.3076,\n",
       "          0.3618, 0.0011, 0.1465, 0.0109, 0.0010, 0.2909, 0.2147, 0.0660, 0.2078,\n",
       "          0.2095, 0.1726, 0.1032, 0.2671, 0.1029, 0.0423, 0.4948, 0.1914, 0.1424,\n",
       "          0.2864, 0.2220, 0.2607],\n",
       "         [0.2465, 0.1211, 0.2439, 0.1325, 0.4872, 0.2322, 0.0669, 0.1432, 0.4141,\n",
       "          0.3107, 0.0322, 0.1008, 0.0573, 0.0158, 0.1720, 0.1675, 0.0257, 0.1533,\n",
       "          0.2637, 0.1122, 0.1925, 0.1543, 0.2040, 0.0885, 0.4724, 0.2243, 0.0792,\n",
       "          0.2813, 0.3753, 0.2451],\n",
       "         [0.4013, 0.0737, 0.4057, 0.2517, 0.6597, 0.4175, 0.4761, 0.5452, 0.4576,\n",
       "          0.4366, 0.1120, 0.0659, 0.0965, 0.0707, 0.1251, 0.1574, 0.1087, 0.2500,\n",
       "          0.1412, 0.1131, 0.3863, 0.1338, 0.3715, 0.2253, 0.5410, 0.3211, 0.4657,\n",
       "          0.6278, 0.3254, 0.3015],\n",
       "         [0.2768, 0.4268, 0.2866, 0.1526, 0.5071, 0.4924, 0.3971, 0.3410, 0.5369,\n",
       "          0.4756, 0.0705, 0.1566, 0.0707, 0.0342, 0.1791, 0.2728, 0.1183, 0.2840,\n",
       "          0.1255, 0.1631, 0.2586, 0.4832, 0.2734, 0.1280, 0.7035, 0.4919, 0.5018,\n",
       "          0.6794, 0.3631, 0.4543],\n",
       "         [0.2887, 0.2029, 0.2891, 0.1597, 0.4954, 0.3301, 0.1070, 0.1546, 0.4581,\n",
       "          0.3823, 0.0267, 0.0856, 0.0295, 0.0147, 0.0810, 0.1256, 0.0429, 0.1229,\n",
       "          0.1252, 0.0529, 0.2337, 0.2257, 0.2275, 0.1094, 0.3964, 0.2429, 0.1510,\n",
       "          0.2503, 0.3191, 0.1757],\n",
       "         [0.1699, 0.3554, 0.1822, 0.0826, 0.3440, 0.4497, 0.5342, 0.2953, 0.5697,\n",
       "          0.7275, 0.0000, 0.1925, 0.0757, 0.0008, 0.2307, 0.5571, 0.3876, 0.5529,\n",
       "          0.1166, 0.3906, 0.1039, 0.2878, 0.1300, 0.0410, 0.2848, 0.3246, 0.4816,\n",
       "          0.5034, 0.2034, 0.4261],\n",
       "         [0.2631, 0.2827, 0.2462, 0.1478, 0.1962, 0.0218, 0.0028, 0.0271, 0.2364,\n",
       "          0.0398, 0.0868, 0.1309, 0.0741, 0.0402, 0.1384, 0.0183, 0.0020, 0.0685,\n",
       "          0.1766, 0.0056, 0.2060, 0.2388, 0.1813, 0.0984, 0.1437, 0.0155, 0.0029,\n",
       "          0.0562, 0.1317, 0.0011]]),\n",
       " 'target': tensor([[1],\n",
       "         [0],\n",
       "         [1],\n",
       "         [1],\n",
       "         [1],\n",
       "         [0],\n",
       "         [0],\n",
       "         [1],\n",
       "         [1],\n",
       "         [1]]),\n",
       " 'sample_idx': slice(None, 10, None)}"
      ]
     },
     "execution_count": 49,
     "metadata": {},
     "output_type": "execute_result"
    }
   ],
   "source": [
    "val_dataset[:10]"
   ]
  },
  {
   "cell_type": "code",
   "execution_count": 54,
   "id": "099e5820-d9ca-4b5d-a709-4c5727a5f66c",
   "metadata": {},
   "outputs": [
    {
     "name": "stdout",
     "output_type": "stream",
     "text": [
      "0: The patient was in the not benign because: \n",
      "\n",
      "\n",
      "All the following are true: \n",
      "\tThe concave points error was less than 0.053 (100th percentile)\n",
      "\tThe concavity error was less than 0.279 (70th percentile)\n",
      "\tThe mean radius was greater than or equal to 13.65 (31th percentile)\n",
      "\tThe worst concave points was greater than or equal to 0.144 (49th percentile)\n",
      "\tThe worst perimeter was greater than or equal to 50.41 (0th percentile)\n",
      "\tThe worst symmetry was greater than or equal to 0.156 (0th percentile)\n"
     ]
    }
   ],
   "source": [
    "print(best_model.explain_samples(\n",
    "            val_dataset[0]['features'].unsqueeze(0),\n",
    "            quantile=1.0,\n",
    "            target_names=['benign'], \n",
    "            explain_type='both',\n",
    "            sample_explanation_prefix=\"The patient was in the\",\n",
    "            print_type='logical-natural',\n",
    "            ignore_uninformative=True,\n",
    "            rounding_precision=3,\n",
    "            decision_boundary=0.75,\n",
    "            inverse_transform=mms.inverse_transform,\n",
    "            min_max_feature_dict={col: {'min': data.data[:, i].min(), 'max': data.data[:, i].max()} for i, col in enumerate(list(data.feature_names))},\n",
    "            simplify=True,\n",
    "            exclusions=None\n",
    "))"
   ]
  },
  {
   "cell_type": "code",
   "execution_count": 53,
   "id": "5ddde0bb-f822-4fd1-bdc4-5871bd1a14b3",
   "metadata": {},
   "outputs": [
    {
     "name": "stdout",
     "output_type": "stream",
     "text": [
      "0: The patient was not benign because: \n",
      "\n",
      "\n",
      "All the following are true: \n",
      "\tThe concave points error was less than 0.053 (100th percentile)\n",
      "\tThe concavity error was less than 0.168 (42th percentile)\n",
      "\tThe mean radius was greater than or equal to 14.899 (37th percentile)\n",
      "\tThe worst concave points was greater than or equal to 0.177 (60th percentile)\n",
      "\tThe worst perimeter was greater than or equal to 50.41 (0th percentile)\n",
      "\tThe worst symmetry was greater than or equal to 0.156 (0th percentile)\n"
     ]
    }
   ],
   "source": [
    "print(best_model.explain_samples(\n",
    "    val_dataset[5]['features'].unsqueeze(0),\n",
    "    quantile=1.0,\n",
    "    target_names=['benign'], \n",
    "    explain_type='both',\n",
    "    sample_explanation_prefix=\"The patient was\",\n",
    "    print_type='logical-natural',\n",
    "    ignore_uninformative=True,\n",
    "    rounding_precision=3,\n",
    "    decision_boundary=0.75,\n",
    "    inverse_transform=mms.inverse_transform,\n",
    "    min_max_feature_dict={col: {'min': data.data[:, i].min(), 'max': data.data[:, i].max()} for i, col in enumerate(list(data.feature_names))},\n",
    "    simplify=True,\n",
    "    exclusions=None\n",
    "))"
   ]
  },
  {
   "cell_type": "code",
   "execution_count": 26,
   "id": "2e22f7d9-7499-497f-a870-e9b39659b643",
   "metadata": {
    "collapsed": true,
    "jupyter": {
     "outputs_hidden": true
    },
    "tags": []
   },
   "outputs": [
    {
     "ename": "AttributeError",
     "evalue": "'BanditNRNClassifier' object has no attribute 'llm_prompt_samples'",
     "output_type": "error",
     "traceback": [
      "\u001b[0;31m---------------------------------------------------------------------------\u001b[0m",
      "\u001b[0;31mAttributeError\u001b[0m                            Traceback (most recent call last)",
      "\u001b[0;32m/tmp/ipykernel_85442/3337764821.py\u001b[0m in \u001b[0;36m<module>\u001b[0;34m\u001b[0m\n\u001b[0;32m----> 1\u001b[0;31m print(best_model.llm_prompt_samples(\n\u001b[0m\u001b[1;32m      2\u001b[0m     \u001b[0mprompt\u001b[0m \u001b[0;34m=\u001b[0m \u001b[0;34m\"You are a superintelligent medial assistant well versed in oncology.  Interpret the following insights about a patient's tumor that is classified as either benign or malignant.  Add medical context and interpret the results as if you were explaining to a patient.  Give less importance to features that are greater than the 0th percentile or less than the 100th percentile.  If a feature is between the 0th and 33rd percentiles it is considered 'low'.  If a feature is between the 34th and 66th percentiles it is considered medium.  If a feature is between the 67th and 100th percentiles it is considered high.\"\u001b[0m\u001b[0;34m,\u001b[0m\u001b[0;34m\u001b[0m\u001b[0;34m\u001b[0m\u001b[0m\n\u001b[1;32m      3\u001b[0m     \u001b[0mx\u001b[0m \u001b[0;34m=\u001b[0m \u001b[0mval_dataset\u001b[0m\u001b[0;34m[\u001b[0m\u001b[0;36m5\u001b[0m\u001b[0;34m]\u001b[0m\u001b[0;34m[\u001b[0m\u001b[0;34m'features'\u001b[0m\u001b[0;34m]\u001b[0m\u001b[0;34m.\u001b[0m\u001b[0munsqueeze\u001b[0m\u001b[0;34m(\u001b[0m\u001b[0;36m0\u001b[0m\u001b[0;34m)\u001b[0m\u001b[0;34m,\u001b[0m\u001b[0;34m\u001b[0m\u001b[0;34m\u001b[0m\u001b[0m\n\u001b[1;32m      4\u001b[0m     \u001b[0mquantile\u001b[0m \u001b[0;34m=\u001b[0m \u001b[0;36m1.0\u001b[0m\u001b[0;34m,\u001b[0m\u001b[0;34m\u001b[0m\u001b[0;34m\u001b[0m\u001b[0m\n\u001b[1;32m      5\u001b[0m     \u001b[0mtarget_names\u001b[0m \u001b[0;34m=\u001b[0m \u001b[0;34m[\u001b[0m\u001b[0;34m'benign'\u001b[0m\u001b[0;34m]\u001b[0m\u001b[0;34m,\u001b[0m\u001b[0;34m\u001b[0m\u001b[0;34m\u001b[0m\u001b[0m\n",
      "\u001b[0;32m~/anaconda3/envs/tl/lib/python3.9/site-packages/torch/nn/modules/module.py\u001b[0m in \u001b[0;36m__getattr__\u001b[0;34m(self, name)\u001b[0m\n\u001b[1;32m   1960\u001b[0m             \u001b[0;32mif\u001b[0m \u001b[0mname\u001b[0m \u001b[0;32min\u001b[0m \u001b[0mmodules\u001b[0m\u001b[0;34m:\u001b[0m\u001b[0;34m\u001b[0m\u001b[0;34m\u001b[0m\u001b[0m\n\u001b[1;32m   1961\u001b[0m                 \u001b[0;32mreturn\u001b[0m \u001b[0mmodules\u001b[0m\u001b[0;34m[\u001b[0m\u001b[0mname\u001b[0m\u001b[0;34m]\u001b[0m\u001b[0;34m\u001b[0m\u001b[0;34m\u001b[0m\u001b[0m\n\u001b[0;32m-> 1962\u001b[0;31m         raise AttributeError(\n\u001b[0m\u001b[1;32m   1963\u001b[0m             \u001b[0;34mf\"'{type(self).__name__}' object has no attribute '{name}'\"\u001b[0m\u001b[0;34m\u001b[0m\u001b[0;34m\u001b[0m\u001b[0m\n\u001b[1;32m   1964\u001b[0m         )\n",
      "\u001b[0;31mAttributeError\u001b[0m: 'BanditNRNClassifier' object has no attribute 'llm_prompt_samples'"
     ]
    }
   ],
   "source": [
    "print(best_model.llm_prompt_samples(\n",
    "    prompt = \"You are a superintelligent medial assistant well versed in oncology.  Interpret the following insights about a patient's tumor that is classified as either benign or malignant.  Add medical context and interpret the results as if you were explaining to a patient.  Give less importance to features that are greater than the 0th percentile or less than the 100th percentile.  If a feature is between the 0th and 33rd percentiles it is considered 'low'.  If a feature is between the 34th and 66th percentiles it is considered medium.  If a feature is between the 67th and 100th percentiles it is considered high.\",\n",
    "    x = val_dataset[5]['features'].unsqueeze(0),\n",
    "    quantile = 1.0,\n",
    "    target_names = ['benign'],\n",
    "    explain_type = 'both',\n",
    "    print_type = 'logical-natural',\n",
    "    sample_explanation_prefix=\"The patient's tumor was\",\n",
    "    ignore_uninformative = True,\n",
    "    rounding_precision = 3,\n",
    "    inverse_transform=mms.inverse_transform,\n",
    "    decision_boundary=0.75,\n",
    "    show_bounds = True,\n",
    "    simplify = True,\n",
    "    min_max_feature_dict={col: {'min': data.data[:, i].min(), 'max': data.data[:, i].max()} for i, col in enumerate(list(data.feature_names))},\n",
    "    max_tokens=1000\n",
    "))"
   ]
  },
  {
   "cell_type": "markdown",
   "id": "e0a47d5d",
   "metadata": {},
   "source": [
    "### Printing the weights"
   ]
  },
  {
   "cell_type": "markdown",
   "id": "80350a16",
   "metadata": {},
   "source": [
    "We can inspect the weights the model learned for each logic to see how important they are to the overall prediction."
   ]
  },
  {
   "cell_type": "code",
   "execution_count": 27,
   "id": "81d8397b-74dd-4ec6-be39-d5d43943bdbd",
   "metadata": {},
   "outputs": [
    {
     "name": "stdout",
     "output_type": "stream",
     "text": [
      "REASONING NETWORK MODEL FOR: negative of benign\n",
      "Logic at depth 2: NOT(the worst perimeter was >= 50.41), NOT(the worst symmetry was >= 0.156), the concave points error was >= 0.053\n",
      "output: tensor([0.4342, 0.2818, 0.1642])\n",
      "\n",
      "Logic at depth 1: ['NOT(OR(NOT(the worst perimeter was >= 50.41), NOT(the worst symmetry was >= 0.156), the concave points error was >= 0.053))']\n",
      "weights: tensor([-0.0042,  0.1867,  0.0147])\n",
      "output: 0.942606508731842\n",
      "required_threshold: 1.0\n",
      "\n",
      "Logic at depth 2: NOT(the concavity error was >= 0.279), the mean radius was >= 13.65, the worst concave points was >= 0.144\n",
      "output: tensor([0.5172, 0.3445, 0.3624])\n",
      "\n",
      "Logic at depth 1: ['OR(NOT(the concavity error was >= 0.279), the mean radius was >= 13.65, the worst concave points was >= 0.144)']\n",
      "weights: tensor([-0.4345, -0.3231,  0.0273])\n",
      "output: 0.43146154284477234\n",
      "required_threshold: 0.4407947063446045\n",
      "\n",
      "Logic at depth 0: ['AND(NOT(OR(NOT(the worst perimeter was >= 50.41), NOT(the worst symmetry was >= 0.156), the concave points error was >= 0.053)), OR(NOT(the concavity error was >= 0.279), the mean radius was >= 13.65, the worst concave points was >= 0.144))']\n",
      "weights: tensor([-0.0412,  0.6643])\n",
      "output: 0.619975209236145\n",
      "required_threshold: 0.6261749267578125\n",
      "\n"
     ]
    }
   ],
   "source": [
    "best_model.print_samples(\n",
    "    val_dataset[0]['features'].unsqueeze(0),\n",
    "    quantile=1.0,\n",
    "    target_names=['benign'], \n",
    "    explain_type='both',\n",
    "    print_type='logical',\n",
    "    ignore_uninformative=False,\n",
    "    rounding_precision=3,\n",
    "    decision_boundary=0.7,\n",
    "    inverse_transform=mms.inverse_transform\n",
    ")"
   ]
  },
  {
   "cell_type": "code",
   "execution_count": 38,
   "id": "cb1326c1",
   "metadata": {},
   "outputs": [
    {
     "name": "stdout",
     "output_type": "stream",
     "text": [
      "REASONING NETWORK MODEL FOR: negative of benign\n",
      "Logic at depth 2: NOT(the worst perimeter was >= 50.41), NOT(the worst symmetry was >= 0.156), the concave points error was >= 0.053\n",
      "output: tensor([0.2500, 0.3715, 0.3254])\n",
      "\n",
      "Logic at depth 1: ['NOT(OR(NOT(the worst perimeter was >= 50.41), NOT(the worst symmetry was >= 0.156), the concave points error was >= 0.053))']\n",
      "weights: tensor([-0.0042,  0.1867,  0.0147])\n",
      "output: 0.9227336645126343\n",
      "required_threshold: 1.0\n",
      "\n",
      "Logic at depth 2: NOT(the concavity error was >= 0.168), the mean radius was >= 14.899, the worst concave points was >= 0.177\n",
      "output: tensor([0.6278, 0.4013, 0.1087])\n",
      "\n",
      "Logic at depth 1: ['OR(NOT(the concavity error was >= 0.168), the mean radius was >= 14.899, the worst concave points was >= 0.177)']\n",
      "weights: tensor([-0.4345, -0.3231,  0.0273])\n",
      "output: 0.3581188917160034\n",
      "required_threshold: 0.36670637130737305\n",
      "\n",
      "Logic at depth 0: ['AND(NOT(OR(NOT(the worst perimeter was >= 50.41), NOT(the worst symmetry was >= 0.156), the concave points error was >= 0.053)), OR(NOT(the concavity error was >= 0.168), the mean radius was >= 14.899, the worst concave points was >= 0.177))']\n",
      "weights: tensor([-0.0412,  0.6643])\n",
      "output: 0.5704375505447388\n",
      "required_threshold: 0.576141893863678\n",
      "\n"
     ]
    }
   ],
   "source": [
    "best_model.print_samples(\n",
    "    val_dataset[5]['features'].unsqueeze(0),\n",
    "    quantile=1.0,\n",
    "    target_names=['benign'], \n",
    "    explain_type='both',\n",
    "    print_type='logical',\n",
    "    ignore_uninformative=False,\n",
    "    rounding_precision=3,\n",
    "    decision_boundary=0.7,\n",
    "    inverse_transform=mms.inverse_transform,\n",
    ")"
   ]
  },
  {
   "cell_type": "code",
   "execution_count": 29,
   "id": "bf22a50e-ac0d-4813-8188-562cf1225680",
   "metadata": {},
   "outputs": [
    {
     "name": "stdout",
     "output_type": "stream",
     "text": [
      "REASONING NETWORK MODEL FOR: benign\n",
      "Logic at depth 2: \n",
      "output: tensor([0., 1., 1.])\n",
      "\n",
      "Logic at depth 2: NOT(the mean radius was >= 0.0), the concavity error was >= 1.0\n",
      "output: tensor([0.1560, 0.0000, 1.0000])\n",
      "\n",
      "Logic at depth 1: ['OR(NOT(the mean radius was >= 0.0), the concavity error was >= 1.0)']\n",
      "weights: tensor([-0.4345, -0.3231,  0.0273])\n",
      "output: 0.7630000114440918\n",
      "required_threshold: 0.7609356641769409\n",
      "\n",
      "Logic at depth 0: ['OR(NOT(the mean radius was >= 0.0), the concavity error was >= 1.0)']\n",
      "weights: tensor([-0.0412,  0.6643])\n",
      "output: 0.8009999990463257\n",
      "required_threshold: 0.800000011920929\n",
      "\n"
     ]
    }
   ],
   "source": [
    "best_model.print(\n",
    "    quantile=1.0,\n",
    "    required_output_thresholds=torch.tensor(0.8),\n",
    "    explain_type='both',\n",
    "    print_type='logical', \n",
    "    target_names=['benign'],\n",
    "    ignore_uninformative=False,\n",
    "    rounding_precision=3,\n",
    "    decision_boundary=0.7,\n",
    "    # inverse_transform=mms.inverse_transform\n",
    ")"
   ]
  },
  {
   "cell_type": "code",
   "execution_count": 33,
   "id": "1eaf8999-9c3e-4e83-baee-b58226000049",
   "metadata": {},
   "outputs": [
    {
     "name": "stdout",
     "output_type": "stream",
     "text": [
      "REASONING NETWORK MODEL FOR: negative of benign\n",
      "Logic at depth 2: \n",
      "output: tensor([1., 0., 0.])\n",
      "\n",
      "Logic at depth 2: NOT(the concavity error was >= 1.0), the mean radius was >= 0.252, the worst concave points was >= 0.188\n",
      "output: tensor([0.4980, 0.6690, 0.0000])\n",
      "\n",
      "Logic at depth 1: ['OR(NOT(the concavity error was >= 1.0), the mean radius was >= 0.252, the worst concave points was >= 0.188)']\n",
      "weights: tensor([-0.4345, -0.3231,  0.0273])\n",
      "output: 0.45899999141693115\n",
      "required_threshold: 0.45985114574432373\n",
      "\n",
      "Logic at depth 0: ['OR(NOT(the concavity error was >= 1.0), the mean radius was >= 0.252, the worst concave points was >= 0.188)']\n",
      "weights: tensor([-0.0412,  0.6643])\n",
      "output: 0.5989999771118164\n",
      "required_threshold: 0.6000000238418579\n",
      "\n"
     ]
    }
   ],
   "source": [
    "best_model.print(\n",
    "    quantile=1.0,\n",
    "    required_output_thresholds=torch.tensor(0.6),\n",
    "    explain_type='both',\n",
    "    print_type='logical', \n",
    "    target_names=['benign'],\n",
    "    ignore_uninformative=False,\n",
    "    rounding_precision=3,\n",
    "    decision_boundary=0.7,\n",
    "    # inverse_transform=mms.inverse_transform\n",
    ")"
   ]
  },
  {
   "cell_type": "code",
   "execution_count": null,
   "id": "07896ae1-5757-4634-a071-079aba40b7ee",
   "metadata": {},
   "outputs": [],
   "source": []
  }
 ],
 "metadata": {
  "kernelspec": {
   "display_name": "Python (torchlogic)",
   "language": "python",
   "name": "tl"
  },
  "language_info": {
   "codemirror_mode": {
    "name": "ipython",
    "version": 3
   },
   "file_extension": ".py",
   "mimetype": "text/x-python",
   "name": "python",
   "nbconvert_exporter": "python",
   "pygments_lexer": "ipython3",
   "version": "3.9.7"
  }
 },
 "nbformat": 4,
 "nbformat_minor": 5
}
