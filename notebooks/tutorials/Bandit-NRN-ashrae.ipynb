{
 "cells": [
  {
   "cell_type": "code",
   "execution_count": 3,
   "id": "8bd57348",
   "metadata": {},
   "outputs": [],
   "source": [
    "# ! pip install optuna"
   ]
  },
  {
   "cell_type": "code",
   "execution_count": 303,
   "id": "d5ad2d7c-9309-4851-86f8-25279ba75a2f",
   "metadata": {
    "tags": []
   },
   "outputs": [],
   "source": [
    "#pip install pytorch_optimizer"
   ]
  },
  {
   "cell_type": "code",
   "execution_count": 304,
   "id": "d82bffc7-b250-4fb0-b163-d8934221fc39",
   "metadata": {
    "tags": []
   },
   "outputs": [],
   "source": [
    "#pip install xgboost"
   ]
  },
  {
   "cell_type": "code",
   "execution_count": 305,
   "id": "8da79a47-5085-41a4-a948-7d58ae706317",
   "metadata": {
    "tags": []
   },
   "outputs": [],
   "source": [
    "#pip uninstall torchvision -y"
   ]
  },
  {
   "cell_type": "code",
   "execution_count": 306,
   "id": "b21e5df0-d786-4289-bd32-161285425d20",
   "metadata": {
    "tags": []
   },
   "outputs": [],
   "source": [
    "#pip install torchvision==0.23"
   ]
  },
  {
   "cell_type": "code",
   "execution_count": 307,
   "id": "69ee5fc7-77af-49e0-9af4-4faf726962cc",
   "metadata": {
    "tags": []
   },
   "outputs": [],
   "source": [
    "#pip uninstall pandas -y"
   ]
  },
  {
   "cell_type": "code",
   "execution_count": 308,
   "id": "0d192837-c4d5-4667-8329-8fade734666b",
   "metadata": {
    "tags": []
   },
   "outputs": [],
   "source": [
    "#pip install -U pandas"
   ]
  },
  {
   "cell_type": "code",
   "execution_count": 309,
   "id": "1ff15b80-4012-4e34-927b-47c2d46619ea",
   "metadata": {
    "tags": []
   },
   "outputs": [],
   "source": [
    "#pip install -U numexpr"
   ]
  },
  {
   "cell_type": "code",
   "execution_count": 310,
   "id": "8b846628-08ef-417e-bb84-f24d92186851",
   "metadata": {
    "tags": []
   },
   "outputs": [],
   "source": [
    "#pip install numpy==1.26.4"
   ]
  },
  {
   "cell_type": "code",
   "execution_count": 118,
   "id": "c3b584d3",
   "metadata": {},
   "outputs": [],
   "source": [
    "import warnings\n",
    "warnings.filterwarnings(\"ignore\", message=\"Choices for a categorical distribution should be a tuple\")\n",
    "warnings.filterwarnings(\"ignore\", message=\"To copy construct from a tensor, it is recommended\")\n",
    "warnings.filterwarnings(\"ignore\", message=\"IProgress not found\")\n",
    "\n",
    "import copy\n",
    "\n",
    "import torch\n",
    "from torch import nn\n",
    "from torch import optim\n",
    "from torch.utils.data import Dataset\n",
    "from torch.utils.data import DataLoader, SubsetRandomSampler\n",
    "\n",
    "import optuna\n",
    "import numpy as np\n",
    "import pandas as pd\n",
    "from scipy.special import softmax, expit\n",
    "\n",
    "import matplotlib.pyplot as plt\n",
    "\n",
    "from sklearn.datasets import load_breast_cancer\n",
    "from sklearn.preprocessing import MinMaxScaler\n",
    "from sklearn.model_selection import train_test_split\n",
    "from sklearn.metrics import precision_score, recall_score, roc_auc_score, f1_score\n",
    "from sklearn.linear_model import LogisticRegression\n",
    "from sklearn.isotonic import IsotonicRegression\n",
    "from sklearn.model_selection import RandomizedSearchCV\n",
    "from sklearn.calibration import calibration_curve, CalibrationDisplay\n",
    "\n",
    "from collections import Counter\n",
    "\n",
    "import sys\n",
    "# caution: path[0] is reserved for script path (or '' in REPL)\n",
    "sys.path.insert(1, '../../')\n",
    "from torchlogic.models import BanditNRNClassifier\n",
    "from torchlogic.utils.trainers import BanditNRNTrainer"
   ]
  },
  {
   "cell_type": "code",
   "execution_count": 311,
   "id": "647ef022-6cce-4388-bab5-07832db12a0f",
   "metadata": {},
   "outputs": [
    {
     "data": {
      "text/plain": [
       "'2.8.0+cu128'"
      ]
     },
     "execution_count": 311,
     "metadata": {},
     "output_type": "execute_result"
    }
   ],
   "source": [
    "import torch\n",
    "torch.__version__"
   ]
  },
  {
   "cell_type": "code",
   "execution_count": 2,
   "id": "1980294b-d0e1-47cb-aab9-a5d536b9fecd",
   "metadata": {},
   "outputs": [
    {
     "name": "stdout",
     "output_type": "stream",
     "text": [
      "# conda environments:\n",
      "#\n",
      "base                     /home/khamilton/anaconda3\n",
      "domains                  /home/khamilton/anaconda3/envs/domains\n",
      "tl                    *  /home/khamilton/anaconda3/envs/tl\n",
      "transformers             /home/khamilton/anaconda3/envs/transformers\n",
      "\n"
     ]
    }
   ],
   "source": [
    "!conda env list"
   ]
  },
  {
   "cell_type": "code",
   "execution_count": 7,
   "id": "ac7bc466-81af-4466-b7ca-21bb8e3933b0",
   "metadata": {},
   "outputs": [
    {
     "name": "stdout",
     "output_type": "stream",
     "text": [
      "1.26.4\n",
      "2.3.1\n",
      "1.6.1\n",
      "2.10.1\n",
      "1.7.1\n",
      "3.4.3\n"
     ]
    }
   ],
   "source": [
    "import numpy as np\n",
    "import pandas as pd\n",
    "import sklearn\n",
    "import optuna\n",
    "import scipy\n",
    "import matplotlib\n",
    "print(np.__version__)\n",
    "print(pd.__version__)\n",
    "print(sklearn.__version__)\n",
    "print(optuna.__version__)\n",
    "print(scipy.__version__)\n",
    "print(matplotlib.__version__)"
   ]
  },
  {
   "cell_type": "code",
   "execution_count": 3,
   "id": "a5146847-9737-479a-b521-ed81ba74fb7c",
   "metadata": {},
   "outputs": [],
   "source": [
    "# !python -c \"import sklearn; sklearn.show_versions()\""
   ]
  },
  {
   "cell_type": "code",
   "execution_count": 5,
   "id": "e9a3e93c-424e-448d-8f52-230ba6d29a84",
   "metadata": {},
   "outputs": [],
   "source": [
    "# # If we want the logs from Bandit-RRN training\n",
    "\n",
    "# from carrot.logger import Logger\n",
    "\n",
    "# log_config = 'configs/logging.yaml'\n",
    "# log_dir = 'logs'\n",
    "# logger = Logger.get(log_config, log_dir)"
   ]
  },
  {
   "cell_type": "markdown",
   "id": "786cadd7-5d78-485d-b418-e3882beaba71",
   "metadata": {},
   "source": [
    "# TODO: \n",
    "### Get time-series data from LBNL (Lawrence Berkeley National Laboratory)\n",
    "DOI: 10.25984/1881324"
   ]
  },
  {
   "cell_type": "markdown",
   "id": "14abddc6-b0d5-412c-8a54-494d14139088",
   "metadata": {
    "jupyter": {
     "outputs_hidden": true
    },
    "tags": []
   },
   "source": [
    "# Get kaggle timeseries IoT data\n",
    "\n",
    "About this file\n",
    "\n",
    "This file contains real-time IoT sensor data collected from industrial machines for predictive maintenance and anomaly detection in smart manufacturing systems. The dataset includes sensor readings, machine status, failure types, and a target column (maintenance_required), which indicates whether a machine requires maintenance.\n",
    "\n",
    "File Contents:\n",
    "\n",
    "* Timestamps – Time at which the sensor readings were recorded\n",
    "* Machine ID – Unique identifier for each machine\n",
    "* Sensor Readings – Temperature, Vibration, Humidity, Pressure, Energy Consumption\n",
    "* Machine Status – Indicates whether the machine is Idle, Running, or in Failure\n",
    "* Anomaly Flags – Identifies extreme values in temperature and vibration\n",
    "* Predicted Remaining Life – Estimated time before maintenance is needed\n",
    "* Failure Type – The reason for machine failure (e.g., Overheating, Vibration Issue)\n",
    "* Downtime Risk Score – Probability of machine breakdown\n",
    "* Maintenance Required (maintenance_required) – Target column (0 = No, 1 = Yes)\n",
    "\n",
    "Purpose of This File:\n",
    "\n",
    "* 📌 Train Machine Learning Models for predictive maintenance\n",
    "* 📌 Detect Anomalies in smart manufacturing environments\n",
    "* 📌 Optimize IoT-driven industrial processes"
   ]
  },
  {
   "cell_type": "code",
   "execution_count": 312,
   "id": "d4c54c2b-2091-4973-9127-c185c3c97f89",
   "metadata": {
    "tags": []
   },
   "outputs": [],
   "source": [
    "#pip install kagglehub"
   ]
  },
  {
   "cell_type": "code",
   "execution_count": 10,
   "id": "a1fb52b2-b8de-49aa-b364-1944c0e8e210",
   "metadata": {},
   "outputs": [
    {
     "name": "stdout",
     "output_type": "stream",
     "text": [
      "Downloading from https://www.kaggle.com/api/v1/datasets/download/ziya07/smart-manufacturing-iot-cloud-monitoring-dataset?dataset_version_number=1...\n"
     ]
    },
    {
     "name": "stderr",
     "output_type": "stream",
     "text": [
      "100%|█████████████████████████████████████████████████████████████████████████████████████| 1.83M/1.83M [00:00<00:00, 3.64MB/s]"
     ]
    },
    {
     "name": "stdout",
     "output_type": "stream",
     "text": [
      "Extracting files...\n",
      "Path to dataset files: /home/khamilton/.cache/kagglehub/datasets/ziya07/smart-manufacturing-iot-cloud-monitoring-dataset/versions/1\n"
     ]
    },
    {
     "name": "stderr",
     "output_type": "stream",
     "text": [
      "\n"
     ]
    }
   ],
   "source": [
    "import kagglehub\n",
    "\n",
    "# Download latest version\n",
    "# https://www.kaggle.com/datasets/ziya07/smart-manufacturing-iot-cloud-monitoring-dataset\n",
    "path = kagglehub.dataset_download(\"ziya07/smart-manufacturing-iot-cloud-monitoring-dataset\")\n",
    "\n",
    "print(\"Path to dataset files:\", path)"
   ]
  },
  {
   "cell_type": "code",
   "execution_count": 38,
   "id": "77125a9b-8092-47d3-89f1-28ad331e1d38",
   "metadata": {},
   "outputs": [
    {
     "name": "stdout",
     "output_type": "stream",
     "text": [
      "smart_manufacturing_data.csv\n"
     ]
    }
   ],
   "source": [
    "ls {path}"
   ]
  },
  {
   "cell_type": "code",
   "execution_count": 40,
   "id": "8275398a-a084-48e6-a06f-36a9d7a485a5",
   "metadata": {},
   "outputs": [],
   "source": [
    "df = pd.read_csv(path+\"/smart_manufacturing_data.csv\")"
   ]
  },
  {
   "cell_type": "code",
   "execution_count": 41,
   "id": "d516d22f-29cc-4b35-b324-09cc7ce5817f",
   "metadata": {},
   "outputs": [
    {
     "data": {
      "text/html": [
       "<div>\n",
       "<style scoped>\n",
       "    .dataframe tbody tr th:only-of-type {\n",
       "        vertical-align: middle;\n",
       "    }\n",
       "\n",
       "    .dataframe tbody tr th {\n",
       "        vertical-align: top;\n",
       "    }\n",
       "\n",
       "    .dataframe thead th {\n",
       "        text-align: right;\n",
       "    }\n",
       "</style>\n",
       "<table border=\"1\" class=\"dataframe\">\n",
       "  <thead>\n",
       "    <tr style=\"text-align: right;\">\n",
       "      <th></th>\n",
       "      <th>timestamp</th>\n",
       "      <th>machine_id</th>\n",
       "      <th>temperature</th>\n",
       "      <th>vibration</th>\n",
       "      <th>humidity</th>\n",
       "      <th>pressure</th>\n",
       "      <th>energy_consumption</th>\n",
       "      <th>machine_status</th>\n",
       "      <th>anomaly_flag</th>\n",
       "      <th>predicted_remaining_life</th>\n",
       "      <th>failure_type</th>\n",
       "      <th>downtime_risk</th>\n",
       "      <th>maintenance_required</th>\n",
       "    </tr>\n",
       "  </thead>\n",
       "  <tbody>\n",
       "    <tr>\n",
       "      <th>0</th>\n",
       "      <td>2025-01-01 00:00:00</td>\n",
       "      <td>39</td>\n",
       "      <td>78.61</td>\n",
       "      <td>28.65</td>\n",
       "      <td>79.96</td>\n",
       "      <td>3.73</td>\n",
       "      <td>2.16</td>\n",
       "      <td>1</td>\n",
       "      <td>0</td>\n",
       "      <td>106</td>\n",
       "      <td>Normal</td>\n",
       "      <td>0.0</td>\n",
       "      <td>0</td>\n",
       "    </tr>\n",
       "    <tr>\n",
       "      <th>1</th>\n",
       "      <td>2025-01-01 00:01:00</td>\n",
       "      <td>29</td>\n",
       "      <td>68.19</td>\n",
       "      <td>57.28</td>\n",
       "      <td>35.94</td>\n",
       "      <td>3.64</td>\n",
       "      <td>0.69</td>\n",
       "      <td>1</td>\n",
       "      <td>0</td>\n",
       "      <td>320</td>\n",
       "      <td>Normal</td>\n",
       "      <td>0.0</td>\n",
       "      <td>0</td>\n",
       "    </tr>\n",
       "    <tr>\n",
       "      <th>2</th>\n",
       "      <td>2025-01-01 00:02:00</td>\n",
       "      <td>15</td>\n",
       "      <td>98.94</td>\n",
       "      <td>50.20</td>\n",
       "      <td>72.06</td>\n",
       "      <td>1.00</td>\n",
       "      <td>2.49</td>\n",
       "      <td>1</td>\n",
       "      <td>1</td>\n",
       "      <td>19</td>\n",
       "      <td>Normal</td>\n",
       "      <td>1.0</td>\n",
       "      <td>1</td>\n",
       "    </tr>\n",
       "    <tr>\n",
       "      <th>3</th>\n",
       "      <td>2025-01-01 00:03:00</td>\n",
       "      <td>43</td>\n",
       "      <td>90.91</td>\n",
       "      <td>37.65</td>\n",
       "      <td>30.34</td>\n",
       "      <td>3.15</td>\n",
       "      <td>4.96</td>\n",
       "      <td>1</td>\n",
       "      <td>1</td>\n",
       "      <td>10</td>\n",
       "      <td>Normal</td>\n",
       "      <td>1.0</td>\n",
       "      <td>1</td>\n",
       "    </tr>\n",
       "    <tr>\n",
       "      <th>4</th>\n",
       "      <td>2025-01-01 00:04:00</td>\n",
       "      <td>8</td>\n",
       "      <td>72.32</td>\n",
       "      <td>40.69</td>\n",
       "      <td>56.71</td>\n",
       "      <td>2.68</td>\n",
       "      <td>0.63</td>\n",
       "      <td>2</td>\n",
       "      <td>0</td>\n",
       "      <td>65</td>\n",
       "      <td>Vibration Issue</td>\n",
       "      <td>0.0</td>\n",
       "      <td>1</td>\n",
       "    </tr>\n",
       "  </tbody>\n",
       "</table>\n",
       "</div>"
      ],
      "text/plain": [
       "             timestamp  machine_id  temperature  vibration  humidity  \\\n",
       "0  2025-01-01 00:00:00          39        78.61      28.65     79.96   \n",
       "1  2025-01-01 00:01:00          29        68.19      57.28     35.94   \n",
       "2  2025-01-01 00:02:00          15        98.94      50.20     72.06   \n",
       "3  2025-01-01 00:03:00          43        90.91      37.65     30.34   \n",
       "4  2025-01-01 00:04:00           8        72.32      40.69     56.71   \n",
       "\n",
       "   pressure  energy_consumption  machine_status  anomaly_flag  \\\n",
       "0      3.73                2.16               1             0   \n",
       "1      3.64                0.69               1             0   \n",
       "2      1.00                2.49               1             1   \n",
       "3      3.15                4.96               1             1   \n",
       "4      2.68                0.63               2             0   \n",
       "\n",
       "   predicted_remaining_life     failure_type  downtime_risk  \\\n",
       "0                       106           Normal            0.0   \n",
       "1                       320           Normal            0.0   \n",
       "2                        19           Normal            1.0   \n",
       "3                        10           Normal            1.0   \n",
       "4                        65  Vibration Issue            0.0   \n",
       "\n",
       "   maintenance_required  \n",
       "0                     0  \n",
       "1                     0  \n",
       "2                     1  \n",
       "3                     1  \n",
       "4                     1  "
      ]
     },
     "execution_count": 41,
     "metadata": {},
     "output_type": "execute_result"
    }
   ],
   "source": [
    "df.head()"
   ]
  },
  {
   "cell_type": "code",
   "execution_count": 314,
   "id": "423b304e-3045-4e94-9682-309d5df67a75",
   "metadata": {
    "tags": []
   },
   "outputs": [
    {
     "data": {
      "text/plain": [
       "Counter({'Normal': 91899,\n",
       "         'Vibration Issue': 3129,\n",
       "         'Overheating': 1989,\n",
       "         'Pressure Drop': 1969,\n",
       "         'Electrical Fault': 1014})"
      ]
     },
     "execution_count": 314,
     "metadata": {},
     "output_type": "execute_result"
    }
   ],
   "source": [
    "Counter(df[\"failure_type\"])"
   ]
  },
  {
   "cell_type": "code",
   "execution_count": 313,
   "id": "d4dbceed-357c-4c83-a982-771c8f01cbad",
   "metadata": {
    "collapsed": true,
    "jupyter": {
     "outputs_hidden": true
    },
    "tags": []
   },
   "outputs": [
    {
     "data": {
      "text/plain": [
       "Counter({39: 1993,\n",
       "         29: 2044,\n",
       "         15: 2027,\n",
       "         43: 1906,\n",
       "         8: 1967,\n",
       "         21: 2052,\n",
       "         19: 2004,\n",
       "         23: 2092,\n",
       "         11: 1951,\n",
       "         24: 1984,\n",
       "         36: 2085,\n",
       "         40: 2001,\n",
       "         3: 2001,\n",
       "         22: 2031,\n",
       "         2: 2041,\n",
       "         44: 2054,\n",
       "         30: 2074,\n",
       "         38: 2058,\n",
       "         33: 1956,\n",
       "         12: 1955,\n",
       "         25: 1998,\n",
       "         49: 1950,\n",
       "         27: 1957,\n",
       "         42: 2019,\n",
       "         28: 2048,\n",
       "         16: 2010,\n",
       "         47: 2001,\n",
       "         37: 1964,\n",
       "         7: 1965,\n",
       "         9: 1991,\n",
       "         18: 2031,\n",
       "         4: 2004,\n",
       "         14: 1941,\n",
       "         50: 1912,\n",
       "         26: 2059,\n",
       "         20: 1970,\n",
       "         35: 1913,\n",
       "         17: 2061,\n",
       "         6: 1934,\n",
       "         34: 1948,\n",
       "         10: 2022,\n",
       "         31: 1933,\n",
       "         48: 2058,\n",
       "         45: 2080,\n",
       "         41: 2013,\n",
       "         1: 1916,\n",
       "         5: 2043,\n",
       "         13: 2040,\n",
       "         32: 2031,\n",
       "         46: 1912})"
      ]
     },
     "execution_count": 313,
     "metadata": {},
     "output_type": "execute_result"
    }
   ],
   "source": [
    "Counter(df[\"machine_id\"])"
   ]
  },
  {
   "cell_type": "code",
   "execution_count": 44,
   "id": "27a01796-05b7-4236-9b36-1886c072d798",
   "metadata": {},
   "outputs": [
    {
     "data": {
      "text/html": [
       "<div>\n",
       "<style scoped>\n",
       "    .dataframe tbody tr th:only-of-type {\n",
       "        vertical-align: middle;\n",
       "    }\n",
       "\n",
       "    .dataframe tbody tr th {\n",
       "        vertical-align: top;\n",
       "    }\n",
       "\n",
       "    .dataframe thead th {\n",
       "        text-align: right;\n",
       "    }\n",
       "</style>\n",
       "<table border=\"1\" class=\"dataframe\">\n",
       "  <thead>\n",
       "    <tr style=\"text-align: right;\">\n",
       "      <th></th>\n",
       "      <th>timestamp</th>\n",
       "      <th>machine_id</th>\n",
       "      <th>temperature</th>\n",
       "      <th>vibration</th>\n",
       "      <th>humidity</th>\n",
       "      <th>pressure</th>\n",
       "      <th>energy_consumption</th>\n",
       "      <th>machine_status</th>\n",
       "      <th>anomaly_flag</th>\n",
       "      <th>predicted_remaining_life</th>\n",
       "      <th>failure_type</th>\n",
       "      <th>downtime_risk</th>\n",
       "      <th>maintenance_required</th>\n",
       "    </tr>\n",
       "  </thead>\n",
       "  <tbody>\n",
       "    <tr>\n",
       "      <th>0</th>\n",
       "      <td>2025-01-01 00:00:00</td>\n",
       "      <td>39</td>\n",
       "      <td>78.61</td>\n",
       "      <td>28.65</td>\n",
       "      <td>79.96</td>\n",
       "      <td>3.73</td>\n",
       "      <td>2.16</td>\n",
       "      <td>1</td>\n",
       "      <td>0</td>\n",
       "      <td>106</td>\n",
       "      <td>Normal</td>\n",
       "      <td>0.0</td>\n",
       "      <td>0</td>\n",
       "    </tr>\n",
       "    <tr>\n",
       "      <th>6</th>\n",
       "      <td>2025-01-01 00:06:00</td>\n",
       "      <td>39</td>\n",
       "      <td>73.05</td>\n",
       "      <td>40.70</td>\n",
       "      <td>61.59</td>\n",
       "      <td>2.35</td>\n",
       "      <td>1.63</td>\n",
       "      <td>1</td>\n",
       "      <td>0</td>\n",
       "      <td>470</td>\n",
       "      <td>Normal</td>\n",
       "      <td>0.0</td>\n",
       "      <td>0</td>\n",
       "    </tr>\n",
       "    <tr>\n",
       "      <th>42</th>\n",
       "      <td>2025-01-01 00:42:00</td>\n",
       "      <td>39</td>\n",
       "      <td>78.29</td>\n",
       "      <td>39.54</td>\n",
       "      <td>36.67</td>\n",
       "      <td>3.31</td>\n",
       "      <td>4.44</td>\n",
       "      <td>1</td>\n",
       "      <td>0</td>\n",
       "      <td>298</td>\n",
       "      <td>Normal</td>\n",
       "      <td>0.0</td>\n",
       "      <td>0</td>\n",
       "    </tr>\n",
       "    <tr>\n",
       "      <th>114</th>\n",
       "      <td>2025-01-01 01:54:00</td>\n",
       "      <td>39</td>\n",
       "      <td>79.06</td>\n",
       "      <td>37.46</td>\n",
       "      <td>45.55</td>\n",
       "      <td>2.48</td>\n",
       "      <td>4.59</td>\n",
       "      <td>1</td>\n",
       "      <td>0</td>\n",
       "      <td>398</td>\n",
       "      <td>Normal</td>\n",
       "      <td>0.0</td>\n",
       "      <td>0</td>\n",
       "    </tr>\n",
       "    <tr>\n",
       "      <th>143</th>\n",
       "      <td>2025-01-01 02:23:00</td>\n",
       "      <td>39</td>\n",
       "      <td>72.27</td>\n",
       "      <td>40.70</td>\n",
       "      <td>65.42</td>\n",
       "      <td>2.97</td>\n",
       "      <td>4.73</td>\n",
       "      <td>0</td>\n",
       "      <td>0</td>\n",
       "      <td>66</td>\n",
       "      <td>Normal</td>\n",
       "      <td>0.0</td>\n",
       "      <td>0</td>\n",
       "    </tr>\n",
       "  </tbody>\n",
       "</table>\n",
       "</div>"
      ],
      "text/plain": [
       "               timestamp  machine_id  temperature  vibration  humidity  \\\n",
       "0    2025-01-01 00:00:00          39        78.61      28.65     79.96   \n",
       "6    2025-01-01 00:06:00          39        73.05      40.70     61.59   \n",
       "42   2025-01-01 00:42:00          39        78.29      39.54     36.67   \n",
       "114  2025-01-01 01:54:00          39        79.06      37.46     45.55   \n",
       "143  2025-01-01 02:23:00          39        72.27      40.70     65.42   \n",
       "\n",
       "     pressure  energy_consumption  machine_status  anomaly_flag  \\\n",
       "0        3.73                2.16               1             0   \n",
       "6        2.35                1.63               1             0   \n",
       "42       3.31                4.44               1             0   \n",
       "114      2.48                4.59               1             0   \n",
       "143      2.97                4.73               0             0   \n",
       "\n",
       "     predicted_remaining_life failure_type  downtime_risk  \\\n",
       "0                         106       Normal            0.0   \n",
       "6                         470       Normal            0.0   \n",
       "42                        298       Normal            0.0   \n",
       "114                       398       Normal            0.0   \n",
       "143                        66       Normal            0.0   \n",
       "\n",
       "     maintenance_required  \n",
       "0                       0  \n",
       "6                       0  \n",
       "42                      0  \n",
       "114                     0  \n",
       "143                     0  "
      ]
     },
     "execution_count": 44,
     "metadata": {},
     "output_type": "execute_result"
    }
   ],
   "source": [
    "m39 = df[df[\"machine_id\"]==39]\n",
    "m39.head()"
   ]
  },
  {
   "cell_type": "code",
   "execution_count": 46,
   "id": "4e3c5f14-da64-4342-acd0-c3e4edec01ac",
   "metadata": {},
   "outputs": [
    {
     "data": {
      "text/plain": [
       "Counter({'Normal': 1833,\n",
       "         'Vibration Issue': 68,\n",
       "         'Pressure Drop': 39,\n",
       "         'Overheating': 31,\n",
       "         'Electrical Fault': 22})"
      ]
     },
     "execution_count": 46,
     "metadata": {},
     "output_type": "execute_result"
    }
   ],
   "source": [
    "Counter(m39[\"failure_type\"])"
   ]
  },
  {
   "cell_type": "code",
   "execution_count": 47,
   "id": "c693810c-22d0-49cf-aa39-617ce751ccad",
   "metadata": {},
   "outputs": [
    {
     "data": {
      "text/plain": [
       "Counter({0: 1836, 1: 157})"
      ]
     },
     "execution_count": 47,
     "metadata": {},
     "output_type": "execute_result"
    }
   ],
   "source": [
    "Counter(m39[\"anomaly_flag\"])"
   ]
  },
  {
   "cell_type": "code",
   "execution_count": 50,
   "id": "db9f2944-0230-42c0-8148-4b1e3c2367b7",
   "metadata": {},
   "outputs": [
    {
     "data": {
      "text/plain": [
       "Counter({0: 1607, 1: 386})"
      ]
     },
     "execution_count": 50,
     "metadata": {},
     "output_type": "execute_result"
    }
   ],
   "source": [
    "Counter(m39[\"maintenance_required\"])"
   ]
  },
  {
   "cell_type": "code",
   "execution_count": 51,
   "id": "b46185f3-53d7-4514-a888-14b5f079bb7c",
   "metadata": {},
   "outputs": [
    {
     "data": {
      "text/plain": [
       "Index(['timestamp', 'machine_id', 'temperature', 'vibration', 'humidity',\n",
       "       'pressure', 'energy_consumption', 'machine_status', 'anomaly_flag',\n",
       "       'predicted_remaining_life', 'failure_type', 'downtime_risk',\n",
       "       'maintenance_required'],\n",
       "      dtype='object')"
      ]
     },
     "execution_count": 51,
     "metadata": {},
     "output_type": "execute_result"
    }
   ],
   "source": [
    "m39.columns"
   ]
  },
  {
   "cell_type": "code",
   "execution_count": 332,
   "id": "ee5b9521-e51e-49f2-a9e6-718082428b53",
   "metadata": {},
   "outputs": [],
   "source": [
    "X = df[['temperature', 'vibration', 'humidity',\n",
    "       'pressure', 'energy_consumption', 'machine_status']]\n",
    "y = df['failure_type'].apply(lambda x: 0 if x=='Normal' else 1)"
   ]
  },
  {
   "cell_type": "code",
   "execution_count": 333,
   "id": "7fe60b70-a619-495a-a6d3-4cdfa5492a21",
   "metadata": {},
   "outputs": [
    {
     "data": {
      "text/plain": [
       "array([[78.61, 28.65, 79.96,  3.73,  2.16,  1.  ],\n",
       "       [68.19, 57.28, 35.94,  3.64,  0.69,  1.  ],\n",
       "       [98.94, 50.2 , 72.06,  1.  ,  2.49,  1.  ],\n",
       "       ...,\n",
       "       [93.01, 51.79, 64.28,  4.04,  3.62,  1.  ],\n",
       "       [84.41, 22.35, 35.18,  2.88,  2.37,  1.  ],\n",
       "       [73.53, 67.09, 74.35,  2.15,  2.5 ,  1.  ]])"
      ]
     },
     "execution_count": 333,
     "metadata": {},
     "output_type": "execute_result"
    }
   ],
   "source": [
    "X.to_numpy()"
   ]
  },
  {
   "cell_type": "code",
   "execution_count": 334,
   "id": "338fcab8-d170-4512-9886-cca132c7b9b9",
   "metadata": {},
   "outputs": [],
   "source": [
    "features = X.columns"
   ]
  },
  {
   "cell_type": "code",
   "execution_count": null,
   "id": "9f086b52-c55a-4768-b0f5-218db99c4098",
   "metadata": {},
   "outputs": [],
   "source": []
  },
  {
   "cell_type": "code",
   "execution_count": null,
   "id": "366d9eef-0c8b-4d78-847f-f92b9d375425",
   "metadata": {},
   "outputs": [],
   "source": []
  },
  {
   "cell_type": "code",
   "execution_count": null,
   "id": "90db0952-0e11-40cd-a4e7-5918ef6b451a",
   "metadata": {},
   "outputs": [],
   "source": []
  },
  {
   "cell_type": "code",
   "execution_count": null,
   "id": "f34142f5-5ffd-452b-aa0e-5b9456ad5935",
   "metadata": {},
   "outputs": [],
   "source": []
  },
  {
   "cell_type": "markdown",
   "id": "e32cc9de",
   "metadata": {},
   "source": [
    "# Load Data"
   ]
  },
  {
   "cell_type": "code",
   "execution_count": 335,
   "id": "1f0e11d0-0412-49de-abb9-3be283ab1650",
   "metadata": {},
   "outputs": [],
   "source": [
    "data = {'data':X.to_numpy(),\n",
    "        'target':y.to_numpy(),\n",
    "        'target_names':['no','yes'],\n",
    "        'feature_names':X.columns}\n"
   ]
  },
  {
   "cell_type": "code",
   "execution_count": 336,
   "id": "645e1f23-f520-439d-a130-649fd9baef0f",
   "metadata": {
    "tags": []
   },
   "outputs": [
    {
     "name": "stdout",
     "output_type": "stream",
     "text": [
      "<class 'types.SimpleNamespace'>\n"
     ]
    },
    {
     "data": {
      "text/plain": [
       "namespace(data=array([[78.61, 28.65, 79.96,  3.73,  2.16,  1.  ],\n",
       "                      [68.19, 57.28, 35.94,  3.64,  0.69,  1.  ],\n",
       "                      [98.94, 50.2 , 72.06,  1.  ,  2.49,  1.  ],\n",
       "                      ...,\n",
       "                      [93.01, 51.79, 64.28,  4.04,  3.62,  1.  ],\n",
       "                      [84.41, 22.35, 35.18,  2.88,  2.37,  1.  ],\n",
       "                      [73.53, 67.09, 74.35,  2.15,  2.5 ,  1.  ]]),\n",
       "          target=array([0, 0, 0, ..., 0, 0, 0]),\n",
       "          target_names=['no', 'yes'],\n",
       "          feature_names=Index(['temperature', 'vibration', 'humidity', 'pressure',\n",
       "                               'energy_consumption', 'machine_status'],\n",
       "                              dtype='object'))"
      ]
     },
     "execution_count": 336,
     "metadata": {},
     "output_type": "execute_result"
    }
   ],
   "source": [
    "from types import SimpleNamespace\n",
    "data = SimpleNamespace(**data)\n",
    "print(type(data))\n",
    "data"
   ]
  },
  {
   "cell_type": "markdown",
   "id": "a5378c6d",
   "metadata": {},
   "source": [
    "# Prepare Bandit-RRN Data"
   ]
  },
  {
   "cell_type": "markdown",
   "id": "2a00c989",
   "metadata": {},
   "source": [
    "A dataset for the Bandit-RRN algorithm in torchlogic must return a dictionary of the following form:\n",
    "\n",
    "```python\n",
    "{\n",
    "    'features': [N_FEATURES], 'target': [N_TARGETS], 'sample_idx': [1]\n",
    "}\n",
    "```\n",
    "\n",
    "- The `features` key contains a tensor of the features used for prediction.  Feature must be numeric and scaled between 0 and 1.\n",
    "\n",
    "- The `target` key must contain a tensor of the targets, with the values of 0 or 1 for each target.\n",
    "\n",
    "- The `sample_idx` key must contain a tensor of the row number in the data corresponding to that sample."
   ]
  },
  {
   "cell_type": "markdown",
   "id": "855fbe56",
   "metadata": {},
   "source": [
    "## Preprocess Data"
   ]
  },
  {
   "cell_type": "code",
   "execution_count": 337,
   "id": "9863924f",
   "metadata": {},
   "outputs": [],
   "source": [
    "mms = MinMaxScaler()\n",
    "X = mms.fit_transform(data.data)"
   ]
  },
  {
   "cell_type": "code",
   "execution_count": 338,
   "id": "63d35d23",
   "metadata": {},
   "outputs": [],
   "source": [
    "y = data.target.reshape(-1, 1)"
   ]
  },
  {
   "cell_type": "code",
   "execution_count": 339,
   "id": "aa07eed6-9a45-4f2a-b886-8997ac612eba",
   "metadata": {},
   "outputs": [],
   "source": [
    "X_train, X_test, y_train, y_test = train_test_split(X, y, test_size=0.1, random_state=42)\n",
    "X_train, X_val, y_train, y_val = train_test_split(X_train, y_train, test_size=0.22, random_state=42)"
   ]
  },
  {
   "cell_type": "code",
   "execution_count": 340,
   "id": "38742d1b-6946-42ce-80ef-55086582fc5e",
   "metadata": {},
   "outputs": [
    {
     "data": {
      "text/plain": [
       "70200"
      ]
     },
     "execution_count": 340,
     "metadata": {},
     "output_type": "execute_result"
    }
   ],
   "source": [
    "len(y_train)"
   ]
  },
  {
   "cell_type": "markdown",
   "id": "ba908ac4",
   "metadata": {},
   "source": [
    "## Define PyTorch Dataset"
   ]
  },
  {
   "cell_type": "code",
   "execution_count": 341,
   "id": "51d41c0b",
   "metadata": {},
   "outputs": [],
   "source": [
    "class BanditNRNDataset(Dataset):\n",
    "    def __init__(\n",
    "            self,\n",
    "            X: np.array,\n",
    "            y: np.array\n",
    "    ):\n",
    "        \"\"\"\n",
    "        Dataset suitable for BanditRRN model from torchlogic\n",
    "\n",
    "        Args:\n",
    "            X (np.array): features data scaled to [0, 1]\n",
    "            y (np.array): target data of classes 0, 1\n",
    "        \"\"\"\n",
    "        super(BanditNRNDataset, self).__init__()\n",
    "        self.X = X\n",
    "        self.y = y\n",
    "        self.sample_idx = np.arange(X.shape[0])  # index of samples\n",
    "\n",
    "    def __len__(self):\n",
    "        return self.X.shape[0]\n",
    "\n",
    "    def __getitem__(self, idx):\n",
    "        features = torch.from_numpy(self.X[idx, :]).float()\n",
    "        target = torch.from_numpy(self.y[idx, :])\n",
    "        return {'features': features, 'target': target, 'sample_idx': idx}"
   ]
  },
  {
   "cell_type": "markdown",
   "id": "dd5651ce",
   "metadata": {},
   "source": [
    "## Instantiate Datasets and Data Loaders"
   ]
  },
  {
   "cell_type": "code",
   "execution_count": 342,
   "id": "27037fbe-ae68-4329-8cf0-cf35b0f1e843",
   "metadata": {},
   "outputs": [],
   "source": [
    "train_dataset = BanditNRNDataset(X=X_train, y=y_train)\n",
    "val_dataset = BanditNRNDataset(X=X_val, y=y_val)\n",
    "test_dataset = BanditNRNDataset(X=X_test, y=y_test)"
   ]
  },
  {
   "cell_type": "code",
   "execution_count": 343,
   "id": "dcaa7ff4-077c-470e-806b-dafac7070a8f",
   "metadata": {},
   "outputs": [
    {
     "data": {
      "text/plain": [
       "__main__.BanditNRNDataset"
      ]
     },
     "execution_count": 343,
     "metadata": {},
     "output_type": "execute_result"
    }
   ],
   "source": [
    "type(train_dataset)"
   ]
  },
  {
   "cell_type": "code",
   "execution_count": 344,
   "id": "b0c45ef3-88d9-4d29-95bd-66e7094adc3c",
   "metadata": {},
   "outputs": [
    {
     "data": {
      "text/plain": [
       "{'features': tensor([0.5001, 0.4481, 0.4978, 0.0900, 0.2911, 0.5000]),\n",
       " 'target': tensor([0]),\n",
       " 'sample_idx': 0}"
      ]
     },
     "execution_count": 344,
     "metadata": {},
     "output_type": "execute_result"
    }
   ],
   "source": [
    "train_dataset.__getitem__(0)"
   ]
  },
  {
   "cell_type": "code",
   "execution_count": 345,
   "id": "8b8c779a",
   "metadata": {},
   "outputs": [],
   "source": [
    "g = torch.Generator()\n",
    "g.manual_seed(0)\n",
    "\n",
    "def create_holdout_samplers(train_dataset, pct=0.2):\n",
    "    train_size = len(train_dataset)\n",
    "    indices = list(range(train_size))\n",
    "    np.random.seed(0)\n",
    "    np.random.shuffle(indices)\n",
    "    \n",
    "    train_holdout_split_index = int(np.floor(pct * train_size))\n",
    "    train_idx, train_holdout_idx = indices[train_holdout_split_index:], indices[:train_holdout_split_index]\n",
    "    \n",
    "    train_sampler = SubsetRandomSampler(train_idx)\n",
    "    train_holdout_sampler = SubsetRandomSampler(train_holdout_idx)\n",
    "    \n",
    "    return train_sampler, train_holdout_sampler\n",
    "\n",
    "train_sampler, train_holdout_sampler = create_holdout_samplers(train_dataset)\n",
    "\n",
    "train_dl = DataLoader(\n",
    "    train_dataset, batch_size=32, generator=g, sampler=train_sampler,\n",
    "    pin_memory=False, persistent_workers=False, num_workers=0  # very important to optimize these settings in production\n",
    ")\n",
    "train_holdout_dl = DataLoader(\n",
    "    train_dataset, batch_size=32, generator=g, sampler=train_holdout_sampler,\n",
    "    pin_memory=False, persistent_workers=False, num_workers=0  # very important to optimize these settings in production\n",
    ")\n",
    "val_dl = DataLoader(\n",
    "    val_dataset, batch_size=32, generator=g, \n",
    "    pin_memory=False, persistent_workers=False, num_workers=0  # very important to optimize these settings in production\n",
    ")\n",
    "test_dl = DataLoader(\n",
    "    test_dataset, batch_size=32, generator=g, \n",
    "    pin_memory=False, persistent_workers=False, num_workers=0  # very important to optimize these settings in production\n",
    ")"
   ]
  },
  {
   "cell_type": "markdown",
   "id": "170ca75e",
   "metadata": {},
   "source": [
    "# Train Bandit-RRN Model"
   ]
  },
  {
   "cell_type": "markdown",
   "id": "1f4c15b9-a9e0-4276-8e9d-030e5eb3d32a",
   "metadata": {},
   "source": [
    "## Prepare the Feature Names"
   ]
  },
  {
   "cell_type": "markdown",
   "id": "1fe726ef-8d07-4147-baa6-aace2a8cc1e6",
   "metadata": {},
   "source": [
    "To aid in the explantions of our model, we can set our feature names to natural language that represents the values of the feature.\n",
    "In the current data, each feature represents a measurement in centimeters and is scaled between 0 to 1, so represents a percentile.\n",
    "We rename each feature to describe this represenation of our data, which is then used when extracting explanations from the model."
   ]
  },
  {
   "cell_type": "code",
   "execution_count": 346,
   "id": "e8382f72-174e-43f3-a2e3-375fe78dcf5f",
   "metadata": {},
   "outputs": [],
   "source": [
    "data.feature_names = [f\"the {x} was\" for x in features]"
   ]
  },
  {
   "cell_type": "code",
   "execution_count": 349,
   "id": "2a29441d-b77b-4491-ae59-4845efd3940f",
   "metadata": {},
   "outputs": [
    {
     "data": {
      "text/plain": [
       "['the temperature was',\n",
       " 'the vibration was',\n",
       " 'the humidity was',\n",
       " 'the pressure was',\n",
       " 'the energy_consumption was',\n",
       " 'the machine_status was']"
      ]
     },
     "execution_count": 349,
     "metadata": {},
     "output_type": "execute_result"
    }
   ],
   "source": [
    "data.feature_names"
   ]
  },
  {
   "cell_type": "markdown",
   "id": "2e623836",
   "metadata": {},
   "source": [
    "## Tune Hyper-parameters"
   ]
  },
  {
   "cell_type": "code",
   "execution_count": 350,
   "id": "b8425fa6",
   "metadata": {},
   "outputs": [],
   "source": [
    "torch.random.manual_seed(0)\n",
    "np.random.seed(0)\n",
    "\n",
    "class TuneParameters:\n",
    "    \n",
    "    def __init__(self, n_trials=10):\n",
    "        self.best_model = None\n",
    "        self.best_rn_val_performance = 0.0\n",
    "        self.n_trials = n_trials\n",
    "\n",
    "    def _objective(self, trial):\n",
    "\n",
    "        ########################################################################################################################\n",
    "        # NOTE: These hyper-parameter settings are specific to the breast cancer dataset.  For information on generally useful\n",
    "        # ranges of hyper-parameters and their descriptions see our documentation: \n",
    "        ########################################################################################################################\n",
    "\n",
    "        # Set Parameters\n",
    "        \n",
    "        ## Reinforced Reasoning Network Parameters\n",
    "        layer_sizes = trial.suggest_categorical('layer_sizes', [(2, ), (3, ), (5, ), (10, ), \n",
    "                                                                (2, 2), (3, 3), (5, 5), (10, 10)])\n",
    "        n_selected_features_input = trial.suggest_int('n_selected_features_input', low=2, high=3)\n",
    "        n_selected_features_internal = trial.suggest_int('n_selected_features_internal', low=2, high=min(3, min(layer_sizes)))\n",
    "        n_selected_features_output = trial.suggest_int('n_selected_features_output', low=2, high=min(3, layer_sizes[-1]))\n",
    "        perform_prune_plateau_count = trial.suggest_int('perform_prune_plateau_count', low=1, high=1)\n",
    "        perform_prune_quantile = trial.suggest_float('perform_prune_quantile', low=0.1, high=0.9)\n",
    "        increase_prune_plateau_count = trial.suggest_int('increase_prune_plateau_count', low=0, high=20)\n",
    "        increase_prune_plateau_count_plateau_count = trial.suggest_int('increase_prune_plateau_count_plateau_count', low=10, high=30)\n",
    "        ucb_scale = trial.suggest_float('ucb_scale', low=1.0, high=2.0)\n",
    "        normal_form = trial.suggest_categorical('normal_form', ['dnf', 'cnf'])\n",
    "        prune_strategy = trial.suggest_categorical('prune_strategy', ['logic'])\n",
    "        delta = trial.suggest_float('delta', low=2.0, high=2.0)\n",
    "        bootstrap = trial.suggest_categorical('bootstrap', [True, False])\n",
    "        swa = trial.suggest_categorical('swa', [True, False])\n",
    "        add_negations = trial.suggest_categorical('add_negations', [True, False])\n",
    "        weight_init = trial.suggest_float('weight_init', low=0.01, high=1.0)\n",
    "\n",
    "        ## Optimizer Parameters\n",
    "\n",
    "        ### Learning Rate\n",
    "        learning_rate = trial.suggest_float('learning_rate', low=0.01, high=0.2)\n",
    "\n",
    "        ### L1 Regularization\n",
    "        use_l1 = trial.suggest_categorical('use_l1', [True, False])\n",
    "        if use_l1:\n",
    "            l1_lambda = trial.suggest_float('l1_lambda', low=0.00001, high=0.1)\n",
    "        else:\n",
    "            l1_lambda = 0\n",
    "\n",
    "        ### Weight Decay Regularization\n",
    "        use_weight_decay = trial.suggest_categorical('use_weight_decay', [True, False])\n",
    "        if use_weight_decay:\n",
    "            weight_decay = trial.suggest_float('weight_decay', low=0.00001, high=0.1)\n",
    "        else:\n",
    "            weight_decay = 0\n",
    "\n",
    "        ### Lookahead Optimization\n",
    "        use_lookahead = trial.suggest_categorical('use_lookahead', [True, False])\n",
    "        if use_lookahead:\n",
    "            lookahead_steps = trial.suggest_int('lookahead_steps', low=5, high=10, step=1)\n",
    "            lookahead_steps_size = trial.suggest_float('lookahead_steps_size', low=0.5, high=0.8)\n",
    "        else:\n",
    "            lookahead_steps = 0\n",
    "            lookahead_steps_size = 0\n",
    "\n",
    "        ### Data Augmentation\n",
    "        # augment = trial.suggest_categorical('augment', ['CM', 'MU', 'AT', None])\n",
    "        augment = trial.suggest_categorical('augment', ['CM', 'MU', None])  # excluding Adversarial Learning because it fails on Jupyter Notebooks\n",
    "        if augment is not None:\n",
    "            augment_alpha = trial.suggest_float('augment_alpha', low=0.0, high=1.0)\n",
    "        else:\n",
    "            augment_alpha = 0\n",
    "\n",
    "        ### Early Stopping\n",
    "        early_stopping_plateau_count = trial.suggest_int('early_stopping_plateau_count', low=20, high=50, step=1)\n",
    "        \n",
    "        ## Scheulder parameters\n",
    "        t_0 = trial.suggest_int('T_0', low=2, high=10, step=1)\n",
    "        t_mult = trial.suggest_int('T_mult', low=1, high=3, step=1)\n",
    "\n",
    "        # init model\n",
    "        model = BanditNRNClassifier(\n",
    "            target_names=['no'],\n",
    "            feature_names=list(data.feature_names),\n",
    "            input_size=len(data.feature_names),\n",
    "            output_size=1,\n",
    "            layer_sizes=layer_sizes,\n",
    "            n_selected_features_input=n_selected_features_input,\n",
    "            n_selected_features_internal=n_selected_features_internal,\n",
    "            n_selected_features_output=n_selected_features_output,\n",
    "            perform_prune_quantile=perform_prune_quantile,\n",
    "            ucb_scale=ucb_scale,\n",
    "            prune_strategy=prune_strategy,\n",
    "            normal_form=normal_form,\n",
    "            delta=delta,\n",
    "            bootstrap=bootstrap,\n",
    "            swa=swa,\n",
    "            add_negations=add_negations,\n",
    "            weight_init=weight_init,\n",
    "            logits=True\n",
    "        )\n",
    "\n",
    "        epochs = 200\n",
    "        accumulation_steps = 1\n",
    "        optimizer = optim.AdamW(model.rn.parameters(), lr=learning_rate, weight_decay=weight_decay)\n",
    "        scheduler = optim.lr_scheduler.CosineAnnealingWarmRestarts(optimizer, T_0=t_0, T_mult=t_mult)\n",
    "        trainer = BanditNRNTrainer(\n",
    "            model=model,\n",
    "            loss_func=nn.BCEWithLogitsLoss(),\n",
    "            optimizer=optimizer,\n",
    "            scheduler=scheduler,\n",
    "            epochs=epochs,\n",
    "            accumulation_steps=accumulation_steps,\n",
    "            l1_lambda=l1_lambda,\n",
    "            early_stopping_plateau_count=early_stopping_plateau_count,\n",
    "            perform_prune_plateau_count=perform_prune_plateau_count,\n",
    "            increase_prune_plateau_count=increase_prune_plateau_count,\n",
    "            increase_prune_plateau_count_plateau_count=increase_prune_plateau_count_plateau_count,\n",
    "            lookahead_steps=lookahead_steps,\n",
    "            lookahead_steps_size=lookahead_steps_size,\n",
    "            augment=augment,\n",
    "            augment_alpha=augment_alpha\n",
    "        )\n",
    "\n",
    "        # train model\n",
    "        # The trainer defaults to optimizing the validation roc_auc_score.  To optimize against a different metric pass the sklearn metric to the 'evaluation_metric' parameter\n",
    "        trainer.train(train_dl, train_holdout_dl, evaluation_metric=roc_auc_score, multi_class=False)\n",
    "        trainer.set_best_state()\n",
    "\n",
    "        # evaluate model\n",
    "        predictions, targets = trainer.model.predict(val_dl)\n",
    "        rn_val_performance = trainer.model.evaluate(\n",
    "            predictions=predictions,\n",
    "            labels=targets\n",
    "        )\n",
    "\n",
    "        if rn_val_performance > self.best_rn_val_performance:\n",
    "            self.best_rn_val_performance = rn_val_performance\n",
    "            self.best_model = copy.copy(trainer.model)\n",
    "            self.best_model.rn = copy.deepcopy(trainer.model.rn)\n",
    "\n",
    "        return rn_val_performance\n",
    "    \n",
    "    def tune(self):\n",
    "        # 3. Create a study object and optimize the objective function.\n",
    "        sampler = optuna.samplers.TPESampler(multivariate=True, group=True, seed=42)\n",
    "        study = optuna.create_study(direction='maximize', sampler=sampler)\n",
    "        study.optimize(self._objective, n_trials=self.n_trials)\n",
    "        return self.best_model"
   ]
  },
  {
   "cell_type": "code",
   "execution_count": 351,
   "id": "41831d70",
   "metadata": {
    "tags": []
   },
   "outputs": [
    {
     "name": "stderr",
     "output_type": "stream",
     "text": [
      "/home/khamilton/anaconda3/envs/tl/lib/python3.9/site-packages/optuna/samplers/_tpe/sampler.py:263: ExperimentalWarning: ``multivariate`` option is an experimental feature. The interface can change in the future.\n",
      "  warnings.warn(\n",
      "/home/khamilton/anaconda3/envs/tl/lib/python3.9/site-packages/optuna/samplers/_tpe/sampler.py:274: ExperimentalWarning: ``group`` option is an experimental feature. The interface can change in the future.\n",
      "  warnings.warn(\n",
      "\u001b[32m[I 2025-09-02 10:30:18,599]\u001b[0m A new study created in memory with name: no-name-03fdb4f7-e62e-4ae6-b863-b3150306110e\u001b[0m\n",
      "/home/khamilton/anaconda3/envs/tl/lib/python3.9/site-packages/torch/cuda/__init__.py:829: UserWarning: Can't initialize NVML\n",
      "  warnings.warn(\"Can't initialize NVML\")\n",
      "/home/khamilton/anaconda3/envs/tl/lib/python3.9/site-packages/pandas/core/arrays/masked.py:61: UserWarning: Pandas requires version '1.3.6' or newer of 'bottleneck' (version '1.3.2' currently installed).\n",
      "  from pandas.core import (\n",
      "/home/khamilton/anaconda3/envs/tl/lib/python3.9/site-packages/scipy/__init__.py:146: UserWarning: A NumPy version >=1.16.5 and <1.23.0 is required for this version of SciPy (detected version 1.26.4\n",
      "  warnings.warn(f\"A NumPy version >={np_minversion} and <{np_maxversion}\"\n",
      "/home/khamilton/anaconda3/envs/tl/lib/python3.9/site-packages/pandas/core/arrays/masked.py:61: UserWarning: Pandas requires version '1.3.6' or newer of 'bottleneck' (version '1.3.2' currently installed).\n",
      "  from pandas.core import (\n",
      "/home/khamilton/anaconda3/envs/tl/lib/python3.9/site-packages/scipy/__init__.py:146: UserWarning: A NumPy version >=1.16.5 and <1.23.0 is required for this version of SciPy (detected version 1.26.4\n",
      "  warnings.warn(f\"A NumPy version >={np_minversion} and <{np_maxversion}\"\n",
      "/home/khamilton/anaconda3/envs/tl/lib/python3.9/site-packages/pandas/core/arrays/masked.py:61: UserWarning: Pandas requires version '1.3.6' or newer of 'bottleneck' (version '1.3.2' currently installed).\n",
      "  from pandas.core import (\n",
      "/home/khamilton/anaconda3/envs/tl/lib/python3.9/site-packages/scipy/__init__.py:146: UserWarning: A NumPy version >=1.16.5 and <1.23.0 is required for this version of SciPy (detected version 1.26.4\n",
      "  warnings.warn(f\"A NumPy version >={np_minversion} and <{np_maxversion}\"\n",
      "/home/khamilton/anaconda3/envs/tl/lib/python3.9/site-packages/pandas/core/arrays/masked.py:61: UserWarning: Pandas requires version '1.3.6' or newer of 'bottleneck' (version '1.3.2' currently installed).\n",
      "  from pandas.core import (\n",
      "/home/khamilton/anaconda3/envs/tl/lib/python3.9/site-packages/scipy/__init__.py:146: UserWarning: A NumPy version >=1.16.5 and <1.23.0 is required for this version of SciPy (detected version 1.26.4\n",
      "  warnings.warn(f\"A NumPy version >={np_minversion} and <{np_maxversion}\"\n",
      "/home/khamilton/anaconda3/envs/tl/lib/python3.9/site-packages/pandas/core/arrays/masked.py:61: UserWarning: Pandas requires version '1.3.6' or newer of 'bottleneck' (version '1.3.2' currently installed).\n",
      "  from pandas.core import (\n",
      "/home/khamilton/anaconda3/envs/tl/lib/python3.9/site-packages/scipy/__init__.py:146: UserWarning: A NumPy version >=1.16.5 and <1.23.0 is required for this version of SciPy (detected version 1.26.4\n",
      "  warnings.warn(f\"A NumPy version >={np_minversion} and <{np_maxversion}\"\n",
      "/home/khamilton/anaconda3/envs/tl/lib/python3.9/site-packages/pandas/core/arrays/masked.py:61: UserWarning: Pandas requires version '1.3.6' or newer of 'bottleneck' (version '1.3.2' currently installed).\n",
      "  from pandas.core import (\n",
      "/home/khamilton/anaconda3/envs/tl/lib/python3.9/site-packages/scipy/__init__.py:146: UserWarning: A NumPy version >=1.16.5 and <1.23.0 is required for this version of SciPy (detected version 1.26.4\n",
      "  warnings.warn(f\"A NumPy version >={np_minversion} and <{np_maxversion}\"\n",
      "/home/khamilton/anaconda3/envs/tl/lib/python3.9/site-packages/pandas/core/arrays/masked.py:61: UserWarning: Pandas requires version '1.3.6' or newer of 'bottleneck' (version '1.3.2' currently installed).\n",
      "  from pandas.core import (\n",
      "/home/khamilton/anaconda3/envs/tl/lib/python3.9/site-packages/scipy/__init__.py:146: UserWarning: A NumPy version >=1.16.5 and <1.23.0 is required for this version of SciPy (detected version 1.26.4\n",
      "  warnings.warn(f\"A NumPy version >={np_minversion} and <{np_maxversion}\"\n",
      "/home/khamilton/anaconda3/envs/tl/lib/python3.9/site-packages/pandas/core/arrays/masked.py:61: UserWarning: Pandas requires version '1.3.6' or newer of 'bottleneck' (version '1.3.2' currently installed).\n",
      "  from pandas.core import (\n",
      "/home/khamilton/anaconda3/envs/tl/lib/python3.9/site-packages/scipy/__init__.py:146: UserWarning: A NumPy version >=1.16.5 and <1.23.0 is required for this version of SciPy (detected version 1.26.4\n",
      "  warnings.warn(f\"A NumPy version >={np_minversion} and <{np_maxversion}\"\n",
      "/home/khamilton/anaconda3/envs/tl/lib/python3.9/site-packages/pandas/core/arrays/masked.py:61: UserWarning: Pandas requires version '1.3.6' or newer of 'bottleneck' (version '1.3.2' currently installed).\n",
      "  from pandas.core import (\n",
      "/home/khamilton/anaconda3/envs/tl/lib/python3.9/site-packages/scipy/__init__.py:146: UserWarning: A NumPy version >=1.16.5 and <1.23.0 is required for this version of SciPy (detected version 1.26.4\n",
      "  warnings.warn(f\"A NumPy version >={np_minversion} and <{np_maxversion}\"\n",
      "/home/khamilton/anaconda3/envs/tl/lib/python3.9/site-packages/pandas/core/arrays/masked.py:61: UserWarning: Pandas requires version '1.3.6' or newer of 'bottleneck' (version '1.3.2' currently installed).\n",
      "  from pandas.core import (\n",
      "/home/khamilton/anaconda3/envs/tl/lib/python3.9/site-packages/scipy/__init__.py:146: UserWarning: A NumPy version >=1.16.5 and <1.23.0 is required for this version of SciPy (detected version 1.26.4\n",
      "  warnings.warn(f\"A NumPy version >={np_minversion} and <{np_maxversion}\"\n",
      "/home/khamilton/anaconda3/envs/tl/lib/python3.9/site-packages/pandas/core/arrays/masked.py:61: UserWarning: Pandas requires version '1.3.6' or newer of 'bottleneck' (version '1.3.2' currently installed).\n",
      "  from pandas.core import (\n",
      "/home/khamilton/anaconda3/envs/tl/lib/python3.9/site-packages/scipy/__init__.py:146: UserWarning: A NumPy version >=1.16.5 and <1.23.0 is required for this version of SciPy (detected version 1.26.4\n",
      "  warnings.warn(f\"A NumPy version >={np_minversion} and <{np_maxversion}\"\n",
      "\u001b[32m[I 2025-09-02 10:34:27,887]\u001b[0m Trial 0 finished with value: 0.9906492970215077 and parameters: {'layer_sizes': (3,), 'n_selected_features_input': 3, 'n_selected_features_internal': 3, 'n_selected_features_output': 2, 'perform_prune_plateau_count': 1, 'perform_prune_quantile': 0.8759278817295955, 'increase_prune_plateau_count': 17, 'increase_prune_plateau_count_plateau_count': 14, 'ucb_scale': 1.1818249672071006, 'normal_form': 'cnf', 'prune_strategy': 'logic', 'delta': 2.0, 'bootstrap': True, 'swa': False, 'add_negations': False, 'weight_init': 0.37269822486075477, 'learning_rate': 0.09665329700123683, 'use_l1': True, 'l1_lambda': 0.05142830149697703, 'use_weight_decay': True, 'weight_decay': 0.06075840974162483, 'use_lookahead': True, 'lookahead_steps': 10, 'lookahead_steps_size': 0.7896896099223678, 'augment': 'CM', 'augment_alpha': 0.6842330265121569, 'early_stopping_plateau_count': 33, 'T_0': 3, 'T_mult': 2}. Best is trial 0 with value: 0.9906492970215077.\u001b[0m\n"
     ]
    }
   ],
   "source": [
    "best_model = TuneParameters(1).tune()"
   ]
  },
  {
   "cell_type": "markdown",
   "id": "e2dc5323-a975-4738-93dc-9d49a4962d8d",
   "metadata": {
    "tags": []
   },
   "source": [
    "# Calibrated Model"
   ]
  },
  {
   "cell_type": "markdown",
   "id": "ba136507-dc77-4436-ade0-6cb85799d1c1",
   "metadata": {},
   "source": [
    "RRN's are a fuzzy logic based method.  This means that they operate with confidence scores rather than probabilities.  In some tasks we may want a probability as the output of our system and in that case we can train a calibration model to transform our RRN confidence scores to a probability."
   ]
  },
  {
   "cell_type": "code",
   "execution_count": 352,
   "id": "a3c54e1f-ae58-4e35-88ce-11912a0419be",
   "metadata": {},
   "outputs": [
    {
     "data": {
      "text/html": [
       "<style>#sk-container-id-6 {\n",
       "  /* Definition of color scheme common for light and dark mode */\n",
       "  --sklearn-color-text: #000;\n",
       "  --sklearn-color-text-muted: #666;\n",
       "  --sklearn-color-line: gray;\n",
       "  /* Definition of color scheme for unfitted estimators */\n",
       "  --sklearn-color-unfitted-level-0: #fff5e6;\n",
       "  --sklearn-color-unfitted-level-1: #f6e4d2;\n",
       "  --sklearn-color-unfitted-level-2: #ffe0b3;\n",
       "  --sklearn-color-unfitted-level-3: chocolate;\n",
       "  /* Definition of color scheme for fitted estimators */\n",
       "  --sklearn-color-fitted-level-0: #f0f8ff;\n",
       "  --sklearn-color-fitted-level-1: #d4ebff;\n",
       "  --sklearn-color-fitted-level-2: #b3dbfd;\n",
       "  --sklearn-color-fitted-level-3: cornflowerblue;\n",
       "\n",
       "  /* Specific color for light theme */\n",
       "  --sklearn-color-text-on-default-background: var(--sg-text-color, var(--theme-code-foreground, var(--jp-content-font-color1, black)));\n",
       "  --sklearn-color-background: var(--sg-background-color, var(--theme-background, var(--jp-layout-color0, white)));\n",
       "  --sklearn-color-border-box: var(--sg-text-color, var(--theme-code-foreground, var(--jp-content-font-color1, black)));\n",
       "  --sklearn-color-icon: #696969;\n",
       "\n",
       "  @media (prefers-color-scheme: dark) {\n",
       "    /* Redefinition of color scheme for dark theme */\n",
       "    --sklearn-color-text-on-default-background: var(--sg-text-color, var(--theme-code-foreground, var(--jp-content-font-color1, white)));\n",
       "    --sklearn-color-background: var(--sg-background-color, var(--theme-background, var(--jp-layout-color0, #111)));\n",
       "    --sklearn-color-border-box: var(--sg-text-color, var(--theme-code-foreground, var(--jp-content-font-color1, white)));\n",
       "    --sklearn-color-icon: #878787;\n",
       "  }\n",
       "}\n",
       "\n",
       "#sk-container-id-6 {\n",
       "  color: var(--sklearn-color-text);\n",
       "}\n",
       "\n",
       "#sk-container-id-6 pre {\n",
       "  padding: 0;\n",
       "}\n",
       "\n",
       "#sk-container-id-6 input.sk-hidden--visually {\n",
       "  border: 0;\n",
       "  clip: rect(1px 1px 1px 1px);\n",
       "  clip: rect(1px, 1px, 1px, 1px);\n",
       "  height: 1px;\n",
       "  margin: -1px;\n",
       "  overflow: hidden;\n",
       "  padding: 0;\n",
       "  position: absolute;\n",
       "  width: 1px;\n",
       "}\n",
       "\n",
       "#sk-container-id-6 div.sk-dashed-wrapped {\n",
       "  border: 1px dashed var(--sklearn-color-line);\n",
       "  margin: 0 0.4em 0.5em 0.4em;\n",
       "  box-sizing: border-box;\n",
       "  padding-bottom: 0.4em;\n",
       "  background-color: var(--sklearn-color-background);\n",
       "}\n",
       "\n",
       "#sk-container-id-6 div.sk-container {\n",
       "  /* jupyter's `normalize.less` sets `[hidden] { display: none; }`\n",
       "     but bootstrap.min.css set `[hidden] { display: none !important; }`\n",
       "     so we also need the `!important` here to be able to override the\n",
       "     default hidden behavior on the sphinx rendered scikit-learn.org.\n",
       "     See: https://github.com/scikit-learn/scikit-learn/issues/21755 */\n",
       "  display: inline-block !important;\n",
       "  position: relative;\n",
       "}\n",
       "\n",
       "#sk-container-id-6 div.sk-text-repr-fallback {\n",
       "  display: none;\n",
       "}\n",
       "\n",
       "div.sk-parallel-item,\n",
       "div.sk-serial,\n",
       "div.sk-item {\n",
       "  /* draw centered vertical line to link estimators */\n",
       "  background-image: linear-gradient(var(--sklearn-color-text-on-default-background), var(--sklearn-color-text-on-default-background));\n",
       "  background-size: 2px 100%;\n",
       "  background-repeat: no-repeat;\n",
       "  background-position: center center;\n",
       "}\n",
       "\n",
       "/* Parallel-specific style estimator block */\n",
       "\n",
       "#sk-container-id-6 div.sk-parallel-item::after {\n",
       "  content: \"\";\n",
       "  width: 100%;\n",
       "  border-bottom: 2px solid var(--sklearn-color-text-on-default-background);\n",
       "  flex-grow: 1;\n",
       "}\n",
       "\n",
       "#sk-container-id-6 div.sk-parallel {\n",
       "  display: flex;\n",
       "  align-items: stretch;\n",
       "  justify-content: center;\n",
       "  background-color: var(--sklearn-color-background);\n",
       "  position: relative;\n",
       "}\n",
       "\n",
       "#sk-container-id-6 div.sk-parallel-item {\n",
       "  display: flex;\n",
       "  flex-direction: column;\n",
       "}\n",
       "\n",
       "#sk-container-id-6 div.sk-parallel-item:first-child::after {\n",
       "  align-self: flex-end;\n",
       "  width: 50%;\n",
       "}\n",
       "\n",
       "#sk-container-id-6 div.sk-parallel-item:last-child::after {\n",
       "  align-self: flex-start;\n",
       "  width: 50%;\n",
       "}\n",
       "\n",
       "#sk-container-id-6 div.sk-parallel-item:only-child::after {\n",
       "  width: 0;\n",
       "}\n",
       "\n",
       "/* Serial-specific style estimator block */\n",
       "\n",
       "#sk-container-id-6 div.sk-serial {\n",
       "  display: flex;\n",
       "  flex-direction: column;\n",
       "  align-items: center;\n",
       "  background-color: var(--sklearn-color-background);\n",
       "  padding-right: 1em;\n",
       "  padding-left: 1em;\n",
       "}\n",
       "\n",
       "\n",
       "/* Toggleable style: style used for estimator/Pipeline/ColumnTransformer box that is\n",
       "clickable and can be expanded/collapsed.\n",
       "- Pipeline and ColumnTransformer use this feature and define the default style\n",
       "- Estimators will overwrite some part of the style using the `sk-estimator` class\n",
       "*/\n",
       "\n",
       "/* Pipeline and ColumnTransformer style (default) */\n",
       "\n",
       "#sk-container-id-6 div.sk-toggleable {\n",
       "  /* Default theme specific background. It is overwritten whether we have a\n",
       "  specific estimator or a Pipeline/ColumnTransformer */\n",
       "  background-color: var(--sklearn-color-background);\n",
       "}\n",
       "\n",
       "/* Toggleable label */\n",
       "#sk-container-id-6 label.sk-toggleable__label {\n",
       "  cursor: pointer;\n",
       "  display: flex;\n",
       "  width: 100%;\n",
       "  margin-bottom: 0;\n",
       "  padding: 0.5em;\n",
       "  box-sizing: border-box;\n",
       "  text-align: center;\n",
       "  align-items: start;\n",
       "  justify-content: space-between;\n",
       "  gap: 0.5em;\n",
       "}\n",
       "\n",
       "#sk-container-id-6 label.sk-toggleable__label .caption {\n",
       "  font-size: 0.6rem;\n",
       "  font-weight: lighter;\n",
       "  color: var(--sklearn-color-text-muted);\n",
       "}\n",
       "\n",
       "#sk-container-id-6 label.sk-toggleable__label-arrow:before {\n",
       "  /* Arrow on the left of the label */\n",
       "  content: \"▸\";\n",
       "  float: left;\n",
       "  margin-right: 0.25em;\n",
       "  color: var(--sklearn-color-icon);\n",
       "}\n",
       "\n",
       "#sk-container-id-6 label.sk-toggleable__label-arrow:hover:before {\n",
       "  color: var(--sklearn-color-text);\n",
       "}\n",
       "\n",
       "/* Toggleable content - dropdown */\n",
       "\n",
       "#sk-container-id-6 div.sk-toggleable__content {\n",
       "  max-height: 0;\n",
       "  max-width: 0;\n",
       "  overflow: hidden;\n",
       "  text-align: left;\n",
       "  /* unfitted */\n",
       "  background-color: var(--sklearn-color-unfitted-level-0);\n",
       "}\n",
       "\n",
       "#sk-container-id-6 div.sk-toggleable__content.fitted {\n",
       "  /* fitted */\n",
       "  background-color: var(--sklearn-color-fitted-level-0);\n",
       "}\n",
       "\n",
       "#sk-container-id-6 div.sk-toggleable__content pre {\n",
       "  margin: 0.2em;\n",
       "  border-radius: 0.25em;\n",
       "  color: var(--sklearn-color-text);\n",
       "  /* unfitted */\n",
       "  background-color: var(--sklearn-color-unfitted-level-0);\n",
       "}\n",
       "\n",
       "#sk-container-id-6 div.sk-toggleable__content.fitted pre {\n",
       "  /* unfitted */\n",
       "  background-color: var(--sklearn-color-fitted-level-0);\n",
       "}\n",
       "\n",
       "#sk-container-id-6 input.sk-toggleable__control:checked~div.sk-toggleable__content {\n",
       "  /* Expand drop-down */\n",
       "  max-height: 200px;\n",
       "  max-width: 100%;\n",
       "  overflow: auto;\n",
       "}\n",
       "\n",
       "#sk-container-id-6 input.sk-toggleable__control:checked~label.sk-toggleable__label-arrow:before {\n",
       "  content: \"▾\";\n",
       "}\n",
       "\n",
       "/* Pipeline/ColumnTransformer-specific style */\n",
       "\n",
       "#sk-container-id-6 div.sk-label input.sk-toggleable__control:checked~label.sk-toggleable__label {\n",
       "  color: var(--sklearn-color-text);\n",
       "  background-color: var(--sklearn-color-unfitted-level-2);\n",
       "}\n",
       "\n",
       "#sk-container-id-6 div.sk-label.fitted input.sk-toggleable__control:checked~label.sk-toggleable__label {\n",
       "  background-color: var(--sklearn-color-fitted-level-2);\n",
       "}\n",
       "\n",
       "/* Estimator-specific style */\n",
       "\n",
       "/* Colorize estimator box */\n",
       "#sk-container-id-6 div.sk-estimator input.sk-toggleable__control:checked~label.sk-toggleable__label {\n",
       "  /* unfitted */\n",
       "  background-color: var(--sklearn-color-unfitted-level-2);\n",
       "}\n",
       "\n",
       "#sk-container-id-6 div.sk-estimator.fitted input.sk-toggleable__control:checked~label.sk-toggleable__label {\n",
       "  /* fitted */\n",
       "  background-color: var(--sklearn-color-fitted-level-2);\n",
       "}\n",
       "\n",
       "#sk-container-id-6 div.sk-label label.sk-toggleable__label,\n",
       "#sk-container-id-6 div.sk-label label {\n",
       "  /* The background is the default theme color */\n",
       "  color: var(--sklearn-color-text-on-default-background);\n",
       "}\n",
       "\n",
       "/* On hover, darken the color of the background */\n",
       "#sk-container-id-6 div.sk-label:hover label.sk-toggleable__label {\n",
       "  color: var(--sklearn-color-text);\n",
       "  background-color: var(--sklearn-color-unfitted-level-2);\n",
       "}\n",
       "\n",
       "/* Label box, darken color on hover, fitted */\n",
       "#sk-container-id-6 div.sk-label.fitted:hover label.sk-toggleable__label.fitted {\n",
       "  color: var(--sklearn-color-text);\n",
       "  background-color: var(--sklearn-color-fitted-level-2);\n",
       "}\n",
       "\n",
       "/* Estimator label */\n",
       "\n",
       "#sk-container-id-6 div.sk-label label {\n",
       "  font-family: monospace;\n",
       "  font-weight: bold;\n",
       "  display: inline-block;\n",
       "  line-height: 1.2em;\n",
       "}\n",
       "\n",
       "#sk-container-id-6 div.sk-label-container {\n",
       "  text-align: center;\n",
       "}\n",
       "\n",
       "/* Estimator-specific */\n",
       "#sk-container-id-6 div.sk-estimator {\n",
       "  font-family: monospace;\n",
       "  border: 1px dotted var(--sklearn-color-border-box);\n",
       "  border-radius: 0.25em;\n",
       "  box-sizing: border-box;\n",
       "  margin-bottom: 0.5em;\n",
       "  /* unfitted */\n",
       "  background-color: var(--sklearn-color-unfitted-level-0);\n",
       "}\n",
       "\n",
       "#sk-container-id-6 div.sk-estimator.fitted {\n",
       "  /* fitted */\n",
       "  background-color: var(--sklearn-color-fitted-level-0);\n",
       "}\n",
       "\n",
       "/* on hover */\n",
       "#sk-container-id-6 div.sk-estimator:hover {\n",
       "  /* unfitted */\n",
       "  background-color: var(--sklearn-color-unfitted-level-2);\n",
       "}\n",
       "\n",
       "#sk-container-id-6 div.sk-estimator.fitted:hover {\n",
       "  /* fitted */\n",
       "  background-color: var(--sklearn-color-fitted-level-2);\n",
       "}\n",
       "\n",
       "/* Specification for estimator info (e.g. \"i\" and \"?\") */\n",
       "\n",
       "/* Common style for \"i\" and \"?\" */\n",
       "\n",
       ".sk-estimator-doc-link,\n",
       "a:link.sk-estimator-doc-link,\n",
       "a:visited.sk-estimator-doc-link {\n",
       "  float: right;\n",
       "  font-size: smaller;\n",
       "  line-height: 1em;\n",
       "  font-family: monospace;\n",
       "  background-color: var(--sklearn-color-background);\n",
       "  border-radius: 1em;\n",
       "  height: 1em;\n",
       "  width: 1em;\n",
       "  text-decoration: none !important;\n",
       "  margin-left: 0.5em;\n",
       "  text-align: center;\n",
       "  /* unfitted */\n",
       "  border: var(--sklearn-color-unfitted-level-1) 1pt solid;\n",
       "  color: var(--sklearn-color-unfitted-level-1);\n",
       "}\n",
       "\n",
       ".sk-estimator-doc-link.fitted,\n",
       "a:link.sk-estimator-doc-link.fitted,\n",
       "a:visited.sk-estimator-doc-link.fitted {\n",
       "  /* fitted */\n",
       "  border: var(--sklearn-color-fitted-level-1) 1pt solid;\n",
       "  color: var(--sklearn-color-fitted-level-1);\n",
       "}\n",
       "\n",
       "/* On hover */\n",
       "div.sk-estimator:hover .sk-estimator-doc-link:hover,\n",
       ".sk-estimator-doc-link:hover,\n",
       "div.sk-label-container:hover .sk-estimator-doc-link:hover,\n",
       ".sk-estimator-doc-link:hover {\n",
       "  /* unfitted */\n",
       "  background-color: var(--sklearn-color-unfitted-level-3);\n",
       "  color: var(--sklearn-color-background);\n",
       "  text-decoration: none;\n",
       "}\n",
       "\n",
       "div.sk-estimator.fitted:hover .sk-estimator-doc-link.fitted:hover,\n",
       ".sk-estimator-doc-link.fitted:hover,\n",
       "div.sk-label-container:hover .sk-estimator-doc-link.fitted:hover,\n",
       ".sk-estimator-doc-link.fitted:hover {\n",
       "  /* fitted */\n",
       "  background-color: var(--sklearn-color-fitted-level-3);\n",
       "  color: var(--sklearn-color-background);\n",
       "  text-decoration: none;\n",
       "}\n",
       "\n",
       "/* Span, style for the box shown on hovering the info icon */\n",
       ".sk-estimator-doc-link span {\n",
       "  display: none;\n",
       "  z-index: 9999;\n",
       "  position: relative;\n",
       "  font-weight: normal;\n",
       "  right: .2ex;\n",
       "  padding: .5ex;\n",
       "  margin: .5ex;\n",
       "  width: min-content;\n",
       "  min-width: 20ex;\n",
       "  max-width: 50ex;\n",
       "  color: var(--sklearn-color-text);\n",
       "  box-shadow: 2pt 2pt 4pt #999;\n",
       "  /* unfitted */\n",
       "  background: var(--sklearn-color-unfitted-level-0);\n",
       "  border: .5pt solid var(--sklearn-color-unfitted-level-3);\n",
       "}\n",
       "\n",
       ".sk-estimator-doc-link.fitted span {\n",
       "  /* fitted */\n",
       "  background: var(--sklearn-color-fitted-level-0);\n",
       "  border: var(--sklearn-color-fitted-level-3);\n",
       "}\n",
       "\n",
       ".sk-estimator-doc-link:hover span {\n",
       "  display: block;\n",
       "}\n",
       "\n",
       "/* \"?\"-specific style due to the `<a>` HTML tag */\n",
       "\n",
       "#sk-container-id-6 a.estimator_doc_link {\n",
       "  float: right;\n",
       "  font-size: 1rem;\n",
       "  line-height: 1em;\n",
       "  font-family: monospace;\n",
       "  background-color: var(--sklearn-color-background);\n",
       "  border-radius: 1rem;\n",
       "  height: 1rem;\n",
       "  width: 1rem;\n",
       "  text-decoration: none;\n",
       "  /* unfitted */\n",
       "  color: var(--sklearn-color-unfitted-level-1);\n",
       "  border: var(--sklearn-color-unfitted-level-1) 1pt solid;\n",
       "}\n",
       "\n",
       "#sk-container-id-6 a.estimator_doc_link.fitted {\n",
       "  /* fitted */\n",
       "  border: var(--sklearn-color-fitted-level-1) 1pt solid;\n",
       "  color: var(--sklearn-color-fitted-level-1);\n",
       "}\n",
       "\n",
       "/* On hover */\n",
       "#sk-container-id-6 a.estimator_doc_link:hover {\n",
       "  /* unfitted */\n",
       "  background-color: var(--sklearn-color-unfitted-level-3);\n",
       "  color: var(--sklearn-color-background);\n",
       "  text-decoration: none;\n",
       "}\n",
       "\n",
       "#sk-container-id-6 a.estimator_doc_link.fitted:hover {\n",
       "  /* fitted */\n",
       "  background-color: var(--sklearn-color-fitted-level-3);\n",
       "}\n",
       "</style><div id=\"sk-container-id-6\" class=\"sk-top-container\"><div class=\"sk-text-repr-fallback\"><pre>IsotonicRegression(out_of_bounds=&#x27;clip&#x27;, y_max=1, y_min=0)</pre><b>In a Jupyter environment, please rerun this cell to show the HTML representation or trust the notebook. <br />On GitHub, the HTML representation is unable to render, please try loading this page with nbviewer.org.</b></div><div class=\"sk-container\" hidden><div class=\"sk-item\"><div class=\"sk-estimator fitted sk-toggleable\"><input class=\"sk-toggleable__control sk-hidden--visually\" id=\"sk-estimator-id-6\" type=\"checkbox\" checked><label for=\"sk-estimator-id-6\" class=\"sk-toggleable__label fitted sk-toggleable__label-arrow\"><div><div>IsotonicRegression</div></div><div><a class=\"sk-estimator-doc-link fitted\" rel=\"noreferrer\" target=\"_blank\" href=\"https://scikit-learn.org/1.6/modules/generated/sklearn.isotonic.IsotonicRegression.html\">?<span>Documentation for IsotonicRegression</span></a><span class=\"sk-estimator-doc-link fitted\">i<span>Fitted</span></span></div></label><div class=\"sk-toggleable__content fitted\"><pre>IsotonicRegression(out_of_bounds=&#x27;clip&#x27;, y_max=1, y_min=0)</pre></div> </div></div></div></div>"
      ],
      "text/plain": [
       "IsotonicRegression(out_of_bounds='clip', y_max=1, y_min=0)"
      ]
     },
     "execution_count": 352,
     "metadata": {},
     "output_type": "execute_result"
    }
   ],
   "source": [
    "predictions, targets = best_model.predict(train_dl)\n",
    "calibrator = LogisticRegression()\n",
    "calibrator.fit(predictions, targets.values.ravel())\n",
    "calibrator2 = IsotonicRegression(y_min=0, y_max=1, out_of_bounds=\"clip\")\n",
    "calibrator2.fit(predictions, targets.values.ravel())"
   ]
  },
  {
   "cell_type": "code",
   "execution_count": 353,
   "id": "6cd5a061",
   "metadata": {},
   "outputs": [
    {
     "name": "stdout",
     "output_type": "stream",
     "text": [
      "Validation AUC:\n",
      " 0.9906492970215077\n",
      "\n",
      "Validation Precision Score:\n",
      " 0.8084780388151175\n",
      "\n",
      "Validation F1 Score:\n",
      " 0.8940977125105902\n",
      "\n",
      "\n",
      "LR Calibrated Validation AUC:\n",
      " 0.9906492970215077\n",
      "\n",
      "\n",
      "LR Calibrated Validation Precision Score:\n",
      " 0.8084780388151175\n",
      "\n",
      "\n",
      "LR Calibrated Validation F1 Score:\n",
      " 0.8940977125105902\n",
      "\n",
      "\n",
      "IR Calibrated Validation AUC:\n",
      " 0.9905608185116946\n",
      "\n",
      "\n",
      "IR Calibrated Validation Precision Score:\n",
      " 0.8084780388151175\n",
      "\n",
      "\n",
      "IR Calibrated Validation F1 Score:\n",
      " 0.8940977125105902\n"
     ]
    }
   ],
   "source": [
    "predictions, targets = best_model.predict(val_dl)\n",
    "# Evaluate defaults to compute AUC\n",
    "rn_val_performance = best_model.evaluate(\n",
    "    predictions=predictions,\n",
    "    labels=targets,\n",
    "    multi_class=False\n",
    ")\n",
    "\n",
    "class_predictions = (predictions > 0.5).astype(int)\n",
    "\n",
    "#print('predictions:',predictions,targets)\n",
    "\n",
    "print(\"Validation AUC:\\n\", rn_val_performance)\n",
    "\n",
    "# Evaluate with a different metric\n",
    "rn_val_performance = best_model.evaluate(\n",
    "    predictions=predictions,\n",
    "    labels=targets,\n",
    "    output_metric=precision_score,\n",
    "    multi_class=False\n",
    ")\n",
    "print(\"\\nValidation Precision Score:\\n\", rn_val_performance)\n",
    "\n",
    "# Evaluate with a different metric\n",
    "rn_val_performance = best_model.evaluate(\n",
    "    predictions=predictions,\n",
    "    labels=targets,\n",
    "    output_metric=f1_score,\n",
    "    multi_class=False\n",
    ")\n",
    "print(\"\\nValidation F1 Score:\\n\", rn_val_performance)\n",
    "\n",
    "\n",
    "# Apply calibration transformation\n",
    "predictions_probs = calibrator.predict_proba(predictions)[:, 1]\n",
    "calibrated_predictions = calibrator.predict(predictions)\n",
    "\n",
    "print(\"\\n\\nLR Calibrated Validation AUC:\\n\", roc_auc_score(targets, predictions_probs))\n",
    "print(\"\\n\\nLR Calibrated Validation Precision Score:\\n\", precision_score(targets, calibrated_predictions))\n",
    "print(\"\\n\\nLR Calibrated Validation F1 Score:\\n\", f1_score(targets, calibrated_predictions))\n",
    "\n",
    "# Apply calibration transformation\n",
    "predictions_probs = calibrator2.predict(predictions)\n",
    "calibrated_predictions = (predictions_probs > 0.5).astype(int)\n",
    "\n",
    "print(\"\\n\\nIR Calibrated Validation AUC:\\n\", roc_auc_score(targets, predictions_probs))\n",
    "print(\"\\n\\nIR Calibrated Validation Precision Score:\\n\", precision_score(targets, calibrated_predictions))\n",
    "print(\"\\n\\nIR Calibrated Validation F1 Score:\\n\", f1_score(targets, calibrated_predictions))"
   ]
  },
  {
   "cell_type": "code",
   "execution_count": 379,
   "id": "7529fb59-44be-41be-9507-18472cf78702",
   "metadata": {},
   "outputs": [
    {
     "name": "stderr",
     "output_type": "stream",
     "text": [
      "/home/khamilton/anaconda3/envs/tl/lib/python3.9/site-packages/pandas/core/arrays/masked.py:61: UserWarning: Pandas requires version '1.3.6' or newer of 'bottleneck' (version '1.3.2' currently installed).\n",
      "  from pandas.core import (\n",
      "/home/khamilton/anaconda3/envs/tl/lib/python3.9/site-packages/scipy/__init__.py:146: UserWarning: A NumPy version >=1.16.5 and <1.23.0 is required for this version of SciPy (detected version 1.26.4\n",
      "  warnings.warn(f\"A NumPy version >={np_minversion} and <{np_maxversion}\"\n"
     ]
    },
    {
     "name": "stdout",
     "output_type": "stream",
     "text": [
      "Test AUC:\n",
      " 0.9897786540754877\n"
     ]
    },
    {
     "name": "stderr",
     "output_type": "stream",
     "text": [
      "/home/khamilton/anaconda3/envs/tl/lib/python3.9/site-packages/pandas/core/arrays/masked.py:61: UserWarning: Pandas requires version '1.3.6' or newer of 'bottleneck' (version '1.3.2' currently installed).\n",
      "  from pandas.core import (\n",
      "/home/khamilton/anaconda3/envs/tl/lib/python3.9/site-packages/scipy/__init__.py:146: UserWarning: A NumPy version >=1.16.5 and <1.23.0 is required for this version of SciPy (detected version 1.26.4\n",
      "  warnings.warn(f\"A NumPy version >={np_minversion} and <{np_maxversion}\"\n"
     ]
    },
    {
     "name": "stdout",
     "output_type": "stream",
     "text": [
      "\n",
      "\n",
      "Test Precision Score:\n",
      " 0.814382896015549\n"
     ]
    },
    {
     "name": "stderr",
     "output_type": "stream",
     "text": [
      "/home/khamilton/anaconda3/envs/tl/lib/python3.9/site-packages/pandas/core/arrays/masked.py:61: UserWarning: Pandas requires version '1.3.6' or newer of 'bottleneck' (version '1.3.2' currently installed).\n",
      "  from pandas.core import (\n",
      "/home/khamilton/anaconda3/envs/tl/lib/python3.9/site-packages/scipy/__init__.py:146: UserWarning: A NumPy version >=1.16.5 and <1.23.0 is required for this version of SciPy (detected version 1.26.4\n",
      "  warnings.warn(f\"A NumPy version >={np_minversion} and <{np_maxversion}\"\n"
     ]
    },
    {
     "name": "stdout",
     "output_type": "stream",
     "text": [
      "\n",
      "\n",
      "Test Recall Score:\n",
      " 1.0\n"
     ]
    },
    {
     "name": "stderr",
     "output_type": "stream",
     "text": [
      "/home/khamilton/anaconda3/envs/tl/lib/python3.9/site-packages/pandas/core/arrays/masked.py:61: UserWarning: Pandas requires version '1.3.6' or newer of 'bottleneck' (version '1.3.2' currently installed).\n",
      "  from pandas.core import (\n",
      "/home/khamilton/anaconda3/envs/tl/lib/python3.9/site-packages/scipy/__init__.py:146: UserWarning: A NumPy version >=1.16.5 and <1.23.0 is required for this version of SciPy (detected version 1.26.4\n",
      "  warnings.warn(f\"A NumPy version >={np_minversion} and <{np_maxversion}\"\n"
     ]
    },
    {
     "name": "stdout",
     "output_type": "stream",
     "text": [
      "\n",
      "\n",
      "Test F1 Score:\n",
      " 0.8976968398500268\n",
      "\n",
      "\n",
      "Calibrated Test AUC:\n",
      " 0.9897786540754877\n",
      "\n",
      "\n",
      "Calibrated Test Precision Score:\n",
      " 0.814382896015549\n",
      "\n",
      "\n",
      "Calibrated Test Recall Score:\n",
      " 1.0\n",
      "\n",
      "\n",
      "Calibrated Test F1 Score:\n",
      " 0.8976968398500268\n",
      "\n",
      "\n",
      "IR Calibrated Test AUC:\n",
      " 0.9897785889522929\n",
      "\n",
      "\n",
      "IR Calibrated Test Precision Score:\n",
      " 0.0838\n",
      "\n",
      "\n",
      "IR Calibrated Test Recall Score:\n",
      " 1.0\n",
      "\n",
      "\n",
      "IR Calibrated Test F1 Score:\n",
      " 0.15464107768961063\n"
     ]
    }
   ],
   "source": [
    "predictions, targets = best_model.predict(test_dl)\n",
    "# Evaluate defaults to compute AUC\n",
    "rn_test_performance = best_model.evaluate(\n",
    "    predictions=predictions,\n",
    "    labels=targets,\n",
    "    multi_class=False\n",
    ")\n",
    "\n",
    "#print(predictions, targets)\n",
    "\n",
    "predictions = expit(predictions)\n",
    "class_predictions = (predictions > 0.5).astype(int)\n",
    "print(\"Test AUC:\\n\", rn_test_performance)\n",
    "\n",
    "# Evaluate with a different metric\n",
    "rn_test_performance = best_model.evaluate(\n",
    "    predictions=predictions,\n",
    "    labels=targets,\n",
    "    output_metric=precision_score,\n",
    "    multi_class=False\n",
    ")\n",
    "print(\"\\n\\nTest Precision Score:\\n\", rn_test_performance)\n",
    "\n",
    "rn_test_performance = best_model.evaluate(\n",
    "    predictions=predictions,\n",
    "    labels=targets,\n",
    "    output_metric=recall_score,\n",
    "    multi_class=False\n",
    ")\n",
    "print(\"\\n\\nTest Recall Score:\\n\", rn_test_performance)\n",
    "\n",
    "rn_test_performance = best_model.evaluate(\n",
    "    predictions=predictions,\n",
    "    labels=targets,\n",
    "    output_metric=f1_score,\n",
    "    multi_class=False\n",
    ")\n",
    "print(\"\\n\\nTest F1 Score:\\n\", rn_test_performance)\n",
    "\n",
    "# Apply calibration transformation\n",
    "predictions_probs = calibrator.predict_proba(predictions)[:, 1]\n",
    "calibrated_predictions = calibrator.predict(predictions)\n",
    "\n",
    "print(\"\\n\\nCalibrated Test AUC:\\n\", roc_auc_score(targets, predictions_probs))\n",
    "print(\"\\n\\nCalibrated Test Precision Score:\\n\", precision_score(targets, calibrated_predictions))\n",
    "print(\"\\n\\nCalibrated Test Recall Score:\\n\", recall_score(targets, calibrated_predictions))\n",
    "print(\"\\n\\nCalibrated Test F1 Score:\\n\", f1_score(targets, calibrated_predictions))\n",
    "\n",
    "# Apply calibration transformation\n",
    "predictions_probs = calibrator2.predict(predictions)\n",
    "calibrated_predictions = (predictions_probs > 0.5).astype(int)\n",
    "\n",
    "print(\"\\n\\nIR Calibrated Test AUC:\\n\", roc_auc_score(targets, predictions_probs))\n",
    "print(\"\\n\\nIR Calibrated Test Precision Score:\\n\", precision_score(targets, calibrated_predictions))\n",
    "print(\"\\n\\nIR Calibrated Test Recall Score:\\n\", recall_score(targets, calibrated_predictions))\n",
    "print(\"\\n\\nIR Calibrated Test F1 Score:\\n\", f1_score(targets, calibrated_predictions))"
   ]
  },
  {
   "cell_type": "code",
   "execution_count": 355,
   "id": "af3a4c0d",
   "metadata": {},
   "outputs": [
    {
     "data": {
      "text/plain": [
       "array([[<AxesSubplot:title={'center':'probs_no'}>]], dtype=object)"
      ]
     },
     "execution_count": 355,
     "metadata": {},
     "output_type": "execute_result"
    },
    {
     "data": {
      "image/png": "[encoded data removed]",
      "text/plain": [
       "<Figure size 432x288 with 1 Axes>"
      ]
     },
     "metadata": {
      "needs_background": "light"
     },
     "output_type": "display_data"
    }
   ],
   "source": [
    "predictions.hist()"
   ]
  },
  {
   "cell_type": "code",
   "execution_count": 356,
   "id": "6f33a231-9bf6-410a-87dc-99c624a84797",
   "metadata": {},
   "outputs": [
    {
     "data": {
      "text/plain": [
       "array([[<AxesSubplot:title={'center':'calibrated_predictions'}>]],\n",
       "      dtype=object)"
      ]
     },
     "execution_count": 356,
     "metadata": {},
     "output_type": "execute_result"
    },
    {
     "data": {
      "image/png": "[encoded data removed]",
      "text/plain": [
       "<Figure size 432x288 with 1 Axes>"
      ]
     },
     "metadata": {
      "needs_background": "light"
     },
     "output_type": "display_data"
    }
   ],
   "source": [
    "pd.DataFrame(predictions_probs, columns=['calibrated_predictions']).hist()"
   ]
  },
  {
   "cell_type": "code",
   "execution_count": 357,
   "id": "47511e9f-0d81-4d82-a656-7a32fd71deb7",
   "metadata": {},
   "outputs": [
    {
     "data": {
      "text/plain": [
       "array([[<AxesSubplot:title={'center':'no'}>]], dtype=object)"
      ]
     },
     "execution_count": 357,
     "metadata": {},
     "output_type": "execute_result"
    },
    {
     "data": {
      "image/png": "[encoded data removed]",
      "text/plain": [
       "<Figure size 432x288 with 1 Axes>"
      ]
     },
     "metadata": {
      "needs_background": "light"
     },
     "output_type": "display_data"
    }
   ],
   "source": [
    "targets.hist()"
   ]
  },
  {
   "cell_type": "markdown",
   "id": "9f691841-5a3f-4d83-8c58-b2753f6af9cf",
   "metadata": {},
   "source": [
    "### Check calibration of test data"
   ]
  },
  {
   "cell_type": "code",
   "execution_count": 358,
   "id": "b712fb51-391d-4098-a652-12bc398077f6",
   "metadata": {},
   "outputs": [
    {
     "data": {
      "image/png": "[encoded data removed]",
      "text/plain": [
       "<Figure size 432x288 with 1 Axes>"
      ]
     },
     "metadata": {
      "needs_background": "light"
     },
     "output_type": "display_data"
    }
   ],
   "source": [
    "disp = CalibrationDisplay.from_estimator(calibrator, predictions, targets)\n",
    "disp = CalibrationDisplay.from_predictions(targets, predictions_probs, ax=disp.ax_, name=\"IsotonicRegression\")\n",
    "disp = CalibrationDisplay.from_predictions(targets, predictions, ax=disp.ax_, name=\"Bandit-RRN\")\n",
    "plt.show()"
   ]
  },
  {
   "cell_type": "markdown",
   "id": "84b127fa",
   "metadata": {},
   "source": [
    "# Inspecting the Model"
   ]
  },
  {
   "cell_type": "markdown",
   "id": "b16c882a",
   "metadata": {},
   "source": [
    "### Global Explain"
   ]
  },
  {
   "cell_type": "markdown",
   "id": "9d9292d6",
   "metadata": {},
   "source": [
    "A global explanation prints the logic learned for each class.  The `quantile` parameter is the percent of the model you would like to be explained.\n",
    "\n",
    "We represent our features as values scaled between 0 and 1.  Therefore, we intepret the explanations to mean that large values for a particular feature represent `truthiness` of a predicate, while small values represent `falseness` of a predicate."
   ]
  },
  {
   "cell_type": "markdown",
   "id": "0f263f21-e2e9-4cd1-8b9c-5e652b1af4ce",
   "metadata": {},
   "source": [
    "#### Print Types\n",
    "\n",
    "The explanation and printing methods can all be set to use different `print_type` parameters.  Each will produce a different style of explanation that may be used for different end-users.\n",
    "\n",
    "`logical`: produces a logic statement format such as:\n",
    "\n",
    "    AND(x1, x2)\n",
    "    \n",
    "`logical-natural`: produces a natural language formatted nested tree format, such as:\n",
    "\n",
    "    the following are TRUE:\n",
    "        - x1\n",
    "        - x2\n",
    "        \n",
    "`natural`: produces a natural lanugage paragraph indicating the most important logics, to the least important logics, such as:\n",
    "\n",
    "    Each one of the following must be met.  x1, and x2.\n"
   ]
  },
  {
   "cell_type": "code",
   "execution_count": 359,
   "id": "ed842bcc-ccc8-432b-9080-b36e51135834",
   "metadata": {},
   "outputs": [
    {
     "data": {
      "text/plain": [
       "['no', 'yes']"
      ]
     },
     "execution_count": 359,
     "metadata": {},
     "output_type": "execute_result"
    }
   ],
   "source": [
    "data.target_names"
   ]
  },
  {
   "cell_type": "code",
   "execution_count": 360,
   "id": "813b0d6c-45a3-4a59-a010-cbf2b3951fb1",
   "metadata": {},
   "outputs": [
    {
     "name": "stdout",
     "output_type": "stream",
     "text": [
      "Machine fault was not detected because: \n",
      "\n",
      "AND \n"
     ]
    }
   ],
   "source": [
    "print(best_model.explain(\n",
    "    quantile=1.0,\n",
    "    required_output_thresholds=np.array(0.75),\n",
    "    explain_type='both',\n",
    "    print_type='logical', \n",
    "    explanation_prefix=\"Machine fault was\",\n",
    "    target_names=['not detected'],\n",
    "    ignore_uninformative=True,\n",
    "    rounding_precision=4,\n",
    "    decision_boundary=0.25,\n",
    "    inverse_transform=mms.inverse_transform\n",
    "))"
   ]
  },
  {
   "cell_type": "code",
   "execution_count": 374,
   "id": "1d0d0a4a",
   "metadata": {},
   "outputs": [
    {
     "name": "stdout",
     "output_type": "stream",
     "text": [
      "The machine fault was not detected because: \n",
      "\n",
      "All the following are true: \n"
     ]
    }
   ],
   "source": [
    "print(best_model.explain(\n",
    "    quantile=1.0,\n",
    "    required_output_thresholds=np.array(0.5),\n",
    "    explain_type='both',\n",
    "    print_type='logical-natural', \n",
    "    explanation_prefix=\"The machine fault was\",\n",
    "    target_names=['not detected'],\n",
    "    ignore_uninformative=True,\n",
    "    rounding_precision=3,\n",
    "    decision_boundary=0.5,\n",
    "    inverse_transform=mms.inverse_transform\n",
    "))"
   ]
  },
  {
   "cell_type": "markdown",
   "id": "c18a8229",
   "metadata": {},
   "source": [
    "### Sample Explain"
   ]
  },
  {
   "cell_type": "markdown",
   "id": "a5e9d6fa",
   "metadata": {},
   "source": [
    "A sample explanation prints the logic that was used for a particular sample's predition. The `quantile` parameter is the percent of the model you would like to be explained."
   ]
  },
  {
   "cell_type": "code",
   "execution_count": 375,
   "id": "4dcd6127-3a36-48c6-840e-c2cbb7100c9b",
   "metadata": {
    "tags": []
   },
   "outputs": [],
   "source": [
    "#val_dataset[:10]"
   ]
  },
  {
   "cell_type": "code",
   "execution_count": 363,
   "id": "6c989b52-128d-4edf-b21c-957cebc68acf",
   "metadata": {},
   "outputs": [
    {
     "name": "stdout",
     "output_type": "stream",
     "text": [
      "0: The machine fault was not not detected because: \n",
      "\n",
      "\n",
      "All the following are true: \n",
      "\tThe energy_consumption was less than 5 (100th percentile)\n",
      "\tThe humidity was less than 79.312 (98th percentile)\n",
      "\tThe machine_status was less than 1 (50th percentile)\n",
      "\tThe temperature was between 65.868 and 67.459 (35th and 36th percentiles)\n",
      "\tThe vibration was greater than or equal to 30.688 (36th percentile)\n"
     ]
    }
   ],
   "source": [
    "print(best_model.explain_samples(\n",
    "            val_dataset[0]['features'].unsqueeze(0),\n",
    "            quantile=1.0,\n",
    "            target_names=['not detected'], \n",
    "            explain_type='both',\n",
    "            sample_explanation_prefix=\"The machine fault was\",\n",
    "            print_type='logical-natural',\n",
    "            ignore_uninformative=True,\n",
    "            rounding_precision=3,\n",
    "            decision_boundary=0.8,\n",
    "            inverse_transform=mms.inverse_transform,\n",
    "            min_max_feature_dict={col: {'min': data.data[:, i].min(), 'max': data.data[:, i].max()} for i, col in enumerate(list(data.feature_names))},\n",
    "            simplify=True,\n",
    "            exclusions=None\n",
    "))"
   ]
  },
  {
   "cell_type": "code",
   "execution_count": 365,
   "id": "9c329e0a-f04b-4d90-b904-5fbbd7d844fe",
   "metadata": {},
   "outputs": [
    {
     "name": "stdout",
     "output_type": "stream",
     "text": [
      "0: The machine fault was not detected because: \n",
      "\n",
      "\n",
      "All the following are true: \n",
      "\tThe humidity was greater than or equal to 59.121 (58th percentile)\n",
      "\tThe machine_status was greater than or equal to 1.99 (99th percentile)\n",
      "\tThe temperature was greater than or equal to 45.529 (11th percentile)\n"
     ]
    }
   ],
   "source": [
    "print(best_model.explain_samples(\n",
    "    val_dataset[3]['features'].unsqueeze(0),\n",
    "    quantile=1.0,\n",
    "    target_names=['not detected'], \n",
    "    explain_type='both',\n",
    "    sample_explanation_prefix=\"The machine fault was\",\n",
    "    print_type='logical-natural',\n",
    "    ignore_uninformative=True,\n",
    "    rounding_precision=3,\n",
    "    decision_boundary=0.,\n",
    "    inverse_transform=mms.inverse_transform,\n",
    "    min_max_feature_dict={col: {'min': data.data[:, i].min(), 'max': data.data[:, i].max()} for i, col in enumerate(list(data.feature_names))},\n",
    "    simplify=True,\n",
    "    exclusions=None\n",
    "))"
   ]
  },
  {
   "cell_type": "markdown",
   "id": "e0a47d5d",
   "metadata": {},
   "source": [
    "### Printing the weights"
   ]
  },
  {
   "cell_type": "markdown",
   "id": "80350a16",
   "metadata": {},
   "source": [
    "We can inspect the weights the model learned for each logic to see how important they are to the overall prediction."
   ]
  },
  {
   "cell_type": "code",
   "execution_count": 366,
   "id": "81d8397b-74dd-4ec6-be39-d5d43943bdbd",
   "metadata": {},
   "outputs": [
    {
     "name": "stdout",
     "output_type": "stream",
     "text": [
      "REASONING NETWORK MODEL FOR: negative of not detected\n",
      "Logic at depth 2: the humidity was >= 79.312, the machine_status was >= 1.0, the temperature was >= 67.459\n",
      "output: tensor([0.5000, 0.3686, 0.9856])\n",
      "\n",
      "Logic at depth 1: ['NOT(OR(the humidity was >= 79.312, the machine_status was >= 1.0, the temperature was >= 67.459))']\n",
      "weights: tensor([-1.2098, -0.0243, -0.0298])\n",
      "output: 0.3793398141860962\n",
      "required_threshold: 0.3793591856956482\n",
      "\n",
      "Logic at depth 2: NOT(the energy_consumption was >= 5.0), the temperature was >= 65.868, the vibration was >= 30.688\n",
      "output: tensor([0.6889, 0.3686, 0.3954])\n",
      "\n",
      "Logic at depth 1: ['OR(NOT(the energy_consumption was >= 5.0), the temperature was >= 65.868, the vibration was >= 30.688)']\n",
      "weights: tensor([ 0.0003, -0.0051, -0.0029])\n",
      "output: 0.005153846461325884\n",
      "required_threshold: 0.0052430033683776855\n",
      "\n",
      "Logic at depth 0: ['AND(NOT(OR(the humidity was >= 79.312, the machine_status was >= 1.0, the temperature was >= 67.459)), OR(NOT(the energy_consumption was >= 5.0), the temperature was >= 65.868, the vibration was >= 30.688))']\n",
      "weights: tensor([-1.1920,  0.2592])\n",
      "output: 0.002312183380126953\n",
      "required_threshold: 0.0023353099822998047\n",
      "\n"
     ]
    }
   ],
   "source": [
    "best_model.print_samples(\n",
    "    val_dataset[0]['features'].unsqueeze(0),\n",
    "    quantile=1.0,\n",
    "    target_names=['not detected'], \n",
    "    explain_type='both',\n",
    "    print_type='logical',\n",
    "    ignore_uninformative=False,\n",
    "    rounding_precision=3,\n",
    "    decision_boundary=0.7,\n",
    "    inverse_transform=mms.inverse_transform\n",
    ")"
   ]
  },
  {
   "cell_type": "code",
   "execution_count": 367,
   "id": "cb1326c1",
   "metadata": {},
   "outputs": [
    {
     "name": "stdout",
     "output_type": "stream",
     "text": [
      "REASONING NETWORK MODEL FOR: not detected\n",
      "Logic at depth 2: NOT(the humidity was >= 59.121), NOT(the machine_status was >= 1.99), NOT(the temperature was >= 45.529)\n",
      "output: tensor([1.0000, 0.3631, 0.7840])\n",
      "\n",
      "Logic at depth 1: ['NOT(OR(NOT(the humidity was >= 59.121), NOT(the machine_status was >= 1.99), NOT(the temperature was >= 45.529)))']\n",
      "weights: tensor([-1.2098, -0.0243, -0.0298])\n",
      "output: 0.9781167507171631\n",
      "required_threshold: 0.9721106886863708\n",
      "\n",
      "Logic at depth 2: NOT(the temperature was >= 121.94), NOT(the vibration was >= 113.8), the energy_consumption was >= 0.5\n",
      "output: tensor([0.3844, 0.3631, 0.5469])\n",
      "\n",
      "Logic at depth 1: ['OR(NOT(the temperature was >= 121.94), NOT(the vibration was >= 113.8), the energy_consumption was >= 0.5)']\n",
      "weights: tensor([ 0.0003, -0.0051, -0.0029])\n",
      "output: 0.004655619617551565\n",
      "required_threshold: 0.0\n",
      "\n",
      "Logic at depth 0: ['AND(NOT(OR(NOT(the humidity was >= 59.121), NOT(the machine_status was >= 1.99), NOT(the temperature was >= 45.529))), OR(NOT(the temperature was >= 121.94), NOT(the vibration was >= 113.8), the energy_consumption was >= 0.5))']\n",
      "weights: tensor([-1.1920,  0.2592])\n",
      "output: 0.7158957719802856\n",
      "required_threshold: 0.7087368369102478\n",
      "\n"
     ]
    }
   ],
   "source": [
    "best_model.print_samples(\n",
    "    val_dataset[3]['features'].unsqueeze(0),\n",
    "    quantile=1.0,\n",
    "    target_names=['not detected'], \n",
    "    explain_type='both',\n",
    "    print_type='logical',\n",
    "    ignore_uninformative=False,\n",
    "    rounding_precision=3,\n",
    "    decision_boundary=0.7,\n",
    "    inverse_transform=mms.inverse_transform,\n",
    ")"
   ]
  },
  {
   "cell_type": "code",
   "execution_count": 376,
   "id": "bf22a50e-ac0d-4813-8188-562cf1225680",
   "metadata": {},
   "outputs": [
    {
     "name": "stdout",
     "output_type": "stream",
     "text": [
      "REASONING NETWORK MODEL FOR: not detected\n",
      "Logic at depth 2: NOT(the machine_status was >= 0.975), NOT(the temperature was >= 0.001)\n",
      "output: tensor([0.9750, 0.0070, 0.0000])\n",
      "\n",
      "Logic at depth 1: ['NOT(OR(NOT(the machine_status was >= 0.975), NOT(the temperature was >= 0.001)))']\n",
      "weights: tensor([-1.2098, -0.0243, -0.0298])\n",
      "output: 0.9160000085830688\n",
      "required_threshold: 0.9157207608222961\n",
      "\n",
      "Logic at depth 2: NOT(the temperature was >= 0.0), NOT(the vibration was >= 0.0), the energy_consumption was >= 1.0\n",
      "output: tensor([1., 0., 0.])\n",
      "\n",
      "Logic at depth 1: ['OR(NOT(the temperature was >= 0.0), NOT(the vibration was >= 0.0), the energy_consumption was >= 1.0)']\n",
      "weights: tensor([ 0.0003, -0.0051, -0.0029])\n",
      "output: 0.6159999966621399\n",
      "required_threshold: 0.6147159934043884\n",
      "\n",
      "Logic at depth 0: ['AND(NOT(OR(NOT(the machine_status was >= 0.975), NOT(the temperature was >= 0.001))), OR(NOT(the temperature was >= 0.0), NOT(the vibration was >= 0.0), the energy_consumption was >= 1.0))']\n",
      "weights: tensor([-1.1920,  0.2592])\n",
      "output: 0.8009999990463257\n",
      "required_threshold: 0.800000011920929\n",
      "\n"
     ]
    }
   ],
   "source": [
    "best_model.print(\n",
    "    quantile=1.0,\n",
    "    required_output_thresholds=torch.tensor(0.8),\n",
    "    explain_type='both',\n",
    "    print_type='logical', \n",
    "    target_names=['not detected'],\n",
    "    ignore_uninformative=False,\n",
    "    rounding_precision=3,\n",
    "    decision_boundary=0.7,\n",
    "    # inverse_transform=mms.inverse_transform\n",
    ")"
   ]
  },
  {
   "cell_type": "code",
   "execution_count": 377,
   "id": "1eaf8999-9c3e-4e83-baee-b58226000049",
   "metadata": {},
   "outputs": [
    {
     "name": "stdout",
     "output_type": "stream",
     "text": [
      "REASONING NETWORK MODEL FOR: negative of not detected\n",
      "Logic at depth 2: the humidity was >= 1.0, the machine_status was >= 0.906, the temperature was >= 1.0\n",
      "output: tensor([0.0940, 0.0000, 0.0000])\n",
      "\n",
      "Logic at depth 1: ['NOT(OR(the humidity was >= 1.0, the machine_status was >= 0.906, the temperature was >= 1.0))']\n",
      "weights: tensor([-1.2098, -0.0243, -0.0298])\n",
      "output: 0.8320000171661377\n",
      "required_threshold: 0.8325289487838745\n",
      "\n",
      "Logic at depth 2: NOT(the energy_consumption was >= 1.0), the temperature was >= 0.0, the vibration was >= 0.0\n",
      "output: tensor([0., 1., 1.])\n",
      "\n",
      "Logic at depth 1: ['OR(NOT(the energy_consumption was >= 1.0), the temperature was >= 0.0, the vibration was >= 0.0)']\n",
      "weights: tensor([ 0.0003, -0.0051, -0.0029])\n",
      "output: 0.22699999809265137\n",
      "required_threshold: 0.22943198680877686\n",
      "\n",
      "Logic at depth 0: ['AND(NOT(OR(the humidity was >= 1.0, the machine_status was >= 0.906, the temperature was >= 1.0)), OR(NOT(the energy_consumption was >= 1.0), the temperature was >= 0.0, the vibration was >= 0.0))']\n",
      "weights: tensor([-1.1920,  0.2592])\n",
      "output: 0.5989999771118164\n",
      "required_threshold: 0.6000000238418579\n",
      "\n"
     ]
    }
   ],
   "source": [
    "best_model.print(\n",
    "    quantile=1.0,\n",
    "    required_output_thresholds=torch.tensor(0.6),\n",
    "    explain_type='both',\n",
    "    print_type='logical', \n",
    "    target_names=['not detected'],\n",
    "    ignore_uninformative=False,\n",
    "    rounding_precision=3,\n",
    "    decision_boundary=0.7,\n",
    "    # inverse_transform=mms.inverse_transform\n",
    ")"
   ]
  },
  {
   "cell_type": "code",
   "execution_count": 378,
   "id": "07896ae1-5757-4634-a071-079aba40b7ee",
   "metadata": {},
   "outputs": [
    {
     "name": "stdout",
     "output_type": "stream",
     "text": [
      "REASONING NETWORK MODEL FOR: negative of not detected\n",
      "Logic at depth 2: the humidity was greater than or equal to 1.0, the machine_status was greater than or equal to 0.906, the temperature was greater than or equal to 1.0\n",
      "output: tensor([0.0940, 0.0000, 0.0000])\n",
      "\n",
      "Logic at depth 1: ['NOT the following: \\n\\t- ANY of the following are TRUE: \\n\\t\\t- the humidity was greater than or equal to 1.0, \\n\\t\\t- the machine_status was greater than or equal to 0.906, \\n\\t\\t- the temperature was greater than or equal to 1.0']\n",
      "weights: tensor([-1.2098, -0.0243, -0.0298])\n",
      "output: 0.8320000171661377\n",
      "required_threshold: 0.8325289487838745\n",
      "\n",
      "Logic at depth 2: NOT the energy_consumption was greater than or equal to 1.0, the temperature was greater than or equal to 0.0, the vibration was greater than or equal to 0.0\n",
      "output: tensor([0., 1., 1.])\n",
      "\n",
      "Logic at depth 1: ['ANY of the following are TRUE: \\n\\t- NOT the energy_consumption was greater than or equal to 1.0, \\n\\t- the temperature was greater than or equal to 0.0, \\n\\t- the vibration was greater than or equal to 0.0']\n",
      "weights: tensor([ 0.0003, -0.0051, -0.0029])\n",
      "output: 0.22699999809265137\n",
      "required_threshold: 0.22943198680877686\n",
      "\n",
      "Logic at depth 0: ['ALL the following are TRUE: \\n\\t- ANY of the following are TRUE: \\n\\t\\t- NOT the energy_consumption was greater than or equal to 1.0, \\n\\t\\t- the temperature was greater than or equal to 0.0, \\n\\t\\t- the vibration was greater than or equal to 0.0, \\n\\t- NOT the following: \\n\\t\\t- ANY of the following are TRUE: \\n\\t\\t\\t- the humidity was greater than or equal to 1.0, \\n\\t\\t\\t- the machine_status was greater than or equal to 0.906, \\n\\t\\t\\t- the temperature was greater than or equal to 1.0']\n",
      "weights: tensor([-1.1920,  0.2592])\n",
      "output: 0.5989999771118164\n",
      "required_threshold: 0.6000000238418579\n",
      "\n"
     ]
    }
   ],
   "source": [
    "best_model.print(\n",
    "    quantile=1.0,\n",
    "    required_output_thresholds=torch.tensor(0.6),\n",
    "    explain_type='both',\n",
    "    print_type='logical-natural',\n",
    "    target_names=['not detected'],\n",
    "    ignore_uninformative=False,\n",
    "    rounding_precision=3,\n",
    "    decision_boundary=0.7,\n",
    "    # inverse_transform=mms.inverse_transform\n",
    ")"
   ]
  },
  {
   "cell_type": "code",
   "execution_count": null,
   "id": "dd02cc5f-9aad-4eb7-8b10-bb292381676b",
   "metadata": {},
   "outputs": [],
   "source": []
  }
 ],
 "metadata": {
  "kernelspec": {
   "display_name": "Python (torchlogic)",
   "language": "python",
   "name": "tl"
  },
  "language_info": {
   "codemirror_mode": {
    "name": "ipython",
    "version": 3
   },
   "file_extension": ".py",
   "mimetype": "text/x-python",
   "name": "python",
   "nbconvert_exporter": "python",
   "pygments_lexer": "ipython3",
   "version": "3.9.7"
  }
 },
 "nbformat": 4,
 "nbformat_minor": 5
}
